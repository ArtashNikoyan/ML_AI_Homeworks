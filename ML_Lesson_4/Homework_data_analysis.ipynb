{
 "cells": [
  {
   "cell_type": "code",
   "execution_count": 110,
   "id": "125fcfe4-ee3b-4817-a2e9-cd227cfe3489",
   "metadata": {},
   "outputs": [],
   "source": [
    "import numpy as np\n",
    "import pandas as pd\n",
    "import matplotlib.pyplot as plt\n",
    "\n",
    "from sklearn.model_selection import train_test_split, KFold, cross_val_score\n",
    "\n",
    "from sklearn.linear_model import LogisticRegression\n",
    "from sklearn.neighbors import KNeighborsClassifier\n",
    "from sklearn.naive_bayes import GaussianNB\n",
    "\n",
    "from sklearn.preprocessing import MinMaxScaler, StandardScaler, RobustScaler\n",
    "\n",
    "from sklearn.metrics import accuracy_score, confusion_matrix, f1_score, precision_score, recall_score, classification_report"
   ]
  },
  {
   "cell_type": "markdown",
   "id": "2c2ce5c8-bff6-46c0-bb33-d26cf15ce794",
   "metadata": {
    "jp-MarkdownHeadingCollapsed": true
   },
   "source": [
    "## Data optimization"
   ]
  },
  {
   "cell_type": "code",
   "execution_count": 70,
   "id": "4309db30-93e6-4424-a0a7-52740c7dcafe",
   "metadata": {},
   "outputs": [],
   "source": [
    "min_max = MinMaxScaler()\n",
    "stand = StandardScaler()\n",
    "robu = RobustScaler()"
   ]
  },
  {
   "cell_type": "code",
   "execution_count": 71,
   "id": "d4b82b48-81a5-497b-bff0-23413e52a74c",
   "metadata": {},
   "outputs": [
    {
     "data": {
      "text/html": [
       "<div>\n",
       "<style scoped>\n",
       "    .dataframe tbody tr th:only-of-type {\n",
       "        vertical-align: middle;\n",
       "    }\n",
       "\n",
       "    .dataframe tbody tr th {\n",
       "        vertical-align: top;\n",
       "    }\n",
       "\n",
       "    .dataframe thead th {\n",
       "        text-align: right;\n",
       "    }\n",
       "</style>\n",
       "<table border=\"1\" class=\"dataframe\">\n",
       "  <thead>\n",
       "    <tr style=\"text-align: right;\">\n",
       "      <th></th>\n",
       "      <th>Age</th>\n",
       "      <th>Sex</th>\n",
       "      <th>ChestPainType</th>\n",
       "      <th>RestingBP</th>\n",
       "      <th>Cholesterol</th>\n",
       "      <th>FastingBS</th>\n",
       "      <th>RestingECG</th>\n",
       "      <th>MaxHR</th>\n",
       "      <th>ExerciseAngina</th>\n",
       "      <th>Oldpeak</th>\n",
       "      <th>ST_Slope</th>\n",
       "      <th>HeartDisease</th>\n",
       "    </tr>\n",
       "  </thead>\n",
       "  <tbody>\n",
       "    <tr>\n",
       "      <th>0</th>\n",
       "      <td>40</td>\n",
       "      <td>M</td>\n",
       "      <td>ATA</td>\n",
       "      <td>140</td>\n",
       "      <td>289</td>\n",
       "      <td>0</td>\n",
       "      <td>Normal</td>\n",
       "      <td>172</td>\n",
       "      <td>N</td>\n",
       "      <td>0.0</td>\n",
       "      <td>Up</td>\n",
       "      <td>0</td>\n",
       "    </tr>\n",
       "    <tr>\n",
       "      <th>1</th>\n",
       "      <td>49</td>\n",
       "      <td>F</td>\n",
       "      <td>NAP</td>\n",
       "      <td>160</td>\n",
       "      <td>180</td>\n",
       "      <td>0</td>\n",
       "      <td>Normal</td>\n",
       "      <td>156</td>\n",
       "      <td>N</td>\n",
       "      <td>1.0</td>\n",
       "      <td>Flat</td>\n",
       "      <td>1</td>\n",
       "    </tr>\n",
       "    <tr>\n",
       "      <th>2</th>\n",
       "      <td>37</td>\n",
       "      <td>M</td>\n",
       "      <td>ATA</td>\n",
       "      <td>130</td>\n",
       "      <td>283</td>\n",
       "      <td>0</td>\n",
       "      <td>ST</td>\n",
       "      <td>98</td>\n",
       "      <td>N</td>\n",
       "      <td>0.0</td>\n",
       "      <td>Up</td>\n",
       "      <td>0</td>\n",
       "    </tr>\n",
       "    <tr>\n",
       "      <th>3</th>\n",
       "      <td>48</td>\n",
       "      <td>F</td>\n",
       "      <td>ASY</td>\n",
       "      <td>138</td>\n",
       "      <td>214</td>\n",
       "      <td>0</td>\n",
       "      <td>Normal</td>\n",
       "      <td>108</td>\n",
       "      <td>Y</td>\n",
       "      <td>1.5</td>\n",
       "      <td>Flat</td>\n",
       "      <td>1</td>\n",
       "    </tr>\n",
       "    <tr>\n",
       "      <th>4</th>\n",
       "      <td>54</td>\n",
       "      <td>M</td>\n",
       "      <td>NAP</td>\n",
       "      <td>150</td>\n",
       "      <td>195</td>\n",
       "      <td>0</td>\n",
       "      <td>Normal</td>\n",
       "      <td>122</td>\n",
       "      <td>N</td>\n",
       "      <td>0.0</td>\n",
       "      <td>Up</td>\n",
       "      <td>0</td>\n",
       "    </tr>\n",
       "    <tr>\n",
       "      <th>...</th>\n",
       "      <td>...</td>\n",
       "      <td>...</td>\n",
       "      <td>...</td>\n",
       "      <td>...</td>\n",
       "      <td>...</td>\n",
       "      <td>...</td>\n",
       "      <td>...</td>\n",
       "      <td>...</td>\n",
       "      <td>...</td>\n",
       "      <td>...</td>\n",
       "      <td>...</td>\n",
       "      <td>...</td>\n",
       "    </tr>\n",
       "    <tr>\n",
       "      <th>913</th>\n",
       "      <td>45</td>\n",
       "      <td>M</td>\n",
       "      <td>TA</td>\n",
       "      <td>110</td>\n",
       "      <td>264</td>\n",
       "      <td>0</td>\n",
       "      <td>Normal</td>\n",
       "      <td>132</td>\n",
       "      <td>N</td>\n",
       "      <td>1.2</td>\n",
       "      <td>Flat</td>\n",
       "      <td>1</td>\n",
       "    </tr>\n",
       "    <tr>\n",
       "      <th>914</th>\n",
       "      <td>68</td>\n",
       "      <td>M</td>\n",
       "      <td>ASY</td>\n",
       "      <td>144</td>\n",
       "      <td>193</td>\n",
       "      <td>1</td>\n",
       "      <td>Normal</td>\n",
       "      <td>141</td>\n",
       "      <td>N</td>\n",
       "      <td>3.4</td>\n",
       "      <td>Flat</td>\n",
       "      <td>1</td>\n",
       "    </tr>\n",
       "    <tr>\n",
       "      <th>915</th>\n",
       "      <td>57</td>\n",
       "      <td>M</td>\n",
       "      <td>ASY</td>\n",
       "      <td>130</td>\n",
       "      <td>131</td>\n",
       "      <td>0</td>\n",
       "      <td>Normal</td>\n",
       "      <td>115</td>\n",
       "      <td>Y</td>\n",
       "      <td>1.2</td>\n",
       "      <td>Flat</td>\n",
       "      <td>1</td>\n",
       "    </tr>\n",
       "    <tr>\n",
       "      <th>916</th>\n",
       "      <td>57</td>\n",
       "      <td>F</td>\n",
       "      <td>ATA</td>\n",
       "      <td>130</td>\n",
       "      <td>236</td>\n",
       "      <td>0</td>\n",
       "      <td>LVH</td>\n",
       "      <td>174</td>\n",
       "      <td>N</td>\n",
       "      <td>0.0</td>\n",
       "      <td>Flat</td>\n",
       "      <td>1</td>\n",
       "    </tr>\n",
       "    <tr>\n",
       "      <th>917</th>\n",
       "      <td>38</td>\n",
       "      <td>M</td>\n",
       "      <td>NAP</td>\n",
       "      <td>138</td>\n",
       "      <td>175</td>\n",
       "      <td>0</td>\n",
       "      <td>Normal</td>\n",
       "      <td>173</td>\n",
       "      <td>N</td>\n",
       "      <td>0.0</td>\n",
       "      <td>Up</td>\n",
       "      <td>0</td>\n",
       "    </tr>\n",
       "  </tbody>\n",
       "</table>\n",
       "<p>918 rows × 12 columns</p>\n",
       "</div>"
      ],
      "text/plain": [
       "     Age Sex ChestPainType  RestingBP  Cholesterol  FastingBS RestingECG  \\\n",
       "0     40   M           ATA        140          289          0     Normal   \n",
       "1     49   F           NAP        160          180          0     Normal   \n",
       "2     37   M           ATA        130          283          0         ST   \n",
       "3     48   F           ASY        138          214          0     Normal   \n",
       "4     54   M           NAP        150          195          0     Normal   \n",
       "..   ...  ..           ...        ...          ...        ...        ...   \n",
       "913   45   M            TA        110          264          0     Normal   \n",
       "914   68   M           ASY        144          193          1     Normal   \n",
       "915   57   M           ASY        130          131          0     Normal   \n",
       "916   57   F           ATA        130          236          0        LVH   \n",
       "917   38   M           NAP        138          175          0     Normal   \n",
       "\n",
       "     MaxHR ExerciseAngina  Oldpeak ST_Slope  HeartDisease  \n",
       "0      172              N      0.0       Up             0  \n",
       "1      156              N      1.0     Flat             1  \n",
       "2       98              N      0.0       Up             0  \n",
       "3      108              Y      1.5     Flat             1  \n",
       "4      122              N      0.0       Up             0  \n",
       "..     ...            ...      ...      ...           ...  \n",
       "913    132              N      1.2     Flat             1  \n",
       "914    141              N      3.4     Flat             1  \n",
       "915    115              Y      1.2     Flat             1  \n",
       "916    174              N      0.0     Flat             1  \n",
       "917    173              N      0.0       Up             0  \n",
       "\n",
       "[918 rows x 12 columns]"
      ]
     },
     "execution_count": 71,
     "metadata": {},
     "output_type": "execute_result"
    }
   ],
   "source": [
    "data = pd.read_csv('heart.csv')\n",
    "data"
   ]
  },
  {
   "cell_type": "code",
   "execution_count": 72,
   "id": "da16c59c-3a59-4a59-92cf-3b0830336771",
   "metadata": {},
   "outputs": [
    {
     "name": "stdout",
     "output_type": "stream",
     "text": [
      "<class 'pandas.core.frame.DataFrame'>\n",
      "RangeIndex: 918 entries, 0 to 917\n",
      "Data columns (total 12 columns):\n",
      " #   Column          Non-Null Count  Dtype  \n",
      "---  ------          --------------  -----  \n",
      " 0   Age             918 non-null    int64  \n",
      " 1   Sex             918 non-null    object \n",
      " 2   ChestPainType   918 non-null    object \n",
      " 3   RestingBP       918 non-null    int64  \n",
      " 4   Cholesterol     918 non-null    int64  \n",
      " 5   FastingBS       918 non-null    int64  \n",
      " 6   RestingECG      918 non-null    object \n",
      " 7   MaxHR           918 non-null    int64  \n",
      " 8   ExerciseAngina  918 non-null    object \n",
      " 9   Oldpeak         918 non-null    float64\n",
      " 10  ST_Slope        918 non-null    object \n",
      " 11  HeartDisease    918 non-null    int64  \n",
      "dtypes: float64(1), int64(6), object(5)\n",
      "memory usage: 281.4 KB\n"
     ]
    }
   ],
   "source": [
    "data.info(memory_usage='deep')"
   ]
  },
  {
   "cell_type": "code",
   "execution_count": 73,
   "id": "f2a809ba-05a7-4c25-994e-527ba9b2b697",
   "metadata": {},
   "outputs": [
    {
     "data": {
      "text/plain": [
       "<Axes: >"
      ]
     },
     "execution_count": 73,
     "metadata": {},
     "output_type": "execute_result"
    },
    {
     "data": {
      "image/png": "[encoded data removed]",
      "text/plain": [
       "<Figure size 640x480 with 1 Axes>"
      ]
     },
     "metadata": {},
     "output_type": "display_data"
    }
   ],
   "source": [
    "data['Age'].hist(bins=40)"
   ]
  },
  {
   "cell_type": "code",
   "execution_count": 74,
   "id": "d1e3e1a7-a8ba-4821-82a6-89251f2fa280",
   "metadata": {},
   "outputs": [],
   "source": [
    "data['Age'] = (stand.fit_transform(data[['Age']])).astype('float16')"
   ]
  },
  {
   "cell_type": "code",
   "execution_count": 75,
   "id": "03392552-0a7f-4e39-970d-ab0cb9cb0baf",
   "metadata": {},
   "outputs": [],
   "source": [
    "data['Sex'] = (data['Sex'] == 'M').astype('int8')"
   ]
  },
  {
   "cell_type": "code",
   "execution_count": 76,
   "id": "21f7ef62-cddb-4696-a925-56723923d257",
   "metadata": {},
   "outputs": [],
   "source": [
    "data = pd.get_dummies(data, columns=['ChestPainType'], dtype='int8')"
   ]
  },
  {
   "cell_type": "code",
   "execution_count": 77,
   "id": "c1dc7340-404c-430b-9fc4-eef1e74372aa",
   "metadata": {},
   "outputs": [
    {
     "data": {
      "image/png": "[encoded data removed]",
      "text/plain": [
       "<Figure size 640x480 with 1 Axes>"
      ]
     },
     "metadata": {},
     "output_type": "display_data"
    }
   ],
   "source": [
    "data['RestingBP'].hist(bins=40);"
   ]
  },
  {
   "cell_type": "code",
   "execution_count": 78,
   "id": "bb053262-0684-4c4b-b864-ff070bcc7450",
   "metadata": {},
   "outputs": [],
   "source": [
    "data['RestingBP'] = (stand.fit_transform(data[['RestingBP']])).astype('float16')"
   ]
  },
  {
   "cell_type": "code",
   "execution_count": 79,
   "id": "9aa88a44-6fbc-4070-a395-8c74db5b3bee",
   "metadata": {},
   "outputs": [
    {
     "data": {
      "text/plain": [
       "<Axes: >"
      ]
     },
     "execution_count": 79,
     "metadata": {},
     "output_type": "execute_result"
    },
    {
     "data": {
      "image/png": "[encoded data removed]",
      "text/plain": [
       "<Figure size 640x480 with 1 Axes>"
      ]
     },
     "metadata": {},
     "output_type": "display_data"
    }
   ],
   "source": [
    "data['Cholesterol'].hist(bins=40)"
   ]
  },
  {
   "cell_type": "code",
   "execution_count": 80,
   "id": "683e7dd0-de90-4045-8b0b-6c785c9ea52b",
   "metadata": {},
   "outputs": [],
   "source": [
    "data['Cholesterol'] = min_max.fit_transform(data[['Cholesterol']]).astype('float16')"
   ]
  },
  {
   "cell_type": "code",
   "execution_count": 81,
   "id": "00dda74d-9981-4408-ac5f-e6a425ab2430",
   "metadata": {},
   "outputs": [
    {
     "data": {
      "text/plain": [
       "RestingECG\n",
       "Normal    552\n",
       "LVH       188\n",
       "ST        178\n",
       "Name: count, dtype: int64"
      ]
     },
     "execution_count": 81,
     "metadata": {},
     "output_type": "execute_result"
    }
   ],
   "source": [
    "data['RestingECG'].value_counts()"
   ]
  },
  {
   "cell_type": "code",
   "execution_count": 82,
   "id": "56cf2085-f27e-4836-95fa-6174eccaf0d4",
   "metadata": {},
   "outputs": [],
   "source": [
    "data = pd.get_dummies(data, columns=['RestingECG'], dtype='int8')"
   ]
  },
  {
   "cell_type": "code",
   "execution_count": 83,
   "id": "3d8c81f2-c61f-4646-a776-b5759c38aa55",
   "metadata": {},
   "outputs": [
    {
     "data": {
      "text/plain": [
       "<Axes: >"
      ]
     },
     "execution_count": 83,
     "metadata": {},
     "output_type": "execute_result"
    },
    {
     "data": {
      "image/png": "[encoded data removed]",
      "text/plain": [
       "<Figure size 640x480 with 1 Axes>"
      ]
     },
     "metadata": {},
     "output_type": "display_data"
    }
   ],
   "source": [
    "data['MaxHR'].hist(bins=40)"
   ]
  },
  {
   "cell_type": "code",
   "execution_count": 84,
   "id": "6291f909-f039-49e5-8991-cc023849da22",
   "metadata": {},
   "outputs": [],
   "source": [
    "data['MaxHR'] = (stand.fit_transform(data[['MaxHR']])).astype('float16')"
   ]
  },
  {
   "cell_type": "code",
   "execution_count": 85,
   "id": "9fb6c483-7261-4b2a-bf42-c39f3b24d332",
   "metadata": {},
   "outputs": [
    {
     "data": {
      "text/plain": [
       "ExerciseAngina\n",
       "N    547\n",
       "Y    371\n",
       "Name: count, dtype: int64"
      ]
     },
     "execution_count": 85,
     "metadata": {},
     "output_type": "execute_result"
    }
   ],
   "source": [
    "data['ExerciseAngina'].value_counts()"
   ]
  },
  {
   "cell_type": "code",
   "execution_count": 86,
   "id": "cf1d95f0-c21c-4d47-afe2-b6c5a4275b31",
   "metadata": {},
   "outputs": [],
   "source": [
    "data['ExerciseAngina'] = (data['ExerciseAngina'] == 'Y').astype('int8')"
   ]
  },
  {
   "cell_type": "code",
   "execution_count": 87,
   "id": "16011f97-870b-4374-8ce8-d1acc03dc002",
   "metadata": {},
   "outputs": [
    {
     "data": {
      "text/plain": [
       "<Axes: >"
      ]
     },
     "execution_count": 87,
     "metadata": {},
     "output_type": "execute_result"
    },
    {
     "data": {
      "image/png": "[encoded data removed]",
      "text/plain": [
       "<Figure size 640x480 with 1 Axes>"
      ]
     },
     "metadata": {},
     "output_type": "display_data"
    }
   ],
   "source": [
    "data['Oldpeak'].hist(bins=40)"
   ]
  },
  {
   "cell_type": "code",
   "execution_count": 88,
   "id": "b4b5c326-81de-4e6a-8c29-eddd80c17428",
   "metadata": {},
   "outputs": [],
   "source": [
    "data['Oldpeak'] = (robu.fit_transform(data[['Oldpeak']])).astype('float16')"
   ]
  },
  {
   "cell_type": "code",
   "execution_count": 89,
   "id": "1e4f7ca5-c994-435d-bacf-f918c6846a28",
   "metadata": {},
   "outputs": [
    {
     "data": {
      "text/plain": [
       "ST_Slope\n",
       "Flat    460\n",
       "Up      395\n",
       "Down     63\n",
       "Name: count, dtype: int64"
      ]
     },
     "execution_count": 89,
     "metadata": {},
     "output_type": "execute_result"
    }
   ],
   "source": [
    "data['ST_Slope'].value_counts()"
   ]
  },
  {
   "cell_type": "code",
   "execution_count": 90,
   "id": "e0c707e9-0222-4b05-87f8-d5a88cdbf9eb",
   "metadata": {},
   "outputs": [],
   "source": [
    "data = pd.get_dummies(data, columns=['ST_Slope'], dtype='int8')"
   ]
  },
  {
   "cell_type": "code",
   "execution_count": 91,
   "id": "c3ad2b8b-3d62-4469-b908-5fb34e2a109b",
   "metadata": {},
   "outputs": [],
   "source": [
    "data['HeartDisease'] = data['HeartDisease'].astype('int8')\n",
    "data['FastingBS'] = data['FastingBS'].astype('int8')"
   ]
  },
  {
   "cell_type": "code",
   "execution_count": 92,
   "id": "6420a2f1-5a31-427b-a64b-b618d867f6f1",
   "metadata": {},
   "outputs": [
    {
     "name": "stderr",
     "output_type": "stream",
     "text": [
      "C:\\Users\\lenov\\AppData\\Local\\Programs\\Python\\Python312\\Lib\\site-packages\\pandas\\io\\formats\\format.py:1458: RuntimeWarning: overflow encountered in cast\n",
      "  has_large_values = (abs_vals > 1e6).any()\n"
     ]
    },
    {
     "data": {
      "text/html": [
       "<div>\n",
       "<style scoped>\n",
       "    .dataframe tbody tr th:only-of-type {\n",
       "        vertical-align: middle;\n",
       "    }\n",
       "\n",
       "    .dataframe tbody tr th {\n",
       "        vertical-align: top;\n",
       "    }\n",
       "\n",
       "    .dataframe thead th {\n",
       "        text-align: right;\n",
       "    }\n",
       "</style>\n",
       "<table border=\"1\" class=\"dataframe\">\n",
       "  <thead>\n",
       "    <tr style=\"text-align: right;\">\n",
       "      <th></th>\n",
       "      <th>Age</th>\n",
       "      <th>Sex</th>\n",
       "      <th>RestingBP</th>\n",
       "      <th>Cholesterol</th>\n",
       "      <th>FastingBS</th>\n",
       "      <th>MaxHR</th>\n",
       "      <th>ExerciseAngina</th>\n",
       "      <th>Oldpeak</th>\n",
       "      <th>HeartDisease</th>\n",
       "      <th>ChestPainType_ASY</th>\n",
       "      <th>ChestPainType_ATA</th>\n",
       "      <th>ChestPainType_NAP</th>\n",
       "      <th>ChestPainType_TA</th>\n",
       "      <th>RestingECG_LVH</th>\n",
       "      <th>RestingECG_Normal</th>\n",
       "      <th>RestingECG_ST</th>\n",
       "      <th>ST_Slope_Down</th>\n",
       "      <th>ST_Slope_Flat</th>\n",
       "      <th>ST_Slope_Up</th>\n",
       "    </tr>\n",
       "  </thead>\n",
       "  <tbody>\n",
       "    <tr>\n",
       "      <th>0</th>\n",
       "      <td>-1.433594</td>\n",
       "      <td>1</td>\n",
       "      <td>0.410889</td>\n",
       "      <td>0.479248</td>\n",
       "      <td>0</td>\n",
       "      <td>1.382812</td>\n",
       "      <td>0</td>\n",
       "      <td>-0.399902</td>\n",
       "      <td>0</td>\n",
       "      <td>0</td>\n",
       "      <td>1</td>\n",
       "      <td>0</td>\n",
       "      <td>0</td>\n",
       "      <td>0</td>\n",
       "      <td>1</td>\n",
       "      <td>0</td>\n",
       "      <td>0</td>\n",
       "      <td>0</td>\n",
       "      <td>1</td>\n",
       "    </tr>\n",
       "    <tr>\n",
       "      <th>1</th>\n",
       "      <td>-0.478516</td>\n",
       "      <td>0</td>\n",
       "      <td>1.492188</td>\n",
       "      <td>0.298584</td>\n",
       "      <td>0</td>\n",
       "      <td>0.754395</td>\n",
       "      <td>0</td>\n",
       "      <td>0.266602</td>\n",
       "      <td>1</td>\n",
       "      <td>0</td>\n",
       "      <td>0</td>\n",
       "      <td>1</td>\n",
       "      <td>0</td>\n",
       "      <td>0</td>\n",
       "      <td>1</td>\n",
       "      <td>0</td>\n",
       "      <td>0</td>\n",
       "      <td>1</td>\n",
       "      <td>0</td>\n",
       "    </tr>\n",
       "    <tr>\n",
       "      <th>2</th>\n",
       "      <td>-1.750977</td>\n",
       "      <td>1</td>\n",
       "      <td>-0.129517</td>\n",
       "      <td>0.469238</td>\n",
       "      <td>0</td>\n",
       "      <td>-1.525391</td>\n",
       "      <td>0</td>\n",
       "      <td>-0.399902</td>\n",
       "      <td>0</td>\n",
       "      <td>0</td>\n",
       "      <td>1</td>\n",
       "      <td>0</td>\n",
       "      <td>0</td>\n",
       "      <td>0</td>\n",
       "      <td>0</td>\n",
       "      <td>1</td>\n",
       "      <td>0</td>\n",
       "      <td>0</td>\n",
       "      <td>1</td>\n",
       "    </tr>\n",
       "    <tr>\n",
       "      <th>3</th>\n",
       "      <td>-0.584473</td>\n",
       "      <td>0</td>\n",
       "      <td>0.302734</td>\n",
       "      <td>0.354980</td>\n",
       "      <td>0</td>\n",
       "      <td>-1.131836</td>\n",
       "      <td>1</td>\n",
       "      <td>0.600098</td>\n",
       "      <td>1</td>\n",
       "      <td>1</td>\n",
       "      <td>0</td>\n",
       "      <td>0</td>\n",
       "      <td>0</td>\n",
       "      <td>0</td>\n",
       "      <td>1</td>\n",
       "      <td>0</td>\n",
       "      <td>0</td>\n",
       "      <td>1</td>\n",
       "      <td>0</td>\n",
       "    </tr>\n",
       "    <tr>\n",
       "      <th>4</th>\n",
       "      <td>0.051880</td>\n",
       "      <td>1</td>\n",
       "      <td>0.951172</td>\n",
       "      <td>0.323486</td>\n",
       "      <td>0</td>\n",
       "      <td>-0.582031</td>\n",
       "      <td>0</td>\n",
       "      <td>-0.399902</td>\n",
       "      <td>0</td>\n",
       "      <td>0</td>\n",
       "      <td>0</td>\n",
       "      <td>1</td>\n",
       "      <td>0</td>\n",
       "      <td>0</td>\n",
       "      <td>1</td>\n",
       "      <td>0</td>\n",
       "      <td>0</td>\n",
       "      <td>0</td>\n",
       "      <td>1</td>\n",
       "    </tr>\n",
       "    <tr>\n",
       "      <th>...</th>\n",
       "      <td>...</td>\n",
       "      <td>...</td>\n",
       "      <td>...</td>\n",
       "      <td>...</td>\n",
       "      <td>...</td>\n",
       "      <td>...</td>\n",
       "      <td>...</td>\n",
       "      <td>...</td>\n",
       "      <td>...</td>\n",
       "      <td>...</td>\n",
       "      <td>...</td>\n",
       "      <td>...</td>\n",
       "      <td>...</td>\n",
       "      <td>...</td>\n",
       "      <td>...</td>\n",
       "      <td>...</td>\n",
       "      <td>...</td>\n",
       "      <td>...</td>\n",
       "      <td>...</td>\n",
       "    </tr>\n",
       "    <tr>\n",
       "      <th>913</th>\n",
       "      <td>-0.902832</td>\n",
       "      <td>1</td>\n",
       "      <td>-1.209961</td>\n",
       "      <td>0.437744</td>\n",
       "      <td>0</td>\n",
       "      <td>-0.188965</td>\n",
       "      <td>0</td>\n",
       "      <td>0.399902</td>\n",
       "      <td>1</td>\n",
       "      <td>0</td>\n",
       "      <td>0</td>\n",
       "      <td>0</td>\n",
       "      <td>1</td>\n",
       "      <td>0</td>\n",
       "      <td>1</td>\n",
       "      <td>0</td>\n",
       "      <td>0</td>\n",
       "      <td>1</td>\n",
       "      <td>0</td>\n",
       "    </tr>\n",
       "    <tr>\n",
       "      <th>914</th>\n",
       "      <td>1.537109</td>\n",
       "      <td>1</td>\n",
       "      <td>0.626953</td>\n",
       "      <td>0.320068</td>\n",
       "      <td>1</td>\n",
       "      <td>0.164673</td>\n",
       "      <td>0</td>\n",
       "      <td>1.866211</td>\n",
       "      <td>1</td>\n",
       "      <td>1</td>\n",
       "      <td>0</td>\n",
       "      <td>0</td>\n",
       "      <td>0</td>\n",
       "      <td>0</td>\n",
       "      <td>1</td>\n",
       "      <td>0</td>\n",
       "      <td>0</td>\n",
       "      <td>1</td>\n",
       "      <td>0</td>\n",
       "    </tr>\n",
       "    <tr>\n",
       "      <th>915</th>\n",
       "      <td>0.370117</td>\n",
       "      <td>1</td>\n",
       "      <td>-0.129517</td>\n",
       "      <td>0.217285</td>\n",
       "      <td>0</td>\n",
       "      <td>-0.856934</td>\n",
       "      <td>1</td>\n",
       "      <td>0.399902</td>\n",
       "      <td>1</td>\n",
       "      <td>1</td>\n",
       "      <td>0</td>\n",
       "      <td>0</td>\n",
       "      <td>0</td>\n",
       "      <td>0</td>\n",
       "      <td>1</td>\n",
       "      <td>0</td>\n",
       "      <td>0</td>\n",
       "      <td>1</td>\n",
       "      <td>0</td>\n",
       "    </tr>\n",
       "    <tr>\n",
       "      <th>916</th>\n",
       "      <td>0.370117</td>\n",
       "      <td>0</td>\n",
       "      <td>-0.129517</td>\n",
       "      <td>0.391357</td>\n",
       "      <td>0</td>\n",
       "      <td>1.461914</td>\n",
       "      <td>0</td>\n",
       "      <td>-0.399902</td>\n",
       "      <td>1</td>\n",
       "      <td>0</td>\n",
       "      <td>1</td>\n",
       "      <td>0</td>\n",
       "      <td>0</td>\n",
       "      <td>1</td>\n",
       "      <td>0</td>\n",
       "      <td>0</td>\n",
       "      <td>0</td>\n",
       "      <td>1</td>\n",
       "      <td>0</td>\n",
       "    </tr>\n",
       "    <tr>\n",
       "      <th>917</th>\n",
       "      <td>-1.645508</td>\n",
       "      <td>1</td>\n",
       "      <td>0.302734</td>\n",
       "      <td>0.290283</td>\n",
       "      <td>0</td>\n",
       "      <td>1.421875</td>\n",
       "      <td>0</td>\n",
       "      <td>-0.399902</td>\n",
       "      <td>0</td>\n",
       "      <td>0</td>\n",
       "      <td>0</td>\n",
       "      <td>1</td>\n",
       "      <td>0</td>\n",
       "      <td>0</td>\n",
       "      <td>1</td>\n",
       "      <td>0</td>\n",
       "      <td>0</td>\n",
       "      <td>0</td>\n",
       "      <td>1</td>\n",
       "    </tr>\n",
       "  </tbody>\n",
       "</table>\n",
       "<p>918 rows × 19 columns</p>\n",
       "</div>"
      ],
      "text/plain": [
       "          Age  Sex  RestingBP  Cholesterol  FastingBS     MaxHR  \\\n",
       "0   -1.433594    1   0.410889     0.479248          0  1.382812   \n",
       "1   -0.478516    0   1.492188     0.298584          0  0.754395   \n",
       "2   -1.750977    1  -0.129517     0.469238          0 -1.525391   \n",
       "3   -0.584473    0   0.302734     0.354980          0 -1.131836   \n",
       "4    0.051880    1   0.951172     0.323486          0 -0.582031   \n",
       "..        ...  ...        ...          ...        ...       ...   \n",
       "913 -0.902832    1  -1.209961     0.437744          0 -0.188965   \n",
       "914  1.537109    1   0.626953     0.320068          1  0.164673   \n",
       "915  0.370117    1  -0.129517     0.217285          0 -0.856934   \n",
       "916  0.370117    0  -0.129517     0.391357          0  1.461914   \n",
       "917 -1.645508    1   0.302734     0.290283          0  1.421875   \n",
       "\n",
       "     ExerciseAngina   Oldpeak  HeartDisease  ChestPainType_ASY  \\\n",
       "0                 0 -0.399902             0                  0   \n",
       "1                 0  0.266602             1                  0   \n",
       "2                 0 -0.399902             0                  0   \n",
       "3                 1  0.600098             1                  1   \n",
       "4                 0 -0.399902             0                  0   \n",
       "..              ...       ...           ...                ...   \n",
       "913               0  0.399902             1                  0   \n",
       "914               0  1.866211             1                  1   \n",
       "915               1  0.399902             1                  1   \n",
       "916               0 -0.399902             1                  0   \n",
       "917               0 -0.399902             0                  0   \n",
       "\n",
       "     ChestPainType_ATA  ChestPainType_NAP  ChestPainType_TA  RestingECG_LVH  \\\n",
       "0                    1                  0                 0               0   \n",
       "1                    0                  1                 0               0   \n",
       "2                    1                  0                 0               0   \n",
       "3                    0                  0                 0               0   \n",
       "4                    0                  1                 0               0   \n",
       "..                 ...                ...               ...             ...   \n",
       "913                  0                  0                 1               0   \n",
       "914                  0                  0                 0               0   \n",
       "915                  0                  0                 0               0   \n",
       "916                  1                  0                 0               1   \n",
       "917                  0                  1                 0               0   \n",
       "\n",
       "     RestingECG_Normal  RestingECG_ST  ST_Slope_Down  ST_Slope_Flat  \\\n",
       "0                    1              0              0              0   \n",
       "1                    1              0              0              1   \n",
       "2                    0              1              0              0   \n",
       "3                    1              0              0              1   \n",
       "4                    1              0              0              0   \n",
       "..                 ...            ...            ...            ...   \n",
       "913                  1              0              0              1   \n",
       "914                  1              0              0              1   \n",
       "915                  1              0              0              1   \n",
       "916                  0              0              0              1   \n",
       "917                  1              0              0              0   \n",
       "\n",
       "     ST_Slope_Up  \n",
       "0              1  \n",
       "1              0  \n",
       "2              1  \n",
       "3              0  \n",
       "4              1  \n",
       "..           ...  \n",
       "913            0  \n",
       "914            0  \n",
       "915            0  \n",
       "916            0  \n",
       "917            1  \n",
       "\n",
       "[918 rows x 19 columns]"
      ]
     },
     "execution_count": 92,
     "metadata": {},
     "output_type": "execute_result"
    }
   ],
   "source": [
    "data"
   ]
  },
  {
   "cell_type": "code",
   "execution_count": 93,
   "id": "80764697-151a-4ece-a708-25cf606c5b88",
   "metadata": {},
   "outputs": [
    {
     "name": "stdout",
     "output_type": "stream",
     "text": [
      "<class 'pandas.core.frame.DataFrame'>\n",
      "RangeIndex: 918 entries, 0 to 917\n",
      "Data columns (total 19 columns):\n",
      " #   Column             Non-Null Count  Dtype  \n",
      "---  ------             --------------  -----  \n",
      " 0   Age                918 non-null    float16\n",
      " 1   Sex                918 non-null    int8   \n",
      " 2   RestingBP          918 non-null    float16\n",
      " 3   Cholesterol        918 non-null    float16\n",
      " 4   FastingBS          918 non-null    int8   \n",
      " 5   MaxHR              918 non-null    float16\n",
      " 6   ExerciseAngina     918 non-null    int8   \n",
      " 7   Oldpeak            918 non-null    float16\n",
      " 8   HeartDisease       918 non-null    int8   \n",
      " 9   ChestPainType_ASY  918 non-null    int8   \n",
      " 10  ChestPainType_ATA  918 non-null    int8   \n",
      " 11  ChestPainType_NAP  918 non-null    int8   \n",
      " 12  ChestPainType_TA   918 non-null    int8   \n",
      " 13  RestingECG_LVH     918 non-null    int8   \n",
      " 14  RestingECG_Normal  918 non-null    int8   \n",
      " 15  RestingECG_ST      918 non-null    int8   \n",
      " 16  ST_Slope_Down      918 non-null    int8   \n",
      " 17  ST_Slope_Flat      918 non-null    int8   \n",
      " 18  ST_Slope_Up        918 non-null    int8   \n",
      "dtypes: float16(5), int8(14)\n",
      "memory usage: 21.6 KB\n"
     ]
    }
   ],
   "source": [
    "data.info(memory_usage='deep')"
   ]
  },
  {
   "cell_type": "markdown",
   "id": "ea334ae8-2647-4183-9eaf-0a99c6ee1f92",
   "metadata": {},
   "source": [
    "## Model Learning"
   ]
  },
  {
   "cell_type": "code",
   "execution_count": 221,
   "id": "ad5c14c4-2613-4d07-aa89-d902b6cdd647",
   "metadata": {},
   "outputs": [
    {
     "name": "stderr",
     "output_type": "stream",
     "text": [
      "C:\\Users\\lenov\\AppData\\Local\\Programs\\Python\\Python312\\Lib\\site-packages\\pandas\\io\\formats\\format.py:1458: RuntimeWarning: overflow encountered in cast\n",
      "  has_large_values = (abs_vals > 1e6).any()\n"
     ]
    },
    {
     "data": {
      "text/html": [
       "<div>\n",
       "<style scoped>\n",
       "    .dataframe tbody tr th:only-of-type {\n",
       "        vertical-align: middle;\n",
       "    }\n",
       "\n",
       "    .dataframe tbody tr th {\n",
       "        vertical-align: top;\n",
       "    }\n",
       "\n",
       "    .dataframe thead th {\n",
       "        text-align: right;\n",
       "    }\n",
       "</style>\n",
       "<table border=\"1\" class=\"dataframe\">\n",
       "  <thead>\n",
       "    <tr style=\"text-align: right;\">\n",
       "      <th></th>\n",
       "      <th>Age</th>\n",
       "      <th>Sex</th>\n",
       "      <th>RestingBP</th>\n",
       "      <th>Cholesterol</th>\n",
       "      <th>FastingBS</th>\n",
       "      <th>MaxHR</th>\n",
       "      <th>ExerciseAngina</th>\n",
       "      <th>Oldpeak</th>\n",
       "      <th>HeartDisease</th>\n",
       "      <th>ChestPainType_ASY</th>\n",
       "      <th>ChestPainType_ATA</th>\n",
       "      <th>ChestPainType_NAP</th>\n",
       "      <th>ChestPainType_TA</th>\n",
       "      <th>RestingECG_LVH</th>\n",
       "      <th>RestingECG_Normal</th>\n",
       "      <th>RestingECG_ST</th>\n",
       "      <th>ST_Slope_Down</th>\n",
       "      <th>ST_Slope_Flat</th>\n",
       "      <th>ST_Slope_Up</th>\n",
       "    </tr>\n",
       "  </thead>\n",
       "  <tbody>\n",
       "    <tr>\n",
       "      <th>0</th>\n",
       "      <td>-1.433594</td>\n",
       "      <td>1</td>\n",
       "      <td>0.410889</td>\n",
       "      <td>0.479248</td>\n",
       "      <td>0</td>\n",
       "      <td>1.382812</td>\n",
       "      <td>0</td>\n",
       "      <td>-0.399902</td>\n",
       "      <td>0</td>\n",
       "      <td>0</td>\n",
       "      <td>1</td>\n",
       "      <td>0</td>\n",
       "      <td>0</td>\n",
       "      <td>0</td>\n",
       "      <td>1</td>\n",
       "      <td>0</td>\n",
       "      <td>0</td>\n",
       "      <td>0</td>\n",
       "      <td>1</td>\n",
       "    </tr>\n",
       "    <tr>\n",
       "      <th>1</th>\n",
       "      <td>-0.478516</td>\n",
       "      <td>0</td>\n",
       "      <td>1.492188</td>\n",
       "      <td>0.298584</td>\n",
       "      <td>0</td>\n",
       "      <td>0.754395</td>\n",
       "      <td>0</td>\n",
       "      <td>0.266602</td>\n",
       "      <td>1</td>\n",
       "      <td>0</td>\n",
       "      <td>0</td>\n",
       "      <td>1</td>\n",
       "      <td>0</td>\n",
       "      <td>0</td>\n",
       "      <td>1</td>\n",
       "      <td>0</td>\n",
       "      <td>0</td>\n",
       "      <td>1</td>\n",
       "      <td>0</td>\n",
       "    </tr>\n",
       "    <tr>\n",
       "      <th>2</th>\n",
       "      <td>-1.750977</td>\n",
       "      <td>1</td>\n",
       "      <td>-0.129517</td>\n",
       "      <td>0.469238</td>\n",
       "      <td>0</td>\n",
       "      <td>-1.525391</td>\n",
       "      <td>0</td>\n",
       "      <td>-0.399902</td>\n",
       "      <td>0</td>\n",
       "      <td>0</td>\n",
       "      <td>1</td>\n",
       "      <td>0</td>\n",
       "      <td>0</td>\n",
       "      <td>0</td>\n",
       "      <td>0</td>\n",
       "      <td>1</td>\n",
       "      <td>0</td>\n",
       "      <td>0</td>\n",
       "      <td>1</td>\n",
       "    </tr>\n",
       "    <tr>\n",
       "      <th>3</th>\n",
       "      <td>-0.584473</td>\n",
       "      <td>0</td>\n",
       "      <td>0.302734</td>\n",
       "      <td>0.354980</td>\n",
       "      <td>0</td>\n",
       "      <td>-1.131836</td>\n",
       "      <td>1</td>\n",
       "      <td>0.600098</td>\n",
       "      <td>1</td>\n",
       "      <td>1</td>\n",
       "      <td>0</td>\n",
       "      <td>0</td>\n",
       "      <td>0</td>\n",
       "      <td>0</td>\n",
       "      <td>1</td>\n",
       "      <td>0</td>\n",
       "      <td>0</td>\n",
       "      <td>1</td>\n",
       "      <td>0</td>\n",
       "    </tr>\n",
       "    <tr>\n",
       "      <th>4</th>\n",
       "      <td>0.051880</td>\n",
       "      <td>1</td>\n",
       "      <td>0.951172</td>\n",
       "      <td>0.323486</td>\n",
       "      <td>0</td>\n",
       "      <td>-0.582031</td>\n",
       "      <td>0</td>\n",
       "      <td>-0.399902</td>\n",
       "      <td>0</td>\n",
       "      <td>0</td>\n",
       "      <td>0</td>\n",
       "      <td>1</td>\n",
       "      <td>0</td>\n",
       "      <td>0</td>\n",
       "      <td>1</td>\n",
       "      <td>0</td>\n",
       "      <td>0</td>\n",
       "      <td>0</td>\n",
       "      <td>1</td>\n",
       "    </tr>\n",
       "    <tr>\n",
       "      <th>...</th>\n",
       "      <td>...</td>\n",
       "      <td>...</td>\n",
       "      <td>...</td>\n",
       "      <td>...</td>\n",
       "      <td>...</td>\n",
       "      <td>...</td>\n",
       "      <td>...</td>\n",
       "      <td>...</td>\n",
       "      <td>...</td>\n",
       "      <td>...</td>\n",
       "      <td>...</td>\n",
       "      <td>...</td>\n",
       "      <td>...</td>\n",
       "      <td>...</td>\n",
       "      <td>...</td>\n",
       "      <td>...</td>\n",
       "      <td>...</td>\n",
       "      <td>...</td>\n",
       "      <td>...</td>\n",
       "    </tr>\n",
       "    <tr>\n",
       "      <th>913</th>\n",
       "      <td>-0.902832</td>\n",
       "      <td>1</td>\n",
       "      <td>-1.209961</td>\n",
       "      <td>0.437744</td>\n",
       "      <td>0</td>\n",
       "      <td>-0.188965</td>\n",
       "      <td>0</td>\n",
       "      <td>0.399902</td>\n",
       "      <td>1</td>\n",
       "      <td>0</td>\n",
       "      <td>0</td>\n",
       "      <td>0</td>\n",
       "      <td>1</td>\n",
       "      <td>0</td>\n",
       "      <td>1</td>\n",
       "      <td>0</td>\n",
       "      <td>0</td>\n",
       "      <td>1</td>\n",
       "      <td>0</td>\n",
       "    </tr>\n",
       "    <tr>\n",
       "      <th>914</th>\n",
       "      <td>1.537109</td>\n",
       "      <td>1</td>\n",
       "      <td>0.626953</td>\n",
       "      <td>0.320068</td>\n",
       "      <td>1</td>\n",
       "      <td>0.164673</td>\n",
       "      <td>0</td>\n",
       "      <td>1.866211</td>\n",
       "      <td>1</td>\n",
       "      <td>1</td>\n",
       "      <td>0</td>\n",
       "      <td>0</td>\n",
       "      <td>0</td>\n",
       "      <td>0</td>\n",
       "      <td>1</td>\n",
       "      <td>0</td>\n",
       "      <td>0</td>\n",
       "      <td>1</td>\n",
       "      <td>0</td>\n",
       "    </tr>\n",
       "    <tr>\n",
       "      <th>915</th>\n",
       "      <td>0.370117</td>\n",
       "      <td>1</td>\n",
       "      <td>-0.129517</td>\n",
       "      <td>0.217285</td>\n",
       "      <td>0</td>\n",
       "      <td>-0.856934</td>\n",
       "      <td>1</td>\n",
       "      <td>0.399902</td>\n",
       "      <td>1</td>\n",
       "      <td>1</td>\n",
       "      <td>0</td>\n",
       "      <td>0</td>\n",
       "      <td>0</td>\n",
       "      <td>0</td>\n",
       "      <td>1</td>\n",
       "      <td>0</td>\n",
       "      <td>0</td>\n",
       "      <td>1</td>\n",
       "      <td>0</td>\n",
       "    </tr>\n",
       "    <tr>\n",
       "      <th>916</th>\n",
       "      <td>0.370117</td>\n",
       "      <td>0</td>\n",
       "      <td>-0.129517</td>\n",
       "      <td>0.391357</td>\n",
       "      <td>0</td>\n",
       "      <td>1.461914</td>\n",
       "      <td>0</td>\n",
       "      <td>-0.399902</td>\n",
       "      <td>1</td>\n",
       "      <td>0</td>\n",
       "      <td>1</td>\n",
       "      <td>0</td>\n",
       "      <td>0</td>\n",
       "      <td>1</td>\n",
       "      <td>0</td>\n",
       "      <td>0</td>\n",
       "      <td>0</td>\n",
       "      <td>1</td>\n",
       "      <td>0</td>\n",
       "    </tr>\n",
       "    <tr>\n",
       "      <th>917</th>\n",
       "      <td>-1.645508</td>\n",
       "      <td>1</td>\n",
       "      <td>0.302734</td>\n",
       "      <td>0.290283</td>\n",
       "      <td>0</td>\n",
       "      <td>1.421875</td>\n",
       "      <td>0</td>\n",
       "      <td>-0.399902</td>\n",
       "      <td>0</td>\n",
       "      <td>0</td>\n",
       "      <td>0</td>\n",
       "      <td>1</td>\n",
       "      <td>0</td>\n",
       "      <td>0</td>\n",
       "      <td>1</td>\n",
       "      <td>0</td>\n",
       "      <td>0</td>\n",
       "      <td>0</td>\n",
       "      <td>1</td>\n",
       "    </tr>\n",
       "  </tbody>\n",
       "</table>\n",
       "<p>918 rows × 19 columns</p>\n",
       "</div>"
      ],
      "text/plain": [
       "          Age  Sex  RestingBP  Cholesterol  FastingBS     MaxHR  \\\n",
       "0   -1.433594    1   0.410889     0.479248          0  1.382812   \n",
       "1   -0.478516    0   1.492188     0.298584          0  0.754395   \n",
       "2   -1.750977    1  -0.129517     0.469238          0 -1.525391   \n",
       "3   -0.584473    0   0.302734     0.354980          0 -1.131836   \n",
       "4    0.051880    1   0.951172     0.323486          0 -0.582031   \n",
       "..        ...  ...        ...          ...        ...       ...   \n",
       "913 -0.902832    1  -1.209961     0.437744          0 -0.188965   \n",
       "914  1.537109    1   0.626953     0.320068          1  0.164673   \n",
       "915  0.370117    1  -0.129517     0.217285          0 -0.856934   \n",
       "916  0.370117    0  -0.129517     0.391357          0  1.461914   \n",
       "917 -1.645508    1   0.302734     0.290283          0  1.421875   \n",
       "\n",
       "     ExerciseAngina   Oldpeak  HeartDisease  ChestPainType_ASY  \\\n",
       "0                 0 -0.399902             0                  0   \n",
       "1                 0  0.266602             1                  0   \n",
       "2                 0 -0.399902             0                  0   \n",
       "3                 1  0.600098             1                  1   \n",
       "4                 0 -0.399902             0                  0   \n",
       "..              ...       ...           ...                ...   \n",
       "913               0  0.399902             1                  0   \n",
       "914               0  1.866211             1                  1   \n",
       "915               1  0.399902             1                  1   \n",
       "916               0 -0.399902             1                  0   \n",
       "917               0 -0.399902             0                  0   \n",
       "\n",
       "     ChestPainType_ATA  ChestPainType_NAP  ChestPainType_TA  RestingECG_LVH  \\\n",
       "0                    1                  0                 0               0   \n",
       "1                    0                  1                 0               0   \n",
       "2                    1                  0                 0               0   \n",
       "3                    0                  0                 0               0   \n",
       "4                    0                  1                 0               0   \n",
       "..                 ...                ...               ...             ...   \n",
       "913                  0                  0                 1               0   \n",
       "914                  0                  0                 0               0   \n",
       "915                  0                  0                 0               0   \n",
       "916                  1                  0                 0               1   \n",
       "917                  0                  1                 0               0   \n",
       "\n",
       "     RestingECG_Normal  RestingECG_ST  ST_Slope_Down  ST_Slope_Flat  \\\n",
       "0                    1              0              0              0   \n",
       "1                    1              0              0              1   \n",
       "2                    0              1              0              0   \n",
       "3                    1              0              0              1   \n",
       "4                    1              0              0              0   \n",
       "..                 ...            ...            ...            ...   \n",
       "913                  1              0              0              1   \n",
       "914                  1              0              0              1   \n",
       "915                  1              0              0              1   \n",
       "916                  0              0              0              1   \n",
       "917                  1              0              0              0   \n",
       "\n",
       "     ST_Slope_Up  \n",
       "0              1  \n",
       "1              0  \n",
       "2              1  \n",
       "3              0  \n",
       "4              1  \n",
       "..           ...  \n",
       "913            0  \n",
       "914            0  \n",
       "915            0  \n",
       "916            0  \n",
       "917            1  \n",
       "\n",
       "[918 rows x 19 columns]"
      ]
     },
     "execution_count": 221,
     "metadata": {},
     "output_type": "execute_result"
    }
   ],
   "source": [
    "data"
   ]
  },
  {
   "cell_type": "code",
   "execution_count": 222,
   "id": "1d9d0ac1-f72c-4c33-a5e4-80d1a8f3b91e",
   "metadata": {},
   "outputs": [],
   "source": [
    "X = data.drop('HeartDisease', axis=1)\n",
    "y = data['HeartDisease']"
   ]
  },
  {
   "cell_type": "markdown",
   "id": "969605e9-e04a-4748-9a18-38e231d8b2c1",
   "metadata": {
    "jp-MarkdownHeadingCollapsed": true
   },
   "source": [
    "### Data selection"
   ]
  },
  {
   "cell_type": "code",
   "execution_count": 223,
   "id": "e4dc8e82-02fa-47f4-ab9a-0b9f7afc53a5",
   "metadata": {},
   "outputs": [
    {
     "name": "stdout",
     "output_type": "stream",
     "text": [
      "X_train shape: (734, 18)\n",
      "y_train shape: (734,)\n",
      "X_test shape: (184, 18)\n",
      "y_test shape: (184,)\n"
     ]
    }
   ],
   "source": [
    "# X_train, X_test, y_train, y_test = train_test_split(X, y, test_size=.2, random_state=42)\n",
    "kf = KFold(n_splits=5, shuffle=True, random_state=42)\n",
    "\n",
    "print(f'X_train shape: {X_train.shape}')\n",
    "print(f'y_train shape: {y_train.shape}')\n",
    "print(f'X_test shape: {X_test.shape}')\n",
    "print(f'y_test shape: {y_test.shape}')"
   ]
  },
  {
   "cell_type": "markdown",
   "id": "827636b2-2ebf-41f4-8e68-ed2c9dcfa855",
   "metadata": {
    "jp-MarkdownHeadingCollapsed": true
   },
   "source": [
    "### LogisticRegression"
   ]
  },
  {
   "cell_type": "code",
   "execution_count": 224,
   "id": "a7f06974-8da9-40b2-b8cd-794a505f60fc",
   "metadata": {},
   "outputs": [],
   "source": [
    "model_Log = LogisticRegression(max_iter=1000)\n",
    "model_Log.fit(X_train, y_train)\n",
    "y_pred_Log = model_Log.predict(X_test)"
   ]
  },
  {
   "cell_type": "code",
   "execution_count": 225,
   "id": "fdf130d4-9dbd-408e-b5dc-d84b69a64a0f",
   "metadata": {},
   "outputs": [
    {
     "data": {
      "text/plain": [
       "(array([0, 0, 1, 1, 0, 1, 1, 0, 1, 1, 1, 0, 1, 0, 1, 1, 0, 1, 1, 0, 1, 1,\n",
       "        0, 1, 1, 1, 0, 1, 0, 0, 1, 0, 1, 1, 1, 0, 1, 0, 1, 1, 1, 1, 1, 0,\n",
       "        0, 1, 1, 1, 1, 0, 0, 0, 1, 1, 1, 0, 0, 1, 1, 1, 0, 0, 0, 1, 0, 1,\n",
       "        1, 1, 1, 1, 0, 0, 1, 1, 0, 1, 0, 1, 0, 1, 0, 1, 1, 0, 1, 1, 0, 1,\n",
       "        0, 0, 0, 1, 1, 0, 1, 0, 1, 0, 1, 1, 0, 1, 0, 0, 1, 1, 0, 0, 1, 0,\n",
       "        1, 1, 0, 0, 1, 0, 1, 0, 1, 0, 1, 1, 0, 1, 0, 0, 0, 0, 0, 0, 0, 1,\n",
       "        1, 0, 1, 0, 1, 1, 0, 1, 0, 0, 1, 1, 1, 1, 1, 0, 0, 0, 0, 1, 1, 0,\n",
       "        1, 0, 0, 0, 0, 1, 0, 0, 1, 0, 1, 1, 1, 1, 0, 0, 1, 1, 0, 1, 0, 1,\n",
       "        1, 1, 0, 0, 1, 1, 0, 1], dtype=int8),\n",
       " array([0, 1, 1, 1, 0, 1, 1, 0, 1, 1, 0, 0, 0, 0, 1, 1, 0, 1, 1, 0, 1, 0,\n",
       "        0, 0, 1, 1, 0, 1, 0, 0, 1, 1, 0, 1, 1, 0, 1, 0, 1, 1, 1, 1, 1, 0,\n",
       "        0, 0, 1, 1, 1, 0, 1, 0, 1, 1, 1, 0, 0, 1, 1, 1, 0, 0, 0, 1, 0, 1,\n",
       "        1, 1, 1, 1, 0, 0, 1, 1, 0, 1, 0, 1, 0, 1, 1, 1, 1, 0, 1, 1, 0, 1,\n",
       "        0, 0, 1, 1, 1, 0, 0, 0, 1, 0, 1, 1, 0, 1, 1, 0, 1, 1, 0, 1, 1, 0,\n",
       "        1, 1, 0, 1, 1, 0, 1, 0, 1, 0, 1, 1, 1, 1, 0, 0, 0, 1, 0, 1, 0, 1,\n",
       "        1, 1, 1, 0, 1, 1, 0, 1, 0, 0, 1, 1, 1, 0, 1, 0, 0, 1, 0, 1, 1, 0,\n",
       "        1, 0, 1, 0, 0, 1, 0, 0, 1, 0, 1, 1, 1, 1, 0, 0, 1, 1, 0, 0, 0, 1,\n",
       "        1, 1, 0, 1, 1, 1, 0, 1], dtype=int8))"
      ]
     },
     "execution_count": 225,
     "metadata": {},
     "output_type": "execute_result"
    }
   ],
   "source": [
    "y_pred_Log, np.array(y_test)"
   ]
  },
  {
   "cell_type": "code",
   "execution_count": 226,
   "id": "e6f21c21-2935-4ba2-93a6-eeb0014d0396",
   "metadata": {},
   "outputs": [],
   "source": [
    "accs_Log = cross_val_score(model_Log, X, y, cv=kf, scoring='accuracy')"
   ]
  },
  {
   "cell_type": "code",
   "execution_count": 227,
   "id": "cd6fa3a4-e72e-4170-814d-ac2837a3dbb4",
   "metadata": {},
   "outputs": [
    {
     "data": {
      "text/plain": [
       "np.float64(0.8616060822047992)"
      ]
     },
     "execution_count": 227,
     "metadata": {},
     "output_type": "execute_result"
    }
   ],
   "source": [
    "accs_Log.mean()"
   ]
  },
  {
   "cell_type": "code",
   "execution_count": 228,
   "id": "949f73f6-ac2d-45e3-9bcf-a45bd416eadc",
   "metadata": {},
   "outputs": [
    {
     "name": "stdout",
     "output_type": "stream",
     "text": [
      "              precision    recall  f1-score   support\n",
      "\n",
      "           0       0.82      0.88      0.85        77\n",
      "           1       0.91      0.86      0.88       107\n",
      "\n",
      "    accuracy                           0.87       184\n",
      "   macro avg       0.87      0.87      0.87       184\n",
      "weighted avg       0.87      0.87      0.87       184\n",
      "\n"
     ]
    }
   ],
   "source": [
    "print(classification_report(y_test, y_pred_Log))"
   ]
  },
  {
   "cell_type": "markdown",
   "id": "0ea15c3c-75d8-4ce3-8aee-fa9a8662c2eb",
   "metadata": {
    "jp-MarkdownHeadingCollapsed": true
   },
   "source": [
    "### KNeighborsClassifier"
   ]
  },
  {
   "cell_type": "code",
   "execution_count": 229,
   "id": "e892e435-52c9-46b4-af6b-547b39eb9967",
   "metadata": {},
   "outputs": [
    {
     "data": {
      "text/plain": [
       "29"
      ]
     },
     "execution_count": 229,
     "metadata": {},
     "output_type": "execute_result"
    }
   ],
   "source": [
    "scores = []\n",
    "neighbors = range(1, 31)  # проверяем от 1 до 30 соседей\n",
    "for k in neighbors:\n",
    "    model = KNeighborsClassifier(n_neighbors=k)\n",
    "    cv_score = cross_val_score(model, X, y, cv=5, scoring='f1').mean()\n",
    "    scores.append(cv_score)\n",
    "\n",
    "neighbors[np.argmax(scores)]"
   ]
  },
  {
   "cell_type": "code",
   "execution_count": 230,
   "id": "02f7fb67-5e69-454b-b757-f8f41bf5be72",
   "metadata": {},
   "outputs": [
    {
     "data": {
      "image/png": "[encoded data removed]",
      "text/plain": [
       "<Figure size 640x480 with 1 Axes>"
      ]
     },
     "metadata": {},
     "output_type": "display_data"
    }
   ],
   "source": [
    "plt.plot(range(1, 31), scores, marker='o')\n",
    "plt.xlabel('k')\n",
    "plt.ylabel('F1')\n",
    "plt.show()"
   ]
  },
  {
   "cell_type": "code",
   "execution_count": 231,
   "id": "61e0eea1-5711-470e-b8d9-f9ded39a4b8e",
   "metadata": {},
   "outputs": [],
   "source": [
    "model_KNN = KNeighborsClassifier(n_neighbors=29)\n",
    "model_KNN.fit(X_train, y_train)\n",
    "y_pred_KNN = model_KNN.predict(X_test)"
   ]
  },
  {
   "cell_type": "code",
   "execution_count": 232,
   "id": "5c02a9a2-2917-4557-b3c1-17c890d26765",
   "metadata": {},
   "outputs": [
    {
     "data": {
      "text/plain": [
       "(array([0, 1, 1, 1, 0, 1, 1, 0, 1, 1, 1, 0, 1, 0, 1, 0, 0, 0, 1, 0, 1, 1,\n",
       "        0, 1, 1, 1, 0, 1, 0, 0, 1, 0, 1, 1, 1, 0, 1, 0, 1, 1, 1, 1, 1, 0,\n",
       "        0, 1, 1, 1, 1, 1, 0, 0, 1, 1, 0, 0, 0, 1, 1, 1, 0, 0, 0, 1, 0, 1,\n",
       "        1, 1, 1, 1, 0, 0, 1, 1, 0, 1, 0, 1, 0, 1, 0, 1, 1, 0, 1, 1, 0, 1,\n",
       "        0, 0, 0, 1, 1, 0, 0, 0, 1, 0, 1, 1, 0, 1, 1, 0, 1, 1, 0, 0, 1, 0,\n",
       "        1, 1, 0, 0, 1, 0, 1, 0, 1, 0, 1, 1, 0, 1, 0, 0, 0, 0, 0, 1, 0, 1,\n",
       "        1, 0, 1, 0, 1, 1, 0, 1, 0, 0, 1, 1, 1, 1, 1, 0, 0, 0, 0, 1, 1, 0,\n",
       "        1, 0, 0, 0, 0, 1, 0, 0, 1, 0, 1, 1, 0, 1, 0, 0, 1, 1, 0, 1, 0, 1,\n",
       "        0, 1, 0, 1, 1, 1, 0, 1], dtype=int8),\n",
       " array([0, 1, 1, 1, 0, 1, 1, 0, 1, 1, 0, 0, 0, 0, 1, 1, 0, 1, 1, 0, 1, 0,\n",
       "        0, 0, 1, 1, 0, 1, 0, 0, 1, 1, 0, 1, 1, 0, 1, 0, 1, 1, 1, 1, 1, 0,\n",
       "        0, 0, 1, 1, 1, 0, 1, 0, 1, 1, 1, 0, 0, 1, 1, 1, 0, 0, 0, 1, 0, 1,\n",
       "        1, 1, 1, 1, 0, 0, 1, 1, 0, 1, 0, 1, 0, 1, 1, 1, 1, 0, 1, 1, 0, 1,\n",
       "        0, 0, 1, 1, 1, 0, 0, 0, 1, 0, 1, 1, 0, 1, 1, 0, 1, 1, 0, 1, 1, 0,\n",
       "        1, 1, 0, 1, 1, 0, 1, 0, 1, 0, 1, 1, 1, 1, 0, 0, 0, 1, 0, 1, 0, 1,\n",
       "        1, 1, 1, 0, 1, 1, 0, 1, 0, 0, 1, 1, 1, 0, 1, 0, 0, 1, 0, 1, 1, 0,\n",
       "        1, 0, 1, 0, 0, 1, 0, 0, 1, 0, 1, 1, 1, 1, 0, 0, 1, 1, 0, 0, 0, 1,\n",
       "        1, 1, 0, 1, 1, 1, 0, 1], dtype=int8))"
      ]
     },
     "execution_count": 232,
     "metadata": {},
     "output_type": "execute_result"
    }
   ],
   "source": [
    "y_pred_KNN, np.array(y_test)"
   ]
  },
  {
   "cell_type": "code",
   "execution_count": 236,
   "id": "453c306b-b58b-4802-addb-2c176258685c",
   "metadata": {},
   "outputs": [
    {
     "data": {
      "text/plain": [
       "np.float64(0.8796001544501306)"
      ]
     },
     "execution_count": 236,
     "metadata": {},
     "output_type": "execute_result"
    }
   ],
   "source": [
    "accs_KNN = cross_val_score(model_KNN, X, y, cv=kf, scoring='f1')\n",
    "accs_KNN.mean()"
   ]
  },
  {
   "cell_type": "code",
   "execution_count": 235,
   "id": "25c7d27e-5887-42f7-8242-289b70a978ca",
   "metadata": {},
   "outputs": [
    {
     "name": "stdout",
     "output_type": "stream",
     "text": [
      "              precision    recall  f1-score   support\n",
      "\n",
      "           0       0.81      0.88      0.84        77\n",
      "           1       0.91      0.85      0.88       107\n",
      "\n",
      "    accuracy                           0.86       184\n",
      "   macro avg       0.86      0.87      0.86       184\n",
      "weighted avg       0.87      0.86      0.86       184\n",
      "\n"
     ]
    }
   ],
   "source": [
    "print(classification_report(y_test, y_pred_KNN))"
   ]
  },
  {
   "cell_type": "markdown",
   "id": "8f683c1c-14c6-4e94-a015-f5730108b975",
   "metadata": {
    "jp-MarkdownHeadingCollapsed": true
   },
   "source": [
    "### GaussianNB"
   ]
  },
  {
   "cell_type": "code",
   "execution_count": 240,
   "id": "f107e3df-d137-4dd6-aaca-31822cf7602c",
   "metadata": {},
   "outputs": [],
   "source": [
    "model_Gauss = GaussianNB()\n",
    "model_Gauss.fit(X_train, y_train)\n",
    "y_pred_Gauss = model_Gauss.predict(X_test)\n",
    "accs_Gauss= cross_val_score(model_Gauss, X, y, cv=5, scoring='f1')"
   ]
  },
  {
   "cell_type": "code",
   "execution_count": 245,
   "id": "aada1c9b-5526-4134-961d-a15ce7695b1e",
   "metadata": {},
   "outputs": [
    {
     "name": "stdout",
     "output_type": "stream",
     "text": [
      "accs_Gauss: 0.848225531302998\n",
      "              precision    recall  f1-score   support\n",
      "\n",
      "           0       0.81      0.88      0.84        77\n",
      "           1       0.91      0.85      0.88       107\n",
      "\n",
      "    accuracy                           0.86       184\n",
      "   macro avg       0.86      0.87      0.86       184\n",
      "weighted avg       0.87      0.86      0.86       184\n",
      "\n"
     ]
    },
    {
     "data": {
      "text/plain": [
       "(array([0, 1, 1, 1, 0, 1, 1, 0, 1, 1, 1, 0, 1, 0, 1, 0, 0, 0, 1, 0, 1, 1,\n",
       "        0, 1, 1, 1, 0, 1, 0, 0, 1, 0, 1, 1, 1, 0, 1, 0, 1, 1, 1, 1, 1, 0,\n",
       "        0, 1, 1, 1, 1, 1, 0, 0, 1, 1, 0, 0, 0, 1, 1, 1, 0, 0, 0, 1, 0, 1,\n",
       "        1, 1, 1, 1, 0, 0, 1, 1, 0, 1, 0, 1, 0, 1, 0, 1, 1, 0, 1, 1, 0, 1,\n",
       "        0, 0, 0, 1, 1, 0, 0, 0, 1, 0, 1, 1, 0, 1, 1, 0, 1, 1, 0, 0, 1, 0,\n",
       "        1, 1, 0, 0, 1, 0, 1, 0, 1, 0, 1, 1, 0, 1, 0, 0, 0, 0, 0, 1, 0, 1,\n",
       "        1, 0, 1, 0, 1, 1, 0, 1, 0, 0, 1, 1, 1, 1, 1, 0, 0, 0, 0, 1, 1, 0,\n",
       "        1, 0, 0, 0, 0, 1, 0, 0, 1, 0, 1, 1, 0, 1, 0, 0, 1, 1, 0, 1, 0, 1,\n",
       "        0, 1, 0, 1, 1, 1, 0, 1], dtype=int8),\n",
       " array([0, 1, 1, 1, 0, 1, 1, 0, 1, 1, 0, 0, 0, 0, 1, 1, 0, 1, 1, 0, 1, 0,\n",
       "        0, 0, 1, 1, 0, 1, 0, 0, 1, 1, 0, 1, 1, 0, 1, 0, 1, 1, 1, 1, 1, 0,\n",
       "        0, 0, 1, 1, 1, 0, 1, 0, 1, 1, 1, 0, 0, 1, 1, 1, 0, 0, 0, 1, 0, 1,\n",
       "        1, 1, 1, 1, 0, 0, 1, 1, 0, 1, 0, 1, 0, 1, 1, 1, 1, 0, 1, 1, 0, 1,\n",
       "        0, 0, 1, 1, 1, 0, 0, 0, 1, 0, 1, 1, 0, 1, 1, 0, 1, 1, 0, 1, 1, 0,\n",
       "        1, 1, 0, 1, 1, 0, 1, 0, 1, 0, 1, 1, 1, 1, 0, 0, 0, 1, 0, 1, 0, 1,\n",
       "        1, 1, 1, 0, 1, 1, 0, 1, 0, 0, 1, 1, 1, 0, 1, 0, 0, 1, 0, 1, 1, 0,\n",
       "        1, 0, 1, 0, 0, 1, 0, 0, 1, 0, 1, 1, 1, 1, 0, 0, 1, 1, 0, 0, 0, 1,\n",
       "        1, 1, 0, 1, 1, 1, 0, 1], dtype=int8))"
      ]
     },
     "execution_count": 245,
     "metadata": {},
     "output_type": "execute_result"
    }
   ],
   "source": [
    "print('accs_Gauss:', accs_Gauss.mean())\n",
    "print(classification_report(y_test, y_pred_KNN))\n",
    "\n",
    "y_pred_KNN, np.array(y_test)"
   ]
  },
  {
   "cell_type": "code",
   "execution_count": null,
   "id": "94d1bda5-412e-4dd8-92c4-bde631cc2568",
   "metadata": {},
   "outputs": [],
   "source": []
  }
 ],
 "metadata": {
  "kernelspec": {
   "display_name": "Python 3 (ipykernel)",
   "language": "python",
   "name": "python3"
  },
  "language_info": {
   "codemirror_mode": {
    "name": "ipython",
    "version": 3
   },
   "file_extension": ".py",
   "mimetype": "text/x-python",
   "name": "python",
   "nbconvert_exporter": "python",
   "pygments_lexer": "ipython3",
   "version": "3.12.4"
  }
 },
 "nbformat": 4,
 "nbformat_minor": 5
}

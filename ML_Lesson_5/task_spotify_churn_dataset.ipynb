{
 "cells": [
  {
   "cell_type": "code",
   "execution_count": 152,
   "id": "63746bfa-61ce-4ace-bd8f-f10641c3e930",
   "metadata": {},
   "outputs": [],
   "source": [
    "import numpy as np\n",
    "import pandas as pd\n",
    "import matplotlib.pyplot as plt\n",
    "\n",
    "from sklearn.model_selection import train_test_split\n",
    "from sklearn.linear_model import LogisticRegression\n",
    "from sklearn.neighbors import KNeighborsClassifier\n",
    "from sklearn.naive_bayes import GaussianNB\n",
    "\n",
    "from sklearn.preprocessing import StandardScaler\n",
    "\n",
    "from sklearn.metrics import accuracy_score, classification_report"
   ]
  },
  {
   "cell_type": "code",
   "execution_count": 153,
   "id": "35f423cc-f66f-4cce-a0b8-efb3dd42a8e5",
   "metadata": {},
   "outputs": [
    {
     "data": {
      "text/html": [
       "<div>\n",
       "<style scoped>\n",
       "    .dataframe tbody tr th:only-of-type {\n",
       "        vertical-align: middle;\n",
       "    }\n",
       "\n",
       "    .dataframe tbody tr th {\n",
       "        vertical-align: top;\n",
       "    }\n",
       "\n",
       "    .dataframe thead th {\n",
       "        text-align: right;\n",
       "    }\n",
       "</style>\n",
       "<table border=\"1\" class=\"dataframe\">\n",
       "  <thead>\n",
       "    <tr style=\"text-align: right;\">\n",
       "      <th></th>\n",
       "      <th>user_id</th>\n",
       "      <th>gender</th>\n",
       "      <th>age</th>\n",
       "      <th>country</th>\n",
       "      <th>subscription_type</th>\n",
       "      <th>listening_time</th>\n",
       "      <th>songs_played_per_day</th>\n",
       "      <th>skip_rate</th>\n",
       "      <th>device_type</th>\n",
       "      <th>ads_listened_per_week</th>\n",
       "      <th>offline_listening</th>\n",
       "      <th>is_churned</th>\n",
       "    </tr>\n",
       "  </thead>\n",
       "  <tbody>\n",
       "    <tr>\n",
       "      <th>0</th>\n",
       "      <td>1</td>\n",
       "      <td>Female</td>\n",
       "      <td>54</td>\n",
       "      <td>CA</td>\n",
       "      <td>Free</td>\n",
       "      <td>26</td>\n",
       "      <td>23</td>\n",
       "      <td>0.20</td>\n",
       "      <td>Desktop</td>\n",
       "      <td>31</td>\n",
       "      <td>0</td>\n",
       "      <td>1</td>\n",
       "    </tr>\n",
       "    <tr>\n",
       "      <th>1</th>\n",
       "      <td>2</td>\n",
       "      <td>Other</td>\n",
       "      <td>33</td>\n",
       "      <td>DE</td>\n",
       "      <td>Family</td>\n",
       "      <td>141</td>\n",
       "      <td>62</td>\n",
       "      <td>0.34</td>\n",
       "      <td>Web</td>\n",
       "      <td>0</td>\n",
       "      <td>1</td>\n",
       "      <td>0</td>\n",
       "    </tr>\n",
       "    <tr>\n",
       "      <th>2</th>\n",
       "      <td>3</td>\n",
       "      <td>Male</td>\n",
       "      <td>38</td>\n",
       "      <td>AU</td>\n",
       "      <td>Premium</td>\n",
       "      <td>199</td>\n",
       "      <td>38</td>\n",
       "      <td>0.04</td>\n",
       "      <td>Mobile</td>\n",
       "      <td>0</td>\n",
       "      <td>1</td>\n",
       "      <td>1</td>\n",
       "    </tr>\n",
       "    <tr>\n",
       "      <th>3</th>\n",
       "      <td>4</td>\n",
       "      <td>Female</td>\n",
       "      <td>22</td>\n",
       "      <td>CA</td>\n",
       "      <td>Student</td>\n",
       "      <td>36</td>\n",
       "      <td>2</td>\n",
       "      <td>0.31</td>\n",
       "      <td>Mobile</td>\n",
       "      <td>0</td>\n",
       "      <td>1</td>\n",
       "      <td>0</td>\n",
       "    </tr>\n",
       "    <tr>\n",
       "      <th>4</th>\n",
       "      <td>5</td>\n",
       "      <td>Other</td>\n",
       "      <td>29</td>\n",
       "      <td>US</td>\n",
       "      <td>Family</td>\n",
       "      <td>250</td>\n",
       "      <td>57</td>\n",
       "      <td>0.36</td>\n",
       "      <td>Mobile</td>\n",
       "      <td>0</td>\n",
       "      <td>1</td>\n",
       "      <td>1</td>\n",
       "    </tr>\n",
       "    <tr>\n",
       "      <th>...</th>\n",
       "      <td>...</td>\n",
       "      <td>...</td>\n",
       "      <td>...</td>\n",
       "      <td>...</td>\n",
       "      <td>...</td>\n",
       "      <td>...</td>\n",
       "      <td>...</td>\n",
       "      <td>...</td>\n",
       "      <td>...</td>\n",
       "      <td>...</td>\n",
       "      <td>...</td>\n",
       "      <td>...</td>\n",
       "    </tr>\n",
       "    <tr>\n",
       "      <th>7995</th>\n",
       "      <td>7996</td>\n",
       "      <td>Other</td>\n",
       "      <td>44</td>\n",
       "      <td>DE</td>\n",
       "      <td>Student</td>\n",
       "      <td>237</td>\n",
       "      <td>36</td>\n",
       "      <td>0.30</td>\n",
       "      <td>Mobile</td>\n",
       "      <td>0</td>\n",
       "      <td>1</td>\n",
       "      <td>1</td>\n",
       "    </tr>\n",
       "    <tr>\n",
       "      <th>7996</th>\n",
       "      <td>7997</td>\n",
       "      <td>Male</td>\n",
       "      <td>34</td>\n",
       "      <td>AU</td>\n",
       "      <td>Premium</td>\n",
       "      <td>61</td>\n",
       "      <td>64</td>\n",
       "      <td>0.59</td>\n",
       "      <td>Mobile</td>\n",
       "      <td>0</td>\n",
       "      <td>1</td>\n",
       "      <td>0</td>\n",
       "    </tr>\n",
       "    <tr>\n",
       "      <th>7997</th>\n",
       "      <td>7998</td>\n",
       "      <td>Female</td>\n",
       "      <td>17</td>\n",
       "      <td>US</td>\n",
       "      <td>Free</td>\n",
       "      <td>81</td>\n",
       "      <td>62</td>\n",
       "      <td>0.33</td>\n",
       "      <td>Desktop</td>\n",
       "      <td>5</td>\n",
       "      <td>0</td>\n",
       "      <td>0</td>\n",
       "    </tr>\n",
       "    <tr>\n",
       "      <th>7998</th>\n",
       "      <td>7999</td>\n",
       "      <td>Female</td>\n",
       "      <td>34</td>\n",
       "      <td>IN</td>\n",
       "      <td>Student</td>\n",
       "      <td>245</td>\n",
       "      <td>94</td>\n",
       "      <td>0.27</td>\n",
       "      <td>Desktop</td>\n",
       "      <td>0</td>\n",
       "      <td>1</td>\n",
       "      <td>0</td>\n",
       "    </tr>\n",
       "    <tr>\n",
       "      <th>7999</th>\n",
       "      <td>8000</td>\n",
       "      <td>Other</td>\n",
       "      <td>45</td>\n",
       "      <td>AU</td>\n",
       "      <td>Free</td>\n",
       "      <td>210</td>\n",
       "      <td>68</td>\n",
       "      <td>0.46</td>\n",
       "      <td>Desktop</td>\n",
       "      <td>6</td>\n",
       "      <td>0</td>\n",
       "      <td>0</td>\n",
       "    </tr>\n",
       "  </tbody>\n",
       "</table>\n",
       "<p>8000 rows × 12 columns</p>\n",
       "</div>"
      ],
      "text/plain": [
       "      user_id  gender  age country  ... device_type  ads_listened_per_week  offline_listening  is_churned\n",
       "0           1  Female   54      CA  ...     Desktop                     31                  0           1\n",
       "1           2   Other   33      DE  ...         Web                      0                  1           0\n",
       "2           3    Male   38      AU  ...      Mobile                      0                  1           1\n",
       "3           4  Female   22      CA  ...      Mobile                      0                  1           0\n",
       "4           5   Other   29      US  ...      Mobile                      0                  1           1\n",
       "...       ...     ...  ...     ...  ...         ...                    ...                ...         ...\n",
       "7995     7996   Other   44      DE  ...      Mobile                      0                  1           1\n",
       "7996     7997    Male   34      AU  ...      Mobile                      0                  1           0\n",
       "7997     7998  Female   17      US  ...     Desktop                      5                  0           0\n",
       "7998     7999  Female   34      IN  ...     Desktop                      0                  1           0\n",
       "7999     8000   Other   45      AU  ...     Desktop                      6                  0           0\n",
       "\n",
       "[8000 rows x 12 columns]"
      ]
     },
     "execution_count": 153,
     "metadata": {},
     "output_type": "execute_result"
    }
   ],
   "source": [
    "data = pd.read_csv('spotify_churn_dataset.csv')\n",
    "data"
   ]
  },
  {
   "cell_type": "code",
   "execution_count": 154,
   "id": "e4e3304f-87d4-4713-bbe2-96909017d9d5",
   "metadata": {},
   "outputs": [
    {
     "name": "stdout",
     "output_type": "stream",
     "text": [
      "<class 'pandas.core.frame.DataFrame'>\n",
      "RangeIndex: 8000 entries, 0 to 7999\n",
      "Data columns (total 12 columns):\n",
      " #   Column                 Non-Null Count  Dtype  \n",
      "---  ------                 --------------  -----  \n",
      " 0   user_id                8000 non-null   int64  \n",
      " 1   gender                 8000 non-null   object \n",
      " 2   age                    8000 non-null   int64  \n",
      " 3   country                8000 non-null   object \n",
      " 4   subscription_type      8000 non-null   object \n",
      " 5   listening_time         8000 non-null   int64  \n",
      " 6   songs_played_per_day   8000 non-null   int64  \n",
      " 7   skip_rate              8000 non-null   float64\n",
      " 8   device_type            8000 non-null   object \n",
      " 9   ads_listened_per_week  8000 non-null   int64  \n",
      " 10  offline_listening      8000 non-null   int64  \n",
      " 11  is_churned             8000 non-null   int64  \n",
      "dtypes: float64(1), int64(7), object(4)\n",
      "memory usage: 750.1+ KB\n"
     ]
    }
   ],
   "source": [
    "data.info()"
   ]
  },
  {
   "cell_type": "code",
   "execution_count": 155,
   "id": "1920f5a2-4480-48d9-94c9-ca48dffdc418",
   "metadata": {},
   "outputs": [],
   "source": [
    "X = data.drop(['is_churned'], axis=1)\n",
    "y = data['is_churned']"
   ]
  },
  {
   "cell_type": "code",
   "execution_count": 156,
   "id": "51630035-7e59-4b2c-a864-3de8ca965e70",
   "metadata": {},
   "outputs": [],
   "source": [
    "X_train, X_test, y_train, y_test = train_test_split(X, y, test_size=0.2)"
   ]
  },
  {
   "cell_type": "code",
   "execution_count": null,
   "id": "a6426446-d595-4430-b1e8-b7204553d4a8",
   "metadata": {},
   "outputs": [],
   "source": []
  },
  {
   "cell_type": "markdown",
   "id": "eb37217a-1c8a-4a82-9896-02b5d1c631e6",
   "metadata": {},
   "source": [
    "## Data normalizing "
   ]
  },
  {
   "cell_type": "markdown",
   "id": "3b82eb85-756c-4b3d-9bc8-914d69f73723",
   "metadata": {},
   "source": [
    "### X_train"
   ]
  },
  {
   "cell_type": "code",
   "execution_count": 157,
   "id": "1e6ad72a-49b8-4f84-9d7b-86ca40e36971",
   "metadata": {},
   "outputs": [],
   "source": [
    "X_train.drop(['user_id'], axis=1, inplace=True)"
   ]
  },
  {
   "cell_type": "code",
   "execution_count": 158,
   "id": "04d8b015-867b-4962-bdb5-4e132512af0f",
   "metadata": {},
   "outputs": [
    {
     "data": {
      "text/plain": [
       "gender\n",
       "Male      2154\n",
       "Female    2123\n",
       "Other     2123\n",
       "Name: count, dtype: int64"
      ]
     },
     "execution_count": 158,
     "metadata": {},
     "output_type": "execute_result"
    }
   ],
   "source": [
    "X_train['gender'].value_counts()"
   ]
  },
  {
   "cell_type": "code",
   "execution_count": 159,
   "id": "3810a282-58b1-4d7a-96e8-e172b5298b9a",
   "metadata": {},
   "outputs": [],
   "source": [
    "X_train['gender'] = X_train['gender'].str.strip().str.lower()"
   ]
  },
  {
   "cell_type": "code",
   "execution_count": 160,
   "id": "6c63fdb0-8319-4125-9654-a1faaa1a3fe8",
   "metadata": {},
   "outputs": [],
   "source": [
    "X_train = pd.get_dummies(X_train, columns=['gender'], drop_first=True, dtype='int8')"
   ]
  },
  {
   "cell_type": "code",
   "execution_count": 161,
   "id": "068da6b8-9f57-47e0-8f2c-a24df6e86b77",
   "metadata": {},
   "outputs": [
    {
     "data": {
      "text/plain": [
       "country\n",
       "US    836\n",
       "IN    831\n",
       "AU    829\n",
       "PK    802\n",
       "DE    790\n",
       "FR    785\n",
       "UK    774\n",
       "CA    753\n",
       "Name: count, dtype: int64"
      ]
     },
     "execution_count": 161,
     "metadata": {},
     "output_type": "execute_result"
    }
   ],
   "source": [
    "X_train['country'].value_counts()"
   ]
  },
  {
   "cell_type": "code",
   "execution_count": 162,
   "id": "3b601fa6-87b0-4920-aa21-7111908042d2",
   "metadata": {},
   "outputs": [],
   "source": [
    "X_train = pd.get_dummies(X_train, columns=['country'], drop_first=True, dtype='int8')"
   ]
  },
  {
   "cell_type": "code",
   "execution_count": 163,
   "id": "21c48b49-e134-43f8-b164-6170c014d5d2",
   "metadata": {},
   "outputs": [
    {
     "data": {
      "text/plain": [
       "subscription_type\n",
       "Premium    1695\n",
       "Free       1602\n",
       "Student    1581\n",
       "Family     1522\n",
       "Name: count, dtype: int64"
      ]
     },
     "execution_count": 163,
     "metadata": {},
     "output_type": "execute_result"
    }
   ],
   "source": [
    "X_train['subscription_type'].value_counts()"
   ]
  },
  {
   "cell_type": "code",
   "execution_count": 164,
   "id": "3df6c16f-dec4-4415-83fd-72b71236a407",
   "metadata": {},
   "outputs": [],
   "source": [
    "X_train = pd.get_dummies(X_train, columns=['subscription_type'], drop_first=True, dtype='int8')"
   ]
  },
  {
   "cell_type": "code",
   "execution_count": 165,
   "id": "6e1c90f2-5076-4579-ba7f-382c74f05905",
   "metadata": {},
   "outputs": [
    {
     "data": {
      "text/plain": [
       "device_type\n",
       "Desktop    2216\n",
       "Web        2118\n",
       "Mobile     2066\n",
       "Name: count, dtype: int64"
      ]
     },
     "execution_count": 165,
     "metadata": {},
     "output_type": "execute_result"
    }
   ],
   "source": [
    "X_train['device_type'].value_counts()"
   ]
  },
  {
   "cell_type": "code",
   "execution_count": 166,
   "id": "95e7704a-d0e5-4aad-9e4b-cbc5fae3f5eb",
   "metadata": {},
   "outputs": [],
   "source": [
    "X_train = pd.get_dummies(X_train, columns=['device_type'], drop_first=True, dtype='int8')"
   ]
  },
  {
   "cell_type": "code",
   "execution_count": 167,
   "id": "ba5365f8-8ec2-47f5-bace-28f19effbc37",
   "metadata": {},
   "outputs": [
    {
     "data": {
      "text/plain": [
       "<Axes: >"
      ]
     },
     "execution_count": 167,
     "metadata": {},
     "output_type": "execute_result"
    },
    {
     "data": {
      "image/png": "[encoded data removed]",
      "text/plain": [
       "<Figure size 640x480 with 1 Axes>"
      ]
     },
     "metadata": {},
     "output_type": "display_data"
    }
   ],
   "source": [
    "X_train['age'].hist(bins=40)"
   ]
  },
  {
   "cell_type": "code",
   "execution_count": 168,
   "id": "703baed8-06d9-4a6a-a9ec-73da9bb61b3e",
   "metadata": {},
   "outputs": [
    {
     "data": {
      "text/plain": [
       "<Axes: >"
      ]
     },
     "execution_count": 168,
     "metadata": {},
     "output_type": "execute_result"
    },
    {
     "data": {
      "image/png": "[encoded data removed]",
      "text/plain": [
       "<Figure size 640x480 with 1 Axes>"
      ]
     },
     "metadata": {},
     "output_type": "display_data"
    }
   ],
   "source": [
    "X_train['age'].plot.box()"
   ]
  },
  {
   "cell_type": "code",
   "execution_count": 169,
   "id": "101f94b2-93a9-4190-8124-993feaddc799",
   "metadata": {},
   "outputs": [
    {
     "data": {
      "text/plain": [
       "<Axes: >"
      ]
     },
     "execution_count": 169,
     "metadata": {},
     "output_type": "execute_result"
    },
    {
     "data": {
      "image/png": "[encoded data removed]",
      "text/plain": [
       "<Figure size 640x480 with 1 Axes>"
      ]
     },
     "metadata": {},
     "output_type": "display_data"
    }
   ],
   "source": [
    "X_train['listening_time'].hist(bins=40)"
   ]
  },
  {
   "cell_type": "code",
   "execution_count": 170,
   "id": "3edb3182-4819-4158-8161-7ef1c02e2dba",
   "metadata": {},
   "outputs": [
    {
     "data": {
      "text/plain": [
       "<Axes: >"
      ]
     },
     "execution_count": 170,
     "metadata": {},
     "output_type": "execute_result"
    },
    {
     "data": {
      "image/png": "[encoded data removed]",
      "text/plain": [
       "<Figure size 640x480 with 1 Axes>"
      ]
     },
     "metadata": {},
     "output_type": "display_data"
    }
   ],
   "source": [
    "X_train['songs_played_per_day'].hist(bins=40)"
   ]
  },
  {
   "cell_type": "code",
   "execution_count": 171,
   "id": "9a104b76-f1c8-4636-a746-ccf8c79a119e",
   "metadata": {},
   "outputs": [
    {
     "data": {
      "text/plain": [
       "<Axes: >"
      ]
     },
     "execution_count": 171,
     "metadata": {},
     "output_type": "execute_result"
    },
    {
     "data": {
      "image/png": "[encoded data removed]",
      "text/plain": [
       "<Figure size 640x480 with 1 Axes>"
      ]
     },
     "metadata": {},
     "output_type": "display_data"
    }
   ],
   "source": [
    "X_train['skip_rate'].hist(bins=40)"
   ]
  },
  {
   "cell_type": "code",
   "execution_count": 172,
   "id": "f49eefec-3ee7-4e2a-bda5-7edc81083449",
   "metadata": {},
   "outputs": [
    {
     "data": {
      "image/png": "[encoded data removed]",
      "text/plain": [
       "<Figure size 640x480 with 1 Axes>"
      ]
     },
     "metadata": {},
     "output_type": "display_data"
    }
   ],
   "source": [
    "X_train['ads_listened_per_week'].hist(bins=40);"
   ]
  },
  {
   "cell_type": "code",
   "execution_count": 173,
   "id": "1cf589dd-d17f-41f3-9f61-ae1c16363214",
   "metadata": {},
   "outputs": [
    {
     "data": {
      "text/plain": [
       "<Axes: >"
      ]
     },
     "execution_count": 173,
     "metadata": {},
     "output_type": "execute_result"
    },
    {
     "data": {
      "image/png": "[encoded data removed]",
      "text/plain": [
       "<Figure size 640x480 with 1 Axes>"
      ]
     },
     "metadata": {},
     "output_type": "display_data"
    }
   ],
   "source": [
    "X_train['ads_listened_per_week'].plot.box()"
   ]
  },
  {
   "cell_type": "code",
   "execution_count": 174,
   "id": "ba2f4af1-efb9-4bb8-a5e9-139d9b7dc765",
   "metadata": {},
   "outputs": [],
   "source": [
    "std = StandardScaler()\n",
    "X_train = pd.DataFrame(std.fit_transform(X_train), columns=X_train.columns, index=X_train.index)"
   ]
  },
  {
   "cell_type": "markdown",
   "id": "4d4d005d-21e4-43d1-8b2a-4a8f4a15a296",
   "metadata": {},
   "source": [
    "### X_test"
   ]
  },
  {
   "cell_type": "code",
   "execution_count": 175,
   "id": "db5c9433-4741-4b4d-94d9-539176f63643",
   "metadata": {},
   "outputs": [],
   "source": [
    "X_test.drop(['user_id'], axis=1, inplace=True)\n",
    "X_test['gender'] = X_test['gender'].str.strip().str.lower()\n",
    "X_test = pd.get_dummies(X_test, columns=['gender'], drop_first=True, dtype='int8')\n",
    "X_test = pd.get_dummies(X_test, columns=['country'], drop_first=True, dtype='int8')\n",
    "X_test = pd.get_dummies(X_test, columns=['subscription_type'], drop_first=True, dtype='int8')\n",
    "X_test = pd.get_dummies(X_test, columns=['device_type'], drop_first=True, dtype='int8')\n",
    "\n",
    "X_test = pd.DataFrame(std.transform(X_test), columns=X_test.columns, index=X_test.index)\n"
   ]
  },
  {
   "cell_type": "code",
   "execution_count": 176,
   "id": "f18e0cb5-cdc7-46c6-9802-c1f7ab039ee1",
   "metadata": {},
   "outputs": [
    {
     "data": {
      "text/html": [
       "<div>\n",
       "<style scoped>\n",
       "    .dataframe tbody tr th:only-of-type {\n",
       "        vertical-align: middle;\n",
       "    }\n",
       "\n",
       "    .dataframe tbody tr th {\n",
       "        vertical-align: top;\n",
       "    }\n",
       "\n",
       "    .dataframe thead th {\n",
       "        text-align: right;\n",
       "    }\n",
       "</style>\n",
       "<table border=\"1\" class=\"dataframe\">\n",
       "  <thead>\n",
       "    <tr style=\"text-align: right;\">\n",
       "      <th></th>\n",
       "      <th>age</th>\n",
       "      <th>listening_time</th>\n",
       "      <th>songs_played_per_day</th>\n",
       "      <th>skip_rate</th>\n",
       "      <th>ads_listened_per_week</th>\n",
       "      <th>offline_listening</th>\n",
       "      <th>gender_male</th>\n",
       "      <th>gender_other</th>\n",
       "      <th>country_CA</th>\n",
       "      <th>country_DE</th>\n",
       "      <th>country_FR</th>\n",
       "      <th>country_IN</th>\n",
       "      <th>country_PK</th>\n",
       "      <th>country_UK</th>\n",
       "      <th>country_US</th>\n",
       "      <th>subscription_type_Free</th>\n",
       "      <th>subscription_type_Premium</th>\n",
       "      <th>subscription_type_Student</th>\n",
       "      <th>device_type_Mobile</th>\n",
       "      <th>device_type_Web</th>\n",
       "    </tr>\n",
       "  </thead>\n",
       "  <tbody>\n",
       "    <tr>\n",
       "      <th>6016</th>\n",
       "      <td>1.355531</td>\n",
       "      <td>-0.844662</td>\n",
       "      <td>-0.153168</td>\n",
       "      <td>-0.518147</td>\n",
       "      <td>-0.509160</td>\n",
       "      <td>0.577831</td>\n",
       "      <td>1.404000</td>\n",
       "      <td>-0.704540</td>\n",
       "      <td>-0.365165</td>\n",
       "      <td>-0.37526</td>\n",
       "      <td>-0.373904</td>\n",
       "      <td>-0.386289</td>\n",
       "      <td>-0.378504</td>\n",
       "      <td>2.696059</td>\n",
       "      <td>-0.387623</td>\n",
       "      <td>-0.577831</td>\n",
       "      <td>-0.600213</td>\n",
       "      <td>1.745873</td>\n",
       "      <td>-0.690432</td>\n",
       "      <td>1.421872</td>\n",
       "    </tr>\n",
       "    <tr>\n",
       "      <th>5989</th>\n",
       "      <td>0.649768</td>\n",
       "      <td>0.610684</td>\n",
       "      <td>-0.961686</td>\n",
       "      <td>1.102617</td>\n",
       "      <td>-0.509160</td>\n",
       "      <td>0.577831</td>\n",
       "      <td>-0.712251</td>\n",
       "      <td>1.419367</td>\n",
       "      <td>-0.365165</td>\n",
       "      <td>-0.37526</td>\n",
       "      <td>-0.373904</td>\n",
       "      <td>2.588738</td>\n",
       "      <td>-0.378504</td>\n",
       "      <td>-0.370912</td>\n",
       "      <td>-0.387623</td>\n",
       "      <td>-0.577831</td>\n",
       "      <td>1.666077</td>\n",
       "      <td>-0.572780</td>\n",
       "      <td>-0.690432</td>\n",
       "      <td>-0.703298</td>\n",
       "    </tr>\n",
       "    <tr>\n",
       "      <th>6432</th>\n",
       "      <td>0.414513</td>\n",
       "      <td>0.598755</td>\n",
       "      <td>-1.348368</td>\n",
       "      <td>-1.270645</td>\n",
       "      <td>1.404128</td>\n",
       "      <td>-1.730609</td>\n",
       "      <td>1.404000</td>\n",
       "      <td>-0.704540</td>\n",
       "      <td>-0.365165</td>\n",
       "      <td>-0.37526</td>\n",
       "      <td>-0.373904</td>\n",
       "      <td>2.588738</td>\n",
       "      <td>-0.378504</td>\n",
       "      <td>-0.370912</td>\n",
       "      <td>-0.387623</td>\n",
       "      <td>1.730609</td>\n",
       "      <td>-0.600213</td>\n",
       "      <td>-0.572780</td>\n",
       "      <td>-0.690432</td>\n",
       "      <td>1.421872</td>\n",
       "    </tr>\n",
       "    <tr>\n",
       "      <th>5315</th>\n",
       "      <td>1.277113</td>\n",
       "      <td>0.324387</td>\n",
       "      <td>0.971726</td>\n",
       "      <td>-0.286609</td>\n",
       "      <td>-0.509160</td>\n",
       "      <td>0.577831</td>\n",
       "      <td>-0.712251</td>\n",
       "      <td>-0.704540</td>\n",
       "      <td>-0.365165</td>\n",
       "      <td>-0.37526</td>\n",
       "      <td>-0.373904</td>\n",
       "      <td>-0.386289</td>\n",
       "      <td>2.641978</td>\n",
       "      <td>-0.370912</td>\n",
       "      <td>-0.387623</td>\n",
       "      <td>-0.577831</td>\n",
       "      <td>1.666077</td>\n",
       "      <td>-0.572780</td>\n",
       "      <td>1.448369</td>\n",
       "      <td>-0.703298</td>\n",
       "    </tr>\n",
       "    <tr>\n",
       "      <th>3845</th>\n",
       "      <td>-0.683341</td>\n",
       "      <td>-1.297966</td>\n",
       "      <td>-1.383521</td>\n",
       "      <td>1.565693</td>\n",
       "      <td>2.875888</td>\n",
       "      <td>-1.730609</td>\n",
       "      <td>-0.712251</td>\n",
       "      <td>-0.704540</td>\n",
       "      <td>-0.365165</td>\n",
       "      <td>-0.37526</td>\n",
       "      <td>-0.373904</td>\n",
       "      <td>-0.386289</td>\n",
       "      <td>-0.378504</td>\n",
       "      <td>2.696059</td>\n",
       "      <td>-0.387623</td>\n",
       "      <td>1.730609</td>\n",
       "      <td>-0.600213</td>\n",
       "      <td>-0.572780</td>\n",
       "      <td>-0.690432</td>\n",
       "      <td>1.421872</td>\n",
       "    </tr>\n",
       "    <tr>\n",
       "      <th>...</th>\n",
       "      <td>...</td>\n",
       "      <td>...</td>\n",
       "      <td>...</td>\n",
       "      <td>...</td>\n",
       "      <td>...</td>\n",
       "      <td>...</td>\n",
       "      <td>...</td>\n",
       "      <td>...</td>\n",
       "      <td>...</td>\n",
       "      <td>...</td>\n",
       "      <td>...</td>\n",
       "      <td>...</td>\n",
       "      <td>...</td>\n",
       "      <td>...</td>\n",
       "      <td>...</td>\n",
       "      <td>...</td>\n",
       "      <td>...</td>\n",
       "      <td>...</td>\n",
       "      <td>...</td>\n",
       "      <td>...</td>\n",
       "    </tr>\n",
       "    <tr>\n",
       "      <th>2203</th>\n",
       "      <td>-1.075431</td>\n",
       "      <td>-0.319783</td>\n",
       "      <td>0.303820</td>\n",
       "      <td>-0.865454</td>\n",
       "      <td>-0.509160</td>\n",
       "      <td>0.577831</td>\n",
       "      <td>-0.712251</td>\n",
       "      <td>-0.704540</td>\n",
       "      <td>-0.365165</td>\n",
       "      <td>-0.37526</td>\n",
       "      <td>-0.373904</td>\n",
       "      <td>-0.386289</td>\n",
       "      <td>-0.378504</td>\n",
       "      <td>2.696059</td>\n",
       "      <td>-0.387623</td>\n",
       "      <td>-0.577831</td>\n",
       "      <td>1.666077</td>\n",
       "      <td>-0.572780</td>\n",
       "      <td>-0.690432</td>\n",
       "      <td>1.421872</td>\n",
       "    </tr>\n",
       "    <tr>\n",
       "      <th>3528</th>\n",
       "      <td>0.336095</td>\n",
       "      <td>-1.405328</td>\n",
       "      <td>1.674785</td>\n",
       "      <td>-0.228725</td>\n",
       "      <td>1.698480</td>\n",
       "      <td>-1.730609</td>\n",
       "      <td>1.404000</td>\n",
       "      <td>-0.704540</td>\n",
       "      <td>-0.365165</td>\n",
       "      <td>2.66482</td>\n",
       "      <td>-0.373904</td>\n",
       "      <td>-0.386289</td>\n",
       "      <td>-0.378504</td>\n",
       "      <td>-0.370912</td>\n",
       "      <td>-0.387623</td>\n",
       "      <td>1.730609</td>\n",
       "      <td>-0.600213</td>\n",
       "      <td>-0.572780</td>\n",
       "      <td>-0.690432</td>\n",
       "      <td>-0.703298</td>\n",
       "    </tr>\n",
       "    <tr>\n",
       "      <th>5169</th>\n",
       "      <td>0.022423</td>\n",
       "      <td>0.324387</td>\n",
       "      <td>-0.047709</td>\n",
       "      <td>-1.444299</td>\n",
       "      <td>3.096652</td>\n",
       "      <td>-1.730609</td>\n",
       "      <td>-0.712251</td>\n",
       "      <td>-0.704540</td>\n",
       "      <td>-0.365165</td>\n",
       "      <td>-0.37526</td>\n",
       "      <td>-0.373904</td>\n",
       "      <td>2.588738</td>\n",
       "      <td>-0.378504</td>\n",
       "      <td>-0.370912</td>\n",
       "      <td>-0.387623</td>\n",
       "      <td>1.730609</td>\n",
       "      <td>-0.600213</td>\n",
       "      <td>-0.572780</td>\n",
       "      <td>-0.690432</td>\n",
       "      <td>-0.703298</td>\n",
       "    </tr>\n",
       "    <tr>\n",
       "      <th>2665</th>\n",
       "      <td>-1.624359</td>\n",
       "      <td>1.171351</td>\n",
       "      <td>1.674785</td>\n",
       "      <td>0.176466</td>\n",
       "      <td>2.287184</td>\n",
       "      <td>-1.730609</td>\n",
       "      <td>-0.712251</td>\n",
       "      <td>-0.704540</td>\n",
       "      <td>-0.365165</td>\n",
       "      <td>-0.37526</td>\n",
       "      <td>-0.373904</td>\n",
       "      <td>-0.386289</td>\n",
       "      <td>2.641978</td>\n",
       "      <td>-0.370912</td>\n",
       "      <td>-0.387623</td>\n",
       "      <td>1.730609</td>\n",
       "      <td>-0.600213</td>\n",
       "      <td>-0.572780</td>\n",
       "      <td>1.448369</td>\n",
       "      <td>-0.703298</td>\n",
       "    </tr>\n",
       "    <tr>\n",
       "      <th>3272</th>\n",
       "      <td>-0.761759</td>\n",
       "      <td>0.181238</td>\n",
       "      <td>-0.891380</td>\n",
       "      <td>-0.807570</td>\n",
       "      <td>1.845656</td>\n",
       "      <td>-1.730609</td>\n",
       "      <td>1.404000</td>\n",
       "      <td>-0.704540</td>\n",
       "      <td>-0.365165</td>\n",
       "      <td>-0.37526</td>\n",
       "      <td>-0.373904</td>\n",
       "      <td>-0.386289</td>\n",
       "      <td>-0.378504</td>\n",
       "      <td>-0.370912</td>\n",
       "      <td>2.579826</td>\n",
       "      <td>1.730609</td>\n",
       "      <td>-0.600213</td>\n",
       "      <td>-0.572780</td>\n",
       "      <td>-0.690432</td>\n",
       "      <td>1.421872</td>\n",
       "    </tr>\n",
       "  </tbody>\n",
       "</table>\n",
       "<p>1600 rows × 20 columns</p>\n",
       "</div>"
      ],
      "text/plain": [
       "           age  listening_time  songs_played_per_day  ...  subscription_type_Student  device_type_Mobile  device_type_Web\n",
       "6016  1.355531       -0.844662             -0.153168  ...                   1.745873           -0.690432         1.421872\n",
       "5989  0.649768        0.610684             -0.961686  ...                  -0.572780           -0.690432        -0.703298\n",
       "6432  0.414513        0.598755             -1.348368  ...                  -0.572780           -0.690432         1.421872\n",
       "5315  1.277113        0.324387              0.971726  ...                  -0.572780            1.448369        -0.703298\n",
       "3845 -0.683341       -1.297966             -1.383521  ...                  -0.572780           -0.690432         1.421872\n",
       "...        ...             ...                   ...  ...                        ...                 ...              ...\n",
       "2203 -1.075431       -0.319783              0.303820  ...                  -0.572780           -0.690432         1.421872\n",
       "3528  0.336095       -1.405328              1.674785  ...                  -0.572780           -0.690432        -0.703298\n",
       "5169  0.022423        0.324387             -0.047709  ...                  -0.572780           -0.690432        -0.703298\n",
       "2665 -1.624359        1.171351              1.674785  ...                  -0.572780            1.448369        -0.703298\n",
       "3272 -0.761759        0.181238             -0.891380  ...                  -0.572780           -0.690432         1.421872\n",
       "\n",
       "[1600 rows x 20 columns]"
      ]
     },
     "execution_count": 176,
     "metadata": {},
     "output_type": "execute_result"
    }
   ],
   "source": [
    "X_test"
   ]
  },
  {
   "cell_type": "code",
   "execution_count": 177,
   "id": "6de9e493-c3ba-41a9-a67f-a9ed7ba9b9e4",
   "metadata": {},
   "outputs": [
    {
     "data": {
      "text/html": [
       "<div>\n",
       "<style scoped>\n",
       "    .dataframe tbody tr th:only-of-type {\n",
       "        vertical-align: middle;\n",
       "    }\n",
       "\n",
       "    .dataframe tbody tr th {\n",
       "        vertical-align: top;\n",
       "    }\n",
       "\n",
       "    .dataframe thead th {\n",
       "        text-align: right;\n",
       "    }\n",
       "</style>\n",
       "<table border=\"1\" class=\"dataframe\">\n",
       "  <thead>\n",
       "    <tr style=\"text-align: right;\">\n",
       "      <th></th>\n",
       "      <th>age</th>\n",
       "      <th>listening_time</th>\n",
       "      <th>songs_played_per_day</th>\n",
       "      <th>skip_rate</th>\n",
       "      <th>ads_listened_per_week</th>\n",
       "      <th>offline_listening</th>\n",
       "      <th>gender_male</th>\n",
       "      <th>gender_other</th>\n",
       "      <th>country_CA</th>\n",
       "      <th>country_DE</th>\n",
       "      <th>country_FR</th>\n",
       "      <th>country_IN</th>\n",
       "      <th>country_PK</th>\n",
       "      <th>country_UK</th>\n",
       "      <th>country_US</th>\n",
       "      <th>subscription_type_Free</th>\n",
       "      <th>subscription_type_Premium</th>\n",
       "      <th>subscription_type_Student</th>\n",
       "      <th>device_type_Mobile</th>\n",
       "      <th>device_type_Web</th>\n",
       "    </tr>\n",
       "  </thead>\n",
       "  <tbody>\n",
       "    <tr>\n",
       "      <th>7665</th>\n",
       "      <td>1.669204</td>\n",
       "      <td>-1.620051</td>\n",
       "      <td>1.639632</td>\n",
       "      <td>0.002813</td>\n",
       "      <td>-0.509160</td>\n",
       "      <td>0.577831</td>\n",
       "      <td>-0.712251</td>\n",
       "      <td>-0.704540</td>\n",
       "      <td>2.738492</td>\n",
       "      <td>-0.37526</td>\n",
       "      <td>-0.373904</td>\n",
       "      <td>-0.386289</td>\n",
       "      <td>-0.378504</td>\n",
       "      <td>-0.370912</td>\n",
       "      <td>-0.387623</td>\n",
       "      <td>-0.577831</td>\n",
       "      <td>1.666077</td>\n",
       "      <td>-0.572780</td>\n",
       "      <td>-0.690432</td>\n",
       "      <td>-0.703298</td>\n",
       "    </tr>\n",
       "    <tr>\n",
       "      <th>2264</th>\n",
       "      <td>1.669204</td>\n",
       "      <td>1.529223</td>\n",
       "      <td>-0.785921</td>\n",
       "      <td>-0.691801</td>\n",
       "      <td>-0.509160</td>\n",
       "      <td>0.577831</td>\n",
       "      <td>1.404000</td>\n",
       "      <td>-0.704540</td>\n",
       "      <td>-0.365165</td>\n",
       "      <td>-0.37526</td>\n",
       "      <td>2.674484</td>\n",
       "      <td>-0.386289</td>\n",
       "      <td>-0.378504</td>\n",
       "      <td>-0.370912</td>\n",
       "      <td>-0.387623</td>\n",
       "      <td>-0.577831</td>\n",
       "      <td>-0.600213</td>\n",
       "      <td>1.745873</td>\n",
       "      <td>-0.690432</td>\n",
       "      <td>-0.703298</td>\n",
       "    </tr>\n",
       "    <tr>\n",
       "      <th>579</th>\n",
       "      <td>-1.545940</td>\n",
       "      <td>-0.916236</td>\n",
       "      <td>1.463867</td>\n",
       "      <td>-0.228725</td>\n",
       "      <td>1.845656</td>\n",
       "      <td>-1.730609</td>\n",
       "      <td>1.404000</td>\n",
       "      <td>-0.704540</td>\n",
       "      <td>-0.365165</td>\n",
       "      <td>-0.37526</td>\n",
       "      <td>-0.373904</td>\n",
       "      <td>-0.386289</td>\n",
       "      <td>2.641978</td>\n",
       "      <td>-0.370912</td>\n",
       "      <td>-0.387623</td>\n",
       "      <td>1.730609</td>\n",
       "      <td>-0.600213</td>\n",
       "      <td>-0.572780</td>\n",
       "      <td>-0.690432</td>\n",
       "      <td>1.421872</td>\n",
       "    </tr>\n",
       "    <tr>\n",
       "      <th>6206</th>\n",
       "      <td>1.198695</td>\n",
       "      <td>-1.464973</td>\n",
       "      <td>0.128056</td>\n",
       "      <td>-0.055072</td>\n",
       "      <td>-0.509160</td>\n",
       "      <td>0.577831</td>\n",
       "      <td>-0.712251</td>\n",
       "      <td>-0.704540</td>\n",
       "      <td>-0.365165</td>\n",
       "      <td>-0.37526</td>\n",
       "      <td>-0.373904</td>\n",
       "      <td>2.588738</td>\n",
       "      <td>-0.378504</td>\n",
       "      <td>-0.370912</td>\n",
       "      <td>-0.387623</td>\n",
       "      <td>-0.577831</td>\n",
       "      <td>-0.600213</td>\n",
       "      <td>-0.572780</td>\n",
       "      <td>-0.690432</td>\n",
       "      <td>-0.703298</td>\n",
       "    </tr>\n",
       "    <tr>\n",
       "      <th>282</th>\n",
       "      <td>-0.526504</td>\n",
       "      <td>-0.689584</td>\n",
       "      <td>-0.469544</td>\n",
       "      <td>1.681462</td>\n",
       "      <td>-0.509160</td>\n",
       "      <td>0.577831</td>\n",
       "      <td>-0.712251</td>\n",
       "      <td>1.419367</td>\n",
       "      <td>-0.365165</td>\n",
       "      <td>-0.37526</td>\n",
       "      <td>-0.373904</td>\n",
       "      <td>-0.386289</td>\n",
       "      <td>-0.378504</td>\n",
       "      <td>-0.370912</td>\n",
       "      <td>-0.387623</td>\n",
       "      <td>-0.577831</td>\n",
       "      <td>1.666077</td>\n",
       "      <td>-0.572780</td>\n",
       "      <td>-0.690432</td>\n",
       "      <td>1.421872</td>\n",
       "    </tr>\n",
       "    <tr>\n",
       "      <th>...</th>\n",
       "      <td>...</td>\n",
       "      <td>...</td>\n",
       "      <td>...</td>\n",
       "      <td>...</td>\n",
       "      <td>...</td>\n",
       "      <td>...</td>\n",
       "      <td>...</td>\n",
       "      <td>...</td>\n",
       "      <td>...</td>\n",
       "      <td>...</td>\n",
       "      <td>...</td>\n",
       "      <td>...</td>\n",
       "      <td>...</td>\n",
       "      <td>...</td>\n",
       "      <td>...</td>\n",
       "      <td>...</td>\n",
       "      <td>...</td>\n",
       "      <td>...</td>\n",
       "      <td>...</td>\n",
       "      <td>...</td>\n",
       "    </tr>\n",
       "    <tr>\n",
       "      <th>4103</th>\n",
       "      <td>-0.997013</td>\n",
       "      <td>1.278712</td>\n",
       "      <td>-1.453827</td>\n",
       "      <td>-1.617952</td>\n",
       "      <td>2.066420</td>\n",
       "      <td>-1.730609</td>\n",
       "      <td>-0.712251</td>\n",
       "      <td>-0.704540</td>\n",
       "      <td>-0.365165</td>\n",
       "      <td>-0.37526</td>\n",
       "      <td>-0.373904</td>\n",
       "      <td>-0.386289</td>\n",
       "      <td>2.641978</td>\n",
       "      <td>-0.370912</td>\n",
       "      <td>-0.387623</td>\n",
       "      <td>1.730609</td>\n",
       "      <td>-0.600213</td>\n",
       "      <td>-0.572780</td>\n",
       "      <td>1.448369</td>\n",
       "      <td>-0.703298</td>\n",
       "    </tr>\n",
       "    <tr>\n",
       "      <th>5103</th>\n",
       "      <td>1.277113</td>\n",
       "      <td>-1.703555</td>\n",
       "      <td>-1.102297</td>\n",
       "      <td>0.928964</td>\n",
       "      <td>-0.509160</td>\n",
       "      <td>0.577831</td>\n",
       "      <td>-0.712251</td>\n",
       "      <td>1.419367</td>\n",
       "      <td>-0.365165</td>\n",
       "      <td>-0.37526</td>\n",
       "      <td>-0.373904</td>\n",
       "      <td>2.588738</td>\n",
       "      <td>-0.378504</td>\n",
       "      <td>-0.370912</td>\n",
       "      <td>-0.387623</td>\n",
       "      <td>-0.577831</td>\n",
       "      <td>1.666077</td>\n",
       "      <td>-0.572780</td>\n",
       "      <td>1.448369</td>\n",
       "      <td>-0.703298</td>\n",
       "    </tr>\n",
       "    <tr>\n",
       "      <th>4644</th>\n",
       "      <td>0.963441</td>\n",
       "      <td>1.600797</td>\n",
       "      <td>-1.207756</td>\n",
       "      <td>0.060697</td>\n",
       "      <td>-0.509160</td>\n",
       "      <td>0.577831</td>\n",
       "      <td>-0.712251</td>\n",
       "      <td>-0.704540</td>\n",
       "      <td>-0.365165</td>\n",
       "      <td>-0.37526</td>\n",
       "      <td>-0.373904</td>\n",
       "      <td>-0.386289</td>\n",
       "      <td>-0.378504</td>\n",
       "      <td>-0.370912</td>\n",
       "      <td>2.579826</td>\n",
       "      <td>-0.577831</td>\n",
       "      <td>1.666077</td>\n",
       "      <td>-0.572780</td>\n",
       "      <td>-0.690432</td>\n",
       "      <td>-0.703298</td>\n",
       "    </tr>\n",
       "    <tr>\n",
       "      <th>901</th>\n",
       "      <td>0.649768</td>\n",
       "      <td>-1.250250</td>\n",
       "      <td>1.112338</td>\n",
       "      <td>-0.923338</td>\n",
       "      <td>-0.509160</td>\n",
       "      <td>0.577831</td>\n",
       "      <td>-0.712251</td>\n",
       "      <td>-0.704540</td>\n",
       "      <td>-0.365165</td>\n",
       "      <td>-0.37526</td>\n",
       "      <td>-0.373904</td>\n",
       "      <td>-0.386289</td>\n",
       "      <td>-0.378504</td>\n",
       "      <td>-0.370912</td>\n",
       "      <td>2.579826</td>\n",
       "      <td>-0.577831</td>\n",
       "      <td>1.666077</td>\n",
       "      <td>-0.572780</td>\n",
       "      <td>-0.690432</td>\n",
       "      <td>1.421872</td>\n",
       "    </tr>\n",
       "    <tr>\n",
       "      <th>3789</th>\n",
       "      <td>1.120277</td>\n",
       "      <td>-1.512690</td>\n",
       "      <td>-0.610156</td>\n",
       "      <td>-0.633916</td>\n",
       "      <td>-0.509160</td>\n",
       "      <td>0.577831</td>\n",
       "      <td>-0.712251</td>\n",
       "      <td>-0.704540</td>\n",
       "      <td>-0.365165</td>\n",
       "      <td>-0.37526</td>\n",
       "      <td>-0.373904</td>\n",
       "      <td>-0.386289</td>\n",
       "      <td>2.641978</td>\n",
       "      <td>-0.370912</td>\n",
       "      <td>-0.387623</td>\n",
       "      <td>-0.577831</td>\n",
       "      <td>-0.600213</td>\n",
       "      <td>1.745873</td>\n",
       "      <td>1.448369</td>\n",
       "      <td>-0.703298</td>\n",
       "    </tr>\n",
       "  </tbody>\n",
       "</table>\n",
       "<p>6400 rows × 20 columns</p>\n",
       "</div>"
      ],
      "text/plain": [
       "           age  listening_time  songs_played_per_day  ...  subscription_type_Student  device_type_Mobile  device_type_Web\n",
       "7665  1.669204       -1.620051              1.639632  ...                  -0.572780           -0.690432        -0.703298\n",
       "2264  1.669204        1.529223             -0.785921  ...                   1.745873           -0.690432        -0.703298\n",
       "579  -1.545940       -0.916236              1.463867  ...                  -0.572780           -0.690432         1.421872\n",
       "6206  1.198695       -1.464973              0.128056  ...                  -0.572780           -0.690432        -0.703298\n",
       "282  -0.526504       -0.689584             -0.469544  ...                  -0.572780           -0.690432         1.421872\n",
       "...        ...             ...                   ...  ...                        ...                 ...              ...\n",
       "4103 -0.997013        1.278712             -1.453827  ...                  -0.572780            1.448369        -0.703298\n",
       "5103  1.277113       -1.703555             -1.102297  ...                  -0.572780            1.448369        -0.703298\n",
       "4644  0.963441        1.600797             -1.207756  ...                  -0.572780           -0.690432        -0.703298\n",
       "901   0.649768       -1.250250              1.112338  ...                  -0.572780           -0.690432         1.421872\n",
       "3789  1.120277       -1.512690             -0.610156  ...                   1.745873            1.448369        -0.703298\n",
       "\n",
       "[6400 rows x 20 columns]"
      ]
     },
     "execution_count": 177,
     "metadata": {},
     "output_type": "execute_result"
    }
   ],
   "source": [
    "X_train"
   ]
  },
  {
   "cell_type": "code",
   "execution_count": 178,
   "id": "1aac0301-df20-4924-87b2-ecfe608deab5",
   "metadata": {},
   "outputs": [
    {
     "name": "stdout",
     "output_type": "stream",
     "text": [
      "<class 'pandas.core.frame.DataFrame'>\n",
      "Index: 6400 entries, 7665 to 3789\n",
      "Data columns (total 20 columns):\n",
      " #   Column                     Non-Null Count  Dtype  \n",
      "---  ------                     --------------  -----  \n",
      " 0   age                        6400 non-null   float64\n",
      " 1   listening_time             6400 non-null   float64\n",
      " 2   songs_played_per_day       6400 non-null   float64\n",
      " 3   skip_rate                  6400 non-null   float64\n",
      " 4   ads_listened_per_week      6400 non-null   float64\n",
      " 5   offline_listening          6400 non-null   float64\n",
      " 6   gender_male                6400 non-null   float64\n",
      " 7   gender_other               6400 non-null   float64\n",
      " 8   country_CA                 6400 non-null   float64\n",
      " 9   country_DE                 6400 non-null   float64\n",
      " 10  country_FR                 6400 non-null   float64\n",
      " 11  country_IN                 6400 non-null   float64\n",
      " 12  country_PK                 6400 non-null   float64\n",
      " 13  country_UK                 6400 non-null   float64\n",
      " 14  country_US                 6400 non-null   float64\n",
      " 15  subscription_type_Free     6400 non-null   float64\n",
      " 16  subscription_type_Premium  6400 non-null   float64\n",
      " 17  subscription_type_Student  6400 non-null   float64\n",
      " 18  device_type_Mobile         6400 non-null   float64\n",
      " 19  device_type_Web            6400 non-null   float64\n",
      "dtypes: float64(20)\n",
      "memory usage: 1.0 MB\n"
     ]
    }
   ],
   "source": [
    "X_train.info()"
   ]
  },
  {
   "cell_type": "code",
   "execution_count": null,
   "id": "4c9b437d-334f-401c-85b3-07371ab36661",
   "metadata": {},
   "outputs": [],
   "source": []
  },
  {
   "cell_type": "markdown",
   "id": "cc98be94-611b-43eb-8cb0-9e4a4bb17c2f",
   "metadata": {},
   "source": [
    "## Model learning"
   ]
  },
  {
   "cell_type": "code",
   "execution_count": 184,
   "id": "486cd412-4891-48c8-af37-5ab6390555a4",
   "metadata": {},
   "outputs": [
    {
     "name": "stdout",
     "output_type": "stream",
     "text": [
      "0.748125 0.739375\n",
      "              precision    recall  f1-score   support\n",
      "\n",
      "           0       0.75      1.00      0.86      1197\n",
      "           1       0.00      0.00      0.00       403\n",
      "\n",
      "    accuracy                           0.75      1600\n",
      "   macro avg       0.37      0.50      0.43      1600\n",
      "weighted avg       0.56      0.75      0.64      1600\n",
      "\n"
     ]
    },
    {
     "name": "stderr",
     "output_type": "stream",
     "text": [
      "C:\\Users\\lenov\\AppData\\Local\\Programs\\Python\\Python312\\Lib\\site-packages\\sklearn\\metrics\\_classification.py:1731: UndefinedMetricWarning: Precision is ill-defined and being set to 0.0 in labels with no predicted samples. Use `zero_division` parameter to control this behavior.\n",
      "  _warn_prf(average, modifier, f\"{metric.capitalize()} is\", result.shape[0])\n",
      "C:\\Users\\lenov\\AppData\\Local\\Programs\\Python\\Python312\\Lib\\site-packages\\sklearn\\metrics\\_classification.py:1731: UndefinedMetricWarning: Precision is ill-defined and being set to 0.0 in labels with no predicted samples. Use `zero_division` parameter to control this behavior.\n",
      "  _warn_prf(average, modifier, f\"{metric.capitalize()} is\", result.shape[0])\n",
      "C:\\Users\\lenov\\AppData\\Local\\Programs\\Python\\Python312\\Lib\\site-packages\\sklearn\\metrics\\_classification.py:1731: UndefinedMetricWarning: Precision is ill-defined and being set to 0.0 in labels with no predicted samples. Use `zero_division` parameter to control this behavior.\n",
      "  _warn_prf(average, modifier, f\"{metric.capitalize()} is\", result.shape[0])\n"
     ]
    }
   ],
   "source": [
    "model_Log = LogisticRegression()\n",
    "model_Log.fit(X_train, y_train)\n",
    "y_pred_Log = model_Log.predict(X_test)\n",
    "\n",
    "print(accuracy_score(y_test, y_pred_Log), accuracy_score(y_train, model_Log.predict(X_train)))\n",
    "print(classification_report(y_test, y_pred_Log))"
   ]
  },
  {
   "cell_type": "code",
   "execution_count": 200,
   "id": "f2bff745-6b51-481f-afdf-3e7d58958fe1",
   "metadata": {},
   "outputs": [],
   "source": [
    "# y_pred_Log[0:1000]"
   ]
  },
  {
   "cell_type": "code",
   "execution_count": 180,
   "id": "e13989c1-30b6-485a-93b0-5a18ca0209b8",
   "metadata": {},
   "outputs": [
    {
     "name": "stdout",
     "output_type": "stream",
     "text": [
      "0.72625 0.7534375\n",
      "              precision    recall  f1-score   support\n",
      "\n",
      "           0       0.75      0.96      0.84      1197\n",
      "           1       0.23      0.04      0.06       403\n",
      "\n",
      "    accuracy                           0.73      1600\n",
      "   macro avg       0.49      0.50      0.45      1600\n",
      "weighted avg       0.62      0.73      0.64      1600\n",
      "\n"
     ]
    }
   ],
   "source": [
    "model_KNN = KNeighborsClassifier(n_neighbors=8)\n",
    "model_KNN.fit(X_train, y_train)\n",
    "y_pred_KNN = model_KNN.predict(X_test)\n",
    "\n",
    "print(accuracy_score(y_test, y_pred_KNN), accuracy_score(y_train, model_KNN.predict(X_train)))\n",
    "print(classification_report(y_test, y_pred_KNN))"
   ]
  },
  {
   "cell_type": "code",
   "execution_count": 202,
   "id": "6de2b0c1-45e2-4fa4-b94c-f342b929de7f",
   "metadata": {},
   "outputs": [],
   "source": [
    "# y_pred_KNN[0:1000]"
   ]
  },
  {
   "cell_type": "code",
   "execution_count": 185,
   "id": "24fb21d3-3ae4-4783-b60b-c25c6b5d7e27",
   "metadata": {},
   "outputs": [
    {
     "name": "stdout",
     "output_type": "stream",
     "text": [
      "0.748125 0.739375\n",
      "              precision    recall  f1-score   support\n",
      "\n",
      "           0       0.75      1.00      0.86      1197\n",
      "           1       0.00      0.00      0.00       403\n",
      "\n",
      "    accuracy                           0.75      1600\n",
      "   macro avg       0.37      0.50      0.43      1600\n",
      "weighted avg       0.56      0.75      0.64      1600\n",
      "\n"
     ]
    },
    {
     "name": "stderr",
     "output_type": "stream",
     "text": [
      "C:\\Users\\lenov\\AppData\\Local\\Programs\\Python\\Python312\\Lib\\site-packages\\sklearn\\metrics\\_classification.py:1731: UndefinedMetricWarning: Precision is ill-defined and being set to 0.0 in labels with no predicted samples. Use `zero_division` parameter to control this behavior.\n",
      "  _warn_prf(average, modifier, f\"{metric.capitalize()} is\", result.shape[0])\n",
      "C:\\Users\\lenov\\AppData\\Local\\Programs\\Python\\Python312\\Lib\\site-packages\\sklearn\\metrics\\_classification.py:1731: UndefinedMetricWarning: Precision is ill-defined and being set to 0.0 in labels with no predicted samples. Use `zero_division` parameter to control this behavior.\n",
      "  _warn_prf(average, modifier, f\"{metric.capitalize()} is\", result.shape[0])\n",
      "C:\\Users\\lenov\\AppData\\Local\\Programs\\Python\\Python312\\Lib\\site-packages\\sklearn\\metrics\\_classification.py:1731: UndefinedMetricWarning: Precision is ill-defined and being set to 0.0 in labels with no predicted samples. Use `zero_division` parameter to control this behavior.\n",
      "  _warn_prf(average, modifier, f\"{metric.capitalize()} is\", result.shape[0])\n"
     ]
    }
   ],
   "source": [
    "model_GS = GaussianNB()\n",
    "model_GS.fit(X_train, y_train)\n",
    "y_pred_GS = model_GS.predict(X_test)\n",
    "\n",
    "print(accuracy_score(y_test, y_pred_GS), accuracy_score(y_train, model_GS.predict(X_train)))\n",
    "print(classification_report(y_test, y_pred_GS))"
   ]
  },
  {
   "cell_type": "code",
   "execution_count": 188,
   "id": "4dbc20d4-4e34-40e7-b288-ccb4cd24c2c7",
   "metadata": {},
   "outputs": [
    {
     "data": {
      "text/plain": [
       "array([[0.85408991, 0.14591009],\n",
       "       [0.79554386, 0.20445614],\n",
       "       [0.86481235, 0.13518765],\n",
       "       [0.62726459, 0.37273541],\n",
       "       [0.86169378, 0.13830622],\n",
       "       [0.70235195, 0.29764805],\n",
       "       [0.67553051, 0.32446949],\n",
       "       [0.74312931, 0.25687069],\n",
       "       [0.85560985, 0.14439015],\n",
       "       [0.88317711, 0.11682289],\n",
       "       [0.70072522, 0.29927478],\n",
       "       [0.71069772, 0.28930228],\n",
       "       [0.81299728, 0.18700272],\n",
       "       [0.69674059, 0.30325941],\n",
       "       [0.85426901, 0.14573099],\n",
       "       [0.86322587, 0.13677413]])"
      ]
     },
     "execution_count": 188,
     "metadata": {},
     "output_type": "execute_result"
    }
   ],
   "source": [
    "model_GS.predict_proba(X_test)[:16]"
   ]
  },
  {
   "cell_type": "code",
   "execution_count": 204,
   "id": "56986415-9750-406e-bd8c-c3c7f4a99829",
   "metadata": {},
   "outputs": [],
   "source": [
    "# y_pred_GS[0:1000]"
   ]
  }
 ],
 "metadata": {
  "kernelspec": {
   "display_name": "Python 3 (ipykernel)",
   "language": "python",
   "name": "python3"
  },
  "language_info": {
   "codemirror_mode": {
    "name": "ipython",
    "version": 3
   },
   "file_extension": ".py",
   "mimetype": "text/x-python",
   "name": "python",
   "nbconvert_exporter": "python",
   "pygments_lexer": "ipython3",
   "version": "3.12.4"
  }
 },
 "nbformat": 4,
 "nbformat_minor": 5
}

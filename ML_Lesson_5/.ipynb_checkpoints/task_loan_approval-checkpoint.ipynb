{
 "cells": [
  {
   "cell_type": "code",
   "execution_count": 66,
   "id": "b2089973-0333-445a-b9a2-b4bbb71aa6ec",
   "metadata": {},
   "outputs": [],
   "source": [
    "import numpy as np\n",
    "import pandas as pd\n",
    "import matplotlib.pyplot as plt\n",
    "\n",
    "from sklearn.model_selection import train_test_split\n",
    "from sklearn.neighbors import KNeighborsClassifier\n",
    "from sklearn.linear_model import LogisticRegression\n",
    "from sklearn.naive_bayes import GaussianNB\n",
    "\n",
    "from sklearn.preprocessing import StandardScaler\n",
    "\n",
    "from sklearn.metrics import accuracy_score, classification_report"
   ]
  },
  {
   "cell_type": "code",
   "execution_count": 3,
   "id": "beea04d9-3964-45d8-8757-e9d9c471d545",
   "metadata": {},
   "outputs": [],
   "source": [
    "std = StandardScaler()"
   ]
  },
  {
   "cell_type": "code",
   "execution_count": 4,
   "id": "1f00f982-6778-4866-a4d7-ee76280d41ea",
   "metadata": {},
   "outputs": [],
   "source": [
    "filename = \"loan_approval.csv\""
   ]
  },
  {
   "cell_type": "code",
   "execution_count": 5,
   "id": "65004724-dbe7-4789-9671-9524ff056fb7",
   "metadata": {},
   "outputs": [
    {
     "data": {
      "text/html": [
       "<div>\n",
       "<style scoped>\n",
       "    .dataframe tbody tr th:only-of-type {\n",
       "        vertical-align: middle;\n",
       "    }\n",
       "\n",
       "    .dataframe tbody tr th {\n",
       "        vertical-align: top;\n",
       "    }\n",
       "\n",
       "    .dataframe thead th {\n",
       "        text-align: right;\n",
       "    }\n",
       "</style>\n",
       "<table border=\"1\" class=\"dataframe\">\n",
       "  <thead>\n",
       "    <tr style=\"text-align: right;\">\n",
       "      <th></th>\n",
       "      <th>name</th>\n",
       "      <th>city</th>\n",
       "      <th>income</th>\n",
       "      <th>credit_score</th>\n",
       "      <th>loan_amount</th>\n",
       "      <th>years_employed</th>\n",
       "      <th>points</th>\n",
       "      <th>loan_approved</th>\n",
       "    </tr>\n",
       "  </thead>\n",
       "  <tbody>\n",
       "    <tr>\n",
       "      <th>0</th>\n",
       "      <td>Allison Hill</td>\n",
       "      <td>East Jill</td>\n",
       "      <td>113810</td>\n",
       "      <td>389</td>\n",
       "      <td>39698</td>\n",
       "      <td>27</td>\n",
       "      <td>50.0</td>\n",
       "      <td>False</td>\n",
       "    </tr>\n",
       "    <tr>\n",
       "      <th>1</th>\n",
       "      <td>Brandon Hall</td>\n",
       "      <td>New Jamesside</td>\n",
       "      <td>44592</td>\n",
       "      <td>729</td>\n",
       "      <td>15446</td>\n",
       "      <td>28</td>\n",
       "      <td>55.0</td>\n",
       "      <td>False</td>\n",
       "    </tr>\n",
       "    <tr>\n",
       "      <th>2</th>\n",
       "      <td>Rhonda Smith</td>\n",
       "      <td>Lake Roberto</td>\n",
       "      <td>33278</td>\n",
       "      <td>584</td>\n",
       "      <td>11189</td>\n",
       "      <td>13</td>\n",
       "      <td>45.0</td>\n",
       "      <td>False</td>\n",
       "    </tr>\n",
       "    <tr>\n",
       "      <th>3</th>\n",
       "      <td>Gabrielle Davis</td>\n",
       "      <td>West Melanieview</td>\n",
       "      <td>127196</td>\n",
       "      <td>344</td>\n",
       "      <td>48823</td>\n",
       "      <td>29</td>\n",
       "      <td>50.0</td>\n",
       "      <td>False</td>\n",
       "    </tr>\n",
       "    <tr>\n",
       "      <th>4</th>\n",
       "      <td>Valerie Gray</td>\n",
       "      <td>Mariastad</td>\n",
       "      <td>66048</td>\n",
       "      <td>496</td>\n",
       "      <td>47174</td>\n",
       "      <td>4</td>\n",
       "      <td>25.0</td>\n",
       "      <td>False</td>\n",
       "    </tr>\n",
       "    <tr>\n",
       "      <th>...</th>\n",
       "      <td>...</td>\n",
       "      <td>...</td>\n",
       "      <td>...</td>\n",
       "      <td>...</td>\n",
       "      <td>...</td>\n",
       "      <td>...</td>\n",
       "      <td>...</td>\n",
       "      <td>...</td>\n",
       "    </tr>\n",
       "    <tr>\n",
       "      <th>1995</th>\n",
       "      <td>James Schaefer</td>\n",
       "      <td>Robertton</td>\n",
       "      <td>92163</td>\n",
       "      <td>770</td>\n",
       "      <td>12251</td>\n",
       "      <td>13</td>\n",
       "      <td>85.0</td>\n",
       "      <td>True</td>\n",
       "    </tr>\n",
       "    <tr>\n",
       "      <th>1996</th>\n",
       "      <td>Diana Lin</td>\n",
       "      <td>New Frank</td>\n",
       "      <td>38799</td>\n",
       "      <td>635</td>\n",
       "      <td>48259</td>\n",
       "      <td>17</td>\n",
       "      <td>40.0</td>\n",
       "      <td>False</td>\n",
       "    </tr>\n",
       "    <tr>\n",
       "      <th>1997</th>\n",
       "      <td>Brandon Meyer</td>\n",
       "      <td>East Haley</td>\n",
       "      <td>41957</td>\n",
       "      <td>763</td>\n",
       "      <td>16752</td>\n",
       "      <td>5</td>\n",
       "      <td>60.0</td>\n",
       "      <td>True</td>\n",
       "    </tr>\n",
       "    <tr>\n",
       "      <th>1998</th>\n",
       "      <td>Jason Price</td>\n",
       "      <td>Adamland</td>\n",
       "      <td>139022</td>\n",
       "      <td>360</td>\n",
       "      <td>24031</td>\n",
       "      <td>35</td>\n",
       "      <td>55.0</td>\n",
       "      <td>False</td>\n",
       "    </tr>\n",
       "    <tr>\n",
       "      <th>1999</th>\n",
       "      <td>Nicole Brown</td>\n",
       "      <td>New Nathantown</td>\n",
       "      <td>41188</td>\n",
       "      <td>482</td>\n",
       "      <td>31397</td>\n",
       "      <td>6</td>\n",
       "      <td>20.0</td>\n",
       "      <td>False</td>\n",
       "    </tr>\n",
       "  </tbody>\n",
       "</table>\n",
       "<p>2000 rows × 8 columns</p>\n",
       "</div>"
      ],
      "text/plain": [
       "                 name              city  income  credit_score  loan_amount  \\\n",
       "0        Allison Hill         East Jill  113810           389        39698   \n",
       "1        Brandon Hall     New Jamesside   44592           729        15446   \n",
       "2        Rhonda Smith      Lake Roberto   33278           584        11189   \n",
       "3     Gabrielle Davis  West Melanieview  127196           344        48823   \n",
       "4        Valerie Gray         Mariastad   66048           496        47174   \n",
       "...               ...               ...     ...           ...          ...   \n",
       "1995   James Schaefer         Robertton   92163           770        12251   \n",
       "1996        Diana Lin         New Frank   38799           635        48259   \n",
       "1997    Brandon Meyer        East Haley   41957           763        16752   \n",
       "1998      Jason Price          Adamland  139022           360        24031   \n",
       "1999     Nicole Brown    New Nathantown   41188           482        31397   \n",
       "\n",
       "      years_employed  points  loan_approved  \n",
       "0                 27    50.0          False  \n",
       "1                 28    55.0          False  \n",
       "2                 13    45.0          False  \n",
       "3                 29    50.0          False  \n",
       "4                  4    25.0          False  \n",
       "...              ...     ...            ...  \n",
       "1995              13    85.0           True  \n",
       "1996              17    40.0          False  \n",
       "1997               5    60.0           True  \n",
       "1998              35    55.0          False  \n",
       "1999               6    20.0          False  \n",
       "\n",
       "[2000 rows x 8 columns]"
      ]
     },
     "execution_count": 5,
     "metadata": {},
     "output_type": "execute_result"
    }
   ],
   "source": [
    "data = pd.read_csv(filename)\n",
    "data"
   ]
  },
  {
   "cell_type": "code",
   "execution_count": 6,
   "id": "5d6d5e22-9efe-4558-bd0e-bdd1205866f4",
   "metadata": {},
   "outputs": [
    {
     "name": "stdout",
     "output_type": "stream",
     "text": [
      "<class 'pandas.core.frame.DataFrame'>\n",
      "RangeIndex: 2000 entries, 0 to 1999\n",
      "Data columns (total 8 columns):\n",
      " #   Column          Non-Null Count  Dtype  \n",
      "---  ------          --------------  -----  \n",
      " 0   name            2000 non-null   object \n",
      " 1   city            2000 non-null   object \n",
      " 2   income          2000 non-null   int64  \n",
      " 3   credit_score    2000 non-null   int64  \n",
      " 4   loan_amount     2000 non-null   int64  \n",
      " 5   years_employed  2000 non-null   int64  \n",
      " 6   points          2000 non-null   float64\n",
      " 7   loan_approved   2000 non-null   bool   \n",
      "dtypes: bool(1), float64(1), int64(4), object(2)\n",
      "memory usage: 111.5+ KB\n"
     ]
    }
   ],
   "source": [
    "data.info()"
   ]
  },
  {
   "cell_type": "code",
   "execution_count": 7,
   "id": "c4860f0e-2e5c-4020-82fc-4b91d6853f38",
   "metadata": {},
   "outputs": [],
   "source": [
    "X = data.drop(['loan_approved'], axis=1)\n",
    "y = data['loan_approved']"
   ]
  },
  {
   "cell_type": "code",
   "execution_count": 70,
   "id": "d181b718-9c52-43c9-9d03-bd9713914250",
   "metadata": {},
   "outputs": [],
   "source": [
    "X_train, X_test, y_train, y_test = train_test_split(X, y, test_size=0.2, random_state=0)"
   ]
  },
  {
   "cell_type": "code",
   "execution_count": 71,
   "id": "1de4eb5f-4ff1-4675-bbb4-ab4f2cf97e31",
   "metadata": {},
   "outputs": [
    {
     "data": {
      "text/html": [
       "<div>\n",
       "<style scoped>\n",
       "    .dataframe tbody tr th:only-of-type {\n",
       "        vertical-align: middle;\n",
       "    }\n",
       "\n",
       "    .dataframe tbody tr th {\n",
       "        vertical-align: top;\n",
       "    }\n",
       "\n",
       "    .dataframe thead th {\n",
       "        text-align: right;\n",
       "    }\n",
       "</style>\n",
       "<table border=\"1\" class=\"dataframe\">\n",
       "  <thead>\n",
       "    <tr style=\"text-align: right;\">\n",
       "      <th></th>\n",
       "      <th>name</th>\n",
       "      <th>city</th>\n",
       "      <th>income</th>\n",
       "      <th>credit_score</th>\n",
       "      <th>loan_amount</th>\n",
       "      <th>years_employed</th>\n",
       "      <th>points</th>\n",
       "    </tr>\n",
       "  </thead>\n",
       "  <tbody>\n",
       "    <tr>\n",
       "      <th>582</th>\n",
       "      <td>Alexander Chavez</td>\n",
       "      <td>South Christopher</td>\n",
       "      <td>61029</td>\n",
       "      <td>631</td>\n",
       "      <td>46332</td>\n",
       "      <td>10</td>\n",
       "      <td>50.0</td>\n",
       "    </tr>\n",
       "    <tr>\n",
       "      <th>159</th>\n",
       "      <td>Michelle Black</td>\n",
       "      <td>West Christopherburgh</td>\n",
       "      <td>106484</td>\n",
       "      <td>579</td>\n",
       "      <td>30446</td>\n",
       "      <td>32</td>\n",
       "      <td>50.0</td>\n",
       "    </tr>\n",
       "    <tr>\n",
       "      <th>1827</th>\n",
       "      <td>Jesus Johnson</td>\n",
       "      <td>East Joshuaside</td>\n",
       "      <td>77537</td>\n",
       "      <td>480</td>\n",
       "      <td>49920</td>\n",
       "      <td>21</td>\n",
       "      <td>40.0</td>\n",
       "    </tr>\n",
       "    <tr>\n",
       "      <th>318</th>\n",
       "      <td>Audrey Salazar</td>\n",
       "      <td>West Elizabethburgh</td>\n",
       "      <td>61850</td>\n",
       "      <td>422</td>\n",
       "      <td>1830</td>\n",
       "      <td>8</td>\n",
       "      <td>45.0</td>\n",
       "    </tr>\n",
       "    <tr>\n",
       "      <th>708</th>\n",
       "      <td>Jennifer Ramos</td>\n",
       "      <td>Port Jessica</td>\n",
       "      <td>52810</td>\n",
       "      <td>734</td>\n",
       "      <td>48749</td>\n",
       "      <td>26</td>\n",
       "      <td>60.0</td>\n",
       "    </tr>\n",
       "    <tr>\n",
       "      <th>...</th>\n",
       "      <td>...</td>\n",
       "      <td>...</td>\n",
       "      <td>...</td>\n",
       "      <td>...</td>\n",
       "      <td>...</td>\n",
       "      <td>...</td>\n",
       "      <td>...</td>\n",
       "    </tr>\n",
       "    <tr>\n",
       "      <th>835</th>\n",
       "      <td>Jody Bird</td>\n",
       "      <td>West Kevin</td>\n",
       "      <td>93517</td>\n",
       "      <td>443</td>\n",
       "      <td>47815</td>\n",
       "      <td>24</td>\n",
       "      <td>40.0</td>\n",
       "    </tr>\n",
       "    <tr>\n",
       "      <th>1216</th>\n",
       "      <td>Tiffany Alexander</td>\n",
       "      <td>Katieview</td>\n",
       "      <td>130197</td>\n",
       "      <td>565</td>\n",
       "      <td>33435</td>\n",
       "      <td>8</td>\n",
       "      <td>45.0</td>\n",
       "    </tr>\n",
       "    <tr>\n",
       "      <th>1653</th>\n",
       "      <td>Kristen Richard</td>\n",
       "      <td>East Steven</td>\n",
       "      <td>65976</td>\n",
       "      <td>456</td>\n",
       "      <td>7461</td>\n",
       "      <td>34</td>\n",
       "      <td>45.0</td>\n",
       "    </tr>\n",
       "    <tr>\n",
       "      <th>559</th>\n",
       "      <td>Nicholas Miller</td>\n",
       "      <td>East Stacyberg</td>\n",
       "      <td>35482</td>\n",
       "      <td>594</td>\n",
       "      <td>1900</td>\n",
       "      <td>21</td>\n",
       "      <td>55.0</td>\n",
       "    </tr>\n",
       "    <tr>\n",
       "      <th>684</th>\n",
       "      <td>Justin Smith</td>\n",
       "      <td>Dodsonberg</td>\n",
       "      <td>71145</td>\n",
       "      <td>667</td>\n",
       "      <td>20384</td>\n",
       "      <td>15</td>\n",
       "      <td>55.0</td>\n",
       "    </tr>\n",
       "  </tbody>\n",
       "</table>\n",
       "<p>1600 rows × 7 columns</p>\n",
       "</div>"
      ],
      "text/plain": [
       "                   name                   city  income  credit_score  \\\n",
       "582    Alexander Chavez      South Christopher   61029           631   \n",
       "159      Michelle Black  West Christopherburgh  106484           579   \n",
       "1827      Jesus Johnson        East Joshuaside   77537           480   \n",
       "318      Audrey Salazar    West Elizabethburgh   61850           422   \n",
       "708      Jennifer Ramos           Port Jessica   52810           734   \n",
       "...                 ...                    ...     ...           ...   \n",
       "835           Jody Bird             West Kevin   93517           443   \n",
       "1216  Tiffany Alexander              Katieview  130197           565   \n",
       "1653    Kristen Richard            East Steven   65976           456   \n",
       "559     Nicholas Miller         East Stacyberg   35482           594   \n",
       "684        Justin Smith             Dodsonberg   71145           667   \n",
       "\n",
       "      loan_amount  years_employed  points  \n",
       "582         46332              10    50.0  \n",
       "159         30446              32    50.0  \n",
       "1827        49920              21    40.0  \n",
       "318          1830               8    45.0  \n",
       "708         48749              26    60.0  \n",
       "...           ...             ...     ...  \n",
       "835         47815              24    40.0  \n",
       "1216        33435               8    45.0  \n",
       "1653         7461              34    45.0  \n",
       "559          1900              21    55.0  \n",
       "684         20384              15    55.0  \n",
       "\n",
       "[1600 rows x 7 columns]"
      ]
     },
     "execution_count": 71,
     "metadata": {},
     "output_type": "execute_result"
    }
   ],
   "source": [
    "X_train"
   ]
  },
  {
   "cell_type": "code",
   "execution_count": 72,
   "id": "7d5a01ce-7ade-460d-9b27-94c414bc3e92",
   "metadata": {},
   "outputs": [],
   "source": [
    "X_train.drop(['name'], axis=1, inplace=True)"
   ]
  },
  {
   "cell_type": "code",
   "execution_count": 73,
   "id": "b7f5c059-b3cd-44f2-bb55-683fb4a3e178",
   "metadata": {},
   "outputs": [
    {
     "data": {
      "text/plain": [
       "city\n",
       "North Michael       3\n",
       "West Melissa        3\n",
       "Port Michael        3\n",
       "North David         3\n",
       "Leeland             3\n",
       "                   ..\n",
       "Butlerville         1\n",
       "Hopkinsmouth        1\n",
       "New Prestonfort     1\n",
       "North Brendatown    1\n",
       "South John          1\n",
       "Name: count, Length: 1530, dtype: int64"
      ]
     },
     "execution_count": 73,
     "metadata": {},
     "output_type": "execute_result"
    }
   ],
   "source": [
    "X_train['city'].value_counts()"
   ]
  },
  {
   "cell_type": "code",
   "execution_count": 74,
   "id": "f2e996ac-b199-48fe-b727-b412321402f0",
   "metadata": {},
   "outputs": [],
   "source": [
    "X_train.drop(['city'], axis=1, inplace=True)"
   ]
  },
  {
   "cell_type": "code",
   "execution_count": 75,
   "id": "9700544e-5381-4bdf-9239-ff9737f9c318",
   "metadata": {},
   "outputs": [
    {
     "data": {
      "text/plain": [
       "<Axes: >"
      ]
     },
     "execution_count": 75,
     "metadata": {},
     "output_type": "execute_result"
    },
    {
     "data": {
      "image/png": "[encoded data removed]",
      "text/plain": [
       "<Figure size 640x480 with 1 Axes>"
      ]
     },
     "metadata": {},
     "output_type": "display_data"
    }
   ],
   "source": [
    "X_train['income'].hist(bins=40)"
   ]
  },
  {
   "cell_type": "code",
   "execution_count": 76,
   "id": "959ebbfd-6103-4160-b942-091fb08f71d3",
   "metadata": {},
   "outputs": [
    {
     "data": {
      "image/png": "[encoded data removed]",
      "text/plain": [
       "<Figure size 640x480 with 1 Axes>"
      ]
     },
     "metadata": {},
     "output_type": "display_data"
    }
   ],
   "source": [
    "X_train['income'].plot.box()\n",
    "plt.grid();"
   ]
  },
  {
   "cell_type": "code",
   "execution_count": 77,
   "id": "5013df0f-63eb-4911-81ae-4b38880779d5",
   "metadata": {},
   "outputs": [
    {
     "data": {
      "text/plain": [
       "<Axes: >"
      ]
     },
     "execution_count": 77,
     "metadata": {},
     "output_type": "execute_result"
    },
    {
     "data": {
      "image/png": "[encoded data removed]",
      "text/plain": [
       "<Figure size 640x480 with 1 Axes>"
      ]
     },
     "metadata": {},
     "output_type": "display_data"
    }
   ],
   "source": [
    "X_train['credit_score'].hist(bins=40)"
   ]
  },
  {
   "cell_type": "code",
   "execution_count": 78,
   "id": "49a9a7b7-4e14-4476-b3c5-79835df4aede",
   "metadata": {},
   "outputs": [
    {
     "data": {
      "image/png": "[encoded data removed]",
      "text/plain": [
       "<Figure size 640x480 with 1 Axes>"
      ]
     },
     "metadata": {},
     "output_type": "display_data"
    }
   ],
   "source": [
    "X_train['credit_score'].plot.box()\n",
    "plt.grid();"
   ]
  },
  {
   "cell_type": "code",
   "execution_count": 79,
   "id": "36af832e-8814-4a25-a0a4-34409b240a4a",
   "metadata": {},
   "outputs": [
    {
     "data": {
      "text/plain": [
       "<Axes: >"
      ]
     },
     "execution_count": 79,
     "metadata": {},
     "output_type": "execute_result"
    },
    {
     "data": {
      "image/png": "[encoded data removed]",
      "text/plain": [
       "<Figure size 640x480 with 1 Axes>"
      ]
     },
     "metadata": {},
     "output_type": "display_data"
    }
   ],
   "source": [
    "X_train['loan_amount'].hist(bins=40)"
   ]
  },
  {
   "cell_type": "code",
   "execution_count": 80,
   "id": "627061f8-b99c-4e95-974d-9da9c4ead74b",
   "metadata": {},
   "outputs": [
    {
     "data": {
      "image/png": "[encoded data removed]",
      "text/plain": [
       "<Figure size 640x480 with 1 Axes>"
      ]
     },
     "metadata": {},
     "output_type": "display_data"
    }
   ],
   "source": [
    "X_train['loan_amount'].plot.box()\n",
    "plt.grid();"
   ]
  },
  {
   "cell_type": "code",
   "execution_count": 81,
   "id": "f69b82a6-6f9f-403f-b5bf-2fa02acd2a4a",
   "metadata": {},
   "outputs": [
    {
     "data": {
      "text/plain": [
       "<Axes: >"
      ]
     },
     "execution_count": 81,
     "metadata": {},
     "output_type": "execute_result"
    },
    {
     "data": {
      "image/png": "[encoded data removed]",
      "text/plain": [
       "<Figure size 640x480 with 1 Axes>"
      ]
     },
     "metadata": {},
     "output_type": "display_data"
    }
   ],
   "source": [
    "X_train['years_employed'].hist(bins=40)"
   ]
  },
  {
   "cell_type": "code",
   "execution_count": 82,
   "id": "44346120-412d-4173-afc3-b2aac16d50db",
   "metadata": {},
   "outputs": [
    {
     "data": {
      "image/png": "[encoded data removed]",
      "text/plain": [
       "<Figure size 640x480 with 1 Axes>"
      ]
     },
     "metadata": {},
     "output_type": "display_data"
    }
   ],
   "source": [
    "X_train['years_employed'].plot.box()\n",
    "plt.grid();"
   ]
  },
  {
   "cell_type": "code",
   "execution_count": 83,
   "id": "e30feaba-b97e-4b7e-8757-ea90702e1a4c",
   "metadata": {},
   "outputs": [
    {
     "data": {
      "text/plain": [
       "<Axes: >"
      ]
     },
     "execution_count": 83,
     "metadata": {},
     "output_type": "execute_result"
    },
    {
     "data": {
      "image/png": "[encoded data removed]",
      "text/plain": [
       "<Figure size 640x480 with 1 Axes>"
      ]
     },
     "metadata": {},
     "output_type": "display_data"
    }
   ],
   "source": [
    "X_train['points'].hist(bins=40)"
   ]
  },
  {
   "cell_type": "code",
   "execution_count": 84,
   "id": "6f637289-53de-46a0-95a0-17e797dac783",
   "metadata": {},
   "outputs": [
    {
     "data": {
      "image/png": "[encoded data removed]",
      "text/plain": [
       "<Figure size 640x480 with 1 Axes>"
      ]
     },
     "metadata": {},
     "output_type": "display_data"
    }
   ],
   "source": [
    "X_train['points'].plot.box()\n",
    "plt.grid();"
   ]
  },
  {
   "cell_type": "code",
   "execution_count": 85,
   "id": "f55c1148-89f6-4257-8c69-dd84c4ed1647",
   "metadata": {},
   "outputs": [],
   "source": [
    "X_train = pd.DataFrame(std.fit_transform(X_train), columns=X_train.columns, index=X_train.index)"
   ]
  },
  {
   "cell_type": "code",
   "execution_count": 86,
   "id": "3fd8572d-f4c3-4728-94c7-27faefac40b0",
   "metadata": {},
   "outputs": [],
   "source": [
    "y_train = y_train.astype('int8')"
   ]
  },
  {
   "cell_type": "code",
   "execution_count": 87,
   "id": "ca64b17c-8333-4efb-ae29-301cd50e5d94",
   "metadata": {},
   "outputs": [
    {
     "data": {
      "text/plain": [
       "582     0\n",
       "159     0\n",
       "1827    0\n",
       "318     0\n",
       "708     1\n",
       "       ..\n",
       "835     0\n",
       "1216    0\n",
       "1653    0\n",
       "559     0\n",
       "684     0\n",
       "Name: loan_approved, Length: 1600, dtype: int8"
      ]
     },
     "execution_count": 87,
     "metadata": {},
     "output_type": "execute_result"
    }
   ],
   "source": [
    "y_train"
   ]
  },
  {
   "cell_type": "code",
   "execution_count": null,
   "id": "e0040d62-0e49-4940-a8b8-f6b860806324",
   "metadata": {},
   "outputs": [],
   "source": []
  },
  {
   "cell_type": "code",
   "execution_count": 88,
   "id": "8e8f61f2-cf99-404a-b238-fa5ba836cbea",
   "metadata": {},
   "outputs": [
    {
     "data": {
      "text/html": [
       "<div>\n",
       "<style scoped>\n",
       "    .dataframe tbody tr th:only-of-type {\n",
       "        vertical-align: middle;\n",
       "    }\n",
       "\n",
       "    .dataframe tbody tr th {\n",
       "        vertical-align: top;\n",
       "    }\n",
       "\n",
       "    .dataframe thead th {\n",
       "        text-align: right;\n",
       "    }\n",
       "</style>\n",
       "<table border=\"1\" class=\"dataframe\">\n",
       "  <thead>\n",
       "    <tr style=\"text-align: right;\">\n",
       "      <th></th>\n",
       "      <th>income</th>\n",
       "      <th>credit_score</th>\n",
       "      <th>loan_amount</th>\n",
       "      <th>years_employed</th>\n",
       "      <th>points</th>\n",
       "    </tr>\n",
       "  </thead>\n",
       "  <tbody>\n",
       "    <tr>\n",
       "      <th>582</th>\n",
       "      <td>-0.837387</td>\n",
       "      <td>0.355913</td>\n",
       "      <td>1.457714</td>\n",
       "      <td>-0.904734</td>\n",
       "      <td>-0.352180</td>\n",
       "    </tr>\n",
       "    <tr>\n",
       "      <th>159</th>\n",
       "      <td>0.474968</td>\n",
       "      <td>0.031555</td>\n",
       "      <td>0.343247</td>\n",
       "      <td>0.958187</td>\n",
       "      <td>-0.352180</td>\n",
       "    </tr>\n",
       "    <tr>\n",
       "      <th>1827</th>\n",
       "      <td>-0.360776</td>\n",
       "      <td>-0.585974</td>\n",
       "      <td>1.709427</td>\n",
       "      <td>0.026727</td>\n",
       "      <td>-0.892696</td>\n",
       "    </tr>\n",
       "    <tr>\n",
       "      <th>318</th>\n",
       "      <td>-0.813684</td>\n",
       "      <td>-0.947759</td>\n",
       "      <td>-1.664280</td>\n",
       "      <td>-1.074090</td>\n",
       "      <td>-0.622438</td>\n",
       "    </tr>\n",
       "    <tr>\n",
       "      <th>708</th>\n",
       "      <td>-1.074682</td>\n",
       "      <td>0.998393</td>\n",
       "      <td>1.627276</td>\n",
       "      <td>0.450118</td>\n",
       "      <td>0.188336</td>\n",
       "    </tr>\n",
       "    <tr>\n",
       "      <th>...</th>\n",
       "      <td>...</td>\n",
       "      <td>...</td>\n",
       "      <td>...</td>\n",
       "      <td>...</td>\n",
       "      <td>...</td>\n",
       "    </tr>\n",
       "    <tr>\n",
       "      <th>835</th>\n",
       "      <td>0.100591</td>\n",
       "      <td>-0.816768</td>\n",
       "      <td>1.561752</td>\n",
       "      <td>0.280761</td>\n",
       "      <td>-0.892696</td>\n",
       "    </tr>\n",
       "    <tr>\n",
       "      <th>1216</th>\n",
       "      <td>1.159598</td>\n",
       "      <td>-0.055773</td>\n",
       "      <td>0.552938</td>\n",
       "      <td>-1.074090</td>\n",
       "      <td>-0.622438</td>\n",
       "    </tr>\n",
       "    <tr>\n",
       "      <th>1653</th>\n",
       "      <td>-0.694560</td>\n",
       "      <td>-0.735678</td>\n",
       "      <td>-1.269242</td>\n",
       "      <td>1.127543</td>\n",
       "      <td>-0.622438</td>\n",
       "    </tr>\n",
       "    <tr>\n",
       "      <th>559</th>\n",
       "      <td>-1.574968</td>\n",
       "      <td>0.125120</td>\n",
       "      <td>-1.659369</td>\n",
       "      <td>0.026727</td>\n",
       "      <td>-0.081922</td>\n",
       "    </tr>\n",
       "    <tr>\n",
       "      <th>684</th>\n",
       "      <td>-0.545323</td>\n",
       "      <td>0.580469</td>\n",
       "      <td>-0.362642</td>\n",
       "      <td>-0.481343</td>\n",
       "      <td>-0.081922</td>\n",
       "    </tr>\n",
       "  </tbody>\n",
       "</table>\n",
       "<p>1600 rows × 5 columns</p>\n",
       "</div>"
      ],
      "text/plain": [
       "        income  credit_score  loan_amount  years_employed    points\n",
       "582  -0.837387      0.355913     1.457714       -0.904734 -0.352180\n",
       "159   0.474968      0.031555     0.343247        0.958187 -0.352180\n",
       "1827 -0.360776     -0.585974     1.709427        0.026727 -0.892696\n",
       "318  -0.813684     -0.947759    -1.664280       -1.074090 -0.622438\n",
       "708  -1.074682      0.998393     1.627276        0.450118  0.188336\n",
       "...        ...           ...          ...             ...       ...\n",
       "835   0.100591     -0.816768     1.561752        0.280761 -0.892696\n",
       "1216  1.159598     -0.055773     0.552938       -1.074090 -0.622438\n",
       "1653 -0.694560     -0.735678    -1.269242        1.127543 -0.622438\n",
       "559  -1.574968      0.125120    -1.659369        0.026727 -0.081922\n",
       "684  -0.545323      0.580469    -0.362642       -0.481343 -0.081922\n",
       "\n",
       "[1600 rows x 5 columns]"
      ]
     },
     "execution_count": 88,
     "metadata": {},
     "output_type": "execute_result"
    }
   ],
   "source": [
    "X_train"
   ]
  },
  {
   "cell_type": "code",
   "execution_count": 89,
   "id": "aa5afdca-2108-4f80-8964-c4510bf1229b",
   "metadata": {},
   "outputs": [
    {
     "data": {
      "text/html": [
       "<div>\n",
       "<style scoped>\n",
       "    .dataframe tbody tr th:only-of-type {\n",
       "        vertical-align: middle;\n",
       "    }\n",
       "\n",
       "    .dataframe tbody tr th {\n",
       "        vertical-align: top;\n",
       "    }\n",
       "\n",
       "    .dataframe thead th {\n",
       "        text-align: right;\n",
       "    }\n",
       "</style>\n",
       "<table border=\"1\" class=\"dataframe\">\n",
       "  <thead>\n",
       "    <tr style=\"text-align: right;\">\n",
       "      <th></th>\n",
       "      <th>name</th>\n",
       "      <th>city</th>\n",
       "      <th>income</th>\n",
       "      <th>credit_score</th>\n",
       "      <th>loan_amount</th>\n",
       "      <th>years_employed</th>\n",
       "      <th>points</th>\n",
       "    </tr>\n",
       "  </thead>\n",
       "  <tbody>\n",
       "    <tr>\n",
       "      <th>405</th>\n",
       "      <td>Jason Martin</td>\n",
       "      <td>Lozanofort</td>\n",
       "      <td>105914</td>\n",
       "      <td>638</td>\n",
       "      <td>16368</td>\n",
       "      <td>0</td>\n",
       "      <td>55.0</td>\n",
       "    </tr>\n",
       "    <tr>\n",
       "      <th>1190</th>\n",
       "      <td>Joseph Garcia</td>\n",
       "      <td>Hallside</td>\n",
       "      <td>87733</td>\n",
       "      <td>638</td>\n",
       "      <td>2477</td>\n",
       "      <td>14</td>\n",
       "      <td>70.0</td>\n",
       "    </tr>\n",
       "    <tr>\n",
       "      <th>1132</th>\n",
       "      <td>Rebecca Gray</td>\n",
       "      <td>East Brandy</td>\n",
       "      <td>76112</td>\n",
       "      <td>422</td>\n",
       "      <td>9276</td>\n",
       "      <td>20</td>\n",
       "      <td>50.0</td>\n",
       "    </tr>\n",
       "    <tr>\n",
       "      <th>731</th>\n",
       "      <td>Brian Rollins</td>\n",
       "      <td>South Danielberg</td>\n",
       "      <td>92021</td>\n",
       "      <td>807</td>\n",
       "      <td>24674</td>\n",
       "      <td>18</td>\n",
       "      <td>85.0</td>\n",
       "    </tr>\n",
       "    <tr>\n",
       "      <th>1754</th>\n",
       "      <td>Samantha Carter</td>\n",
       "      <td>Moorestad</td>\n",
       "      <td>78311</td>\n",
       "      <td>597</td>\n",
       "      <td>3773</td>\n",
       "      <td>11</td>\n",
       "      <td>70.0</td>\n",
       "    </tr>\n",
       "    <tr>\n",
       "      <th>...</th>\n",
       "      <td>...</td>\n",
       "      <td>...</td>\n",
       "      <td>...</td>\n",
       "      <td>...</td>\n",
       "      <td>...</td>\n",
       "      <td>...</td>\n",
       "      <td>...</td>\n",
       "    </tr>\n",
       "    <tr>\n",
       "      <th>638</th>\n",
       "      <td>Dorothy Mclaughlin</td>\n",
       "      <td>West Toddberg</td>\n",
       "      <td>140580</td>\n",
       "      <td>817</td>\n",
       "      <td>6037</td>\n",
       "      <td>17</td>\n",
       "      <td>100.0</td>\n",
       "    </tr>\n",
       "    <tr>\n",
       "      <th>360</th>\n",
       "      <td>Daniel Lee</td>\n",
       "      <td>Donnaport</td>\n",
       "      <td>135909</td>\n",
       "      <td>543</td>\n",
       "      <td>7285</td>\n",
       "      <td>3</td>\n",
       "      <td>50.0</td>\n",
       "    </tr>\n",
       "    <tr>\n",
       "      <th>1810</th>\n",
       "      <td>Debbie Arias</td>\n",
       "      <td>Jacksonside</td>\n",
       "      <td>146052</td>\n",
       "      <td>648</td>\n",
       "      <td>49139</td>\n",
       "      <td>31</td>\n",
       "      <td>65.0</td>\n",
       "    </tr>\n",
       "    <tr>\n",
       "      <th>1743</th>\n",
       "      <td>Donna Boyd</td>\n",
       "      <td>East Gregoryport</td>\n",
       "      <td>135458</td>\n",
       "      <td>813</td>\n",
       "      <td>41740</td>\n",
       "      <td>2</td>\n",
       "      <td>80.0</td>\n",
       "    </tr>\n",
       "    <tr>\n",
       "      <th>563</th>\n",
       "      <td>Matthew Alvarado</td>\n",
       "      <td>Michelletown</td>\n",
       "      <td>134349</td>\n",
       "      <td>599</td>\n",
       "      <td>43559</td>\n",
       "      <td>24</td>\n",
       "      <td>65.0</td>\n",
       "    </tr>\n",
       "  </tbody>\n",
       "</table>\n",
       "<p>400 rows × 7 columns</p>\n",
       "</div>"
      ],
      "text/plain": [
       "                    name              city  income  credit_score  loan_amount  \\\n",
       "405         Jason Martin        Lozanofort  105914           638        16368   \n",
       "1190       Joseph Garcia          Hallside   87733           638         2477   \n",
       "1132        Rebecca Gray       East Brandy   76112           422         9276   \n",
       "731        Brian Rollins  South Danielberg   92021           807        24674   \n",
       "1754     Samantha Carter         Moorestad   78311           597         3773   \n",
       "...                  ...               ...     ...           ...          ...   \n",
       "638   Dorothy Mclaughlin     West Toddberg  140580           817         6037   \n",
       "360           Daniel Lee         Donnaport  135909           543         7285   \n",
       "1810        Debbie Arias       Jacksonside  146052           648        49139   \n",
       "1743          Donna Boyd  East Gregoryport  135458           813        41740   \n",
       "563     Matthew Alvarado      Michelletown  134349           599        43559   \n",
       "\n",
       "      years_employed  points  \n",
       "405                0    55.0  \n",
       "1190              14    70.0  \n",
       "1132              20    50.0  \n",
       "731               18    85.0  \n",
       "1754              11    70.0  \n",
       "...              ...     ...  \n",
       "638               17   100.0  \n",
       "360                3    50.0  \n",
       "1810              31    65.0  \n",
       "1743               2    80.0  \n",
       "563               24    65.0  \n",
       "\n",
       "[400 rows x 7 columns]"
      ]
     },
     "execution_count": 89,
     "metadata": {},
     "output_type": "execute_result"
    }
   ],
   "source": [
    "X_test"
   ]
  },
  {
   "cell_type": "code",
   "execution_count": 90,
   "id": "3d5f6c0a-4a7b-495a-9350-3d0e356484db",
   "metadata": {},
   "outputs": [],
   "source": [
    "X_test.drop(['name', 'city'], axis=1, inplace=True)"
   ]
  },
  {
   "cell_type": "code",
   "execution_count": 91,
   "id": "56769a40-12fb-4ad5-bff5-1eb0905a5c4d",
   "metadata": {},
   "outputs": [],
   "source": [
    "X_test = pd.DataFrame(std.transform(X_test), columns=X_test.columns, index=X_test.index)"
   ]
  },
  {
   "cell_type": "code",
   "execution_count": 92,
   "id": "6c777c01-33a4-4b96-a420-1914400d96d8",
   "metadata": {},
   "outputs": [
    {
     "data": {
      "text/html": [
       "<div>\n",
       "<style scoped>\n",
       "    .dataframe tbody tr th:only-of-type {\n",
       "        vertical-align: middle;\n",
       "    }\n",
       "\n",
       "    .dataframe tbody tr th {\n",
       "        vertical-align: top;\n",
       "    }\n",
       "\n",
       "    .dataframe thead th {\n",
       "        text-align: right;\n",
       "    }\n",
       "</style>\n",
       "<table border=\"1\" class=\"dataframe\">\n",
       "  <thead>\n",
       "    <tr style=\"text-align: right;\">\n",
       "      <th></th>\n",
       "      <th>income</th>\n",
       "      <th>credit_score</th>\n",
       "      <th>loan_amount</th>\n",
       "      <th>years_employed</th>\n",
       "      <th>points</th>\n",
       "    </tr>\n",
       "  </thead>\n",
       "  <tbody>\n",
       "    <tr>\n",
       "      <th>405</th>\n",
       "      <td>0.458511</td>\n",
       "      <td>0.399577</td>\n",
       "      <td>-0.644381</td>\n",
       "      <td>-1.751516</td>\n",
       "      <td>-0.081922</td>\n",
       "    </tr>\n",
       "    <tr>\n",
       "      <th>1190</th>\n",
       "      <td>-0.066402</td>\n",
       "      <td>0.399577</td>\n",
       "      <td>-1.618890</td>\n",
       "      <td>-0.566021</td>\n",
       "      <td>0.728852</td>\n",
       "    </tr>\n",
       "    <tr>\n",
       "      <th>1132</th>\n",
       "      <td>-0.401918</td>\n",
       "      <td>-0.947759</td>\n",
       "      <td>-1.141913</td>\n",
       "      <td>-0.057952</td>\n",
       "      <td>-0.352180</td>\n",
       "    </tr>\n",
       "    <tr>\n",
       "      <th>731</th>\n",
       "      <td>0.057399</td>\n",
       "      <td>1.453742</td>\n",
       "      <td>-0.061682</td>\n",
       "      <td>-0.227308</td>\n",
       "      <td>1.539626</td>\n",
       "    </tr>\n",
       "    <tr>\n",
       "      <th>1754</th>\n",
       "      <td>-0.338430</td>\n",
       "      <td>0.143833</td>\n",
       "      <td>-1.527970</td>\n",
       "      <td>-0.820056</td>\n",
       "      <td>0.728852</td>\n",
       "    </tr>\n",
       "    <tr>\n",
       "      <th>...</th>\n",
       "      <td>...</td>\n",
       "      <td>...</td>\n",
       "      <td>...</td>\n",
       "      <td>...</td>\n",
       "      <td>...</td>\n",
       "    </tr>\n",
       "    <tr>\n",
       "      <th>638</th>\n",
       "      <td>1.459371</td>\n",
       "      <td>1.516119</td>\n",
       "      <td>-1.369142</td>\n",
       "      <td>-0.311986</td>\n",
       "      <td>2.350400</td>\n",
       "    </tr>\n",
       "    <tr>\n",
       "      <th>360</th>\n",
       "      <td>1.324512</td>\n",
       "      <td>-0.193001</td>\n",
       "      <td>-1.281590</td>\n",
       "      <td>-1.497481</td>\n",
       "      <td>-0.352180</td>\n",
       "    </tr>\n",
       "    <tr>\n",
       "      <th>1810</th>\n",
       "      <td>1.617356</td>\n",
       "      <td>0.461954</td>\n",
       "      <td>1.654636</td>\n",
       "      <td>0.873509</td>\n",
       "      <td>0.458594</td>\n",
       "    </tr>\n",
       "    <tr>\n",
       "      <th>1743</th>\n",
       "      <td>1.311491</td>\n",
       "      <td>1.491168</td>\n",
       "      <td>1.135567</td>\n",
       "      <td>-1.582159</td>\n",
       "      <td>1.269368</td>\n",
       "    </tr>\n",
       "    <tr>\n",
       "      <th>563</th>\n",
       "      <td>1.279473</td>\n",
       "      <td>0.156308</td>\n",
       "      <td>1.263177</td>\n",
       "      <td>0.280761</td>\n",
       "      <td>0.458594</td>\n",
       "    </tr>\n",
       "  </tbody>\n",
       "</table>\n",
       "<p>400 rows × 5 columns</p>\n",
       "</div>"
      ],
      "text/plain": [
       "        income  credit_score  loan_amount  years_employed    points\n",
       "405   0.458511      0.399577    -0.644381       -1.751516 -0.081922\n",
       "1190 -0.066402      0.399577    -1.618890       -0.566021  0.728852\n",
       "1132 -0.401918     -0.947759    -1.141913       -0.057952 -0.352180\n",
       "731   0.057399      1.453742    -0.061682       -0.227308  1.539626\n",
       "1754 -0.338430      0.143833    -1.527970       -0.820056  0.728852\n",
       "...        ...           ...          ...             ...       ...\n",
       "638   1.459371      1.516119    -1.369142       -0.311986  2.350400\n",
       "360   1.324512     -0.193001    -1.281590       -1.497481 -0.352180\n",
       "1810  1.617356      0.461954     1.654636        0.873509  0.458594\n",
       "1743  1.311491      1.491168     1.135567       -1.582159  1.269368\n",
       "563   1.279473      0.156308     1.263177        0.280761  0.458594\n",
       "\n",
       "[400 rows x 5 columns]"
      ]
     },
     "execution_count": 92,
     "metadata": {},
     "output_type": "execute_result"
    }
   ],
   "source": [
    "X_test"
   ]
  },
  {
   "cell_type": "code",
   "execution_count": 93,
   "id": "797fd4a6-0b90-405d-8df9-4ae17654ef71",
   "metadata": {},
   "outputs": [],
   "source": [
    "y_test = y_test.astype('int8')"
   ]
  },
  {
   "cell_type": "code",
   "execution_count": 94,
   "id": "f9ff4427-e23c-423e-888d-69ee79a4a170",
   "metadata": {},
   "outputs": [
    {
     "data": {
      "text/plain": [
       "405     0\n",
       "1190    1\n",
       "1132    0\n",
       "731     1\n",
       "1754    1\n",
       "       ..\n",
       "638     1\n",
       "360     0\n",
       "1810    1\n",
       "1743    1\n",
       "563     1\n",
       "Name: loan_approved, Length: 400, dtype: int8"
      ]
     },
     "execution_count": 94,
     "metadata": {},
     "output_type": "execute_result"
    }
   ],
   "source": [
    "y_test"
   ]
  },
  {
   "cell_type": "code",
   "execution_count": 95,
   "id": "109711f3-7d14-4a68-9959-c07354184a88",
   "metadata": {},
   "outputs": [],
   "source": [
    "model = KNeighborsClassifier(n_neighbors=8, weights='distance')\n",
    "model.fit(X_train, y_train)\n",
    "y_pred = model.predict(X_test)\n",
    "# y_pred, np.array(y_test)"
   ]
  },
  {
   "cell_type": "code",
   "execution_count": 96,
   "id": "69e9ea51-c55d-4f04-9b11-6b2ac01a5f10",
   "metadata": {},
   "outputs": [
    {
     "data": {
      "text/plain": [
       "0.985"
      ]
     },
     "execution_count": 96,
     "metadata": {},
     "output_type": "execute_result"
    }
   ],
   "source": [
    "accuracy_score(y_test, y_pred)"
   ]
  },
  {
   "cell_type": "code",
   "execution_count": 97,
   "id": "9591053d-c8cc-44a3-9c4a-1163b2f66ac3",
   "metadata": {},
   "outputs": [
    {
     "data": {
      "text/plain": [
       "1.0"
      ]
     },
     "execution_count": 97,
     "metadata": {},
     "output_type": "execute_result"
    }
   ],
   "source": [
    "accuracy_score(y_train, model.predict(X_train))"
   ]
  },
  {
   "cell_type": "code",
   "execution_count": 98,
   "id": "0684c525-9ae1-47d9-bd89-e62a1e0fcf2d",
   "metadata": {},
   "outputs": [
    {
     "name": "stdout",
     "output_type": "stream",
     "text": [
      "              precision    recall  f1-score   support\n",
      "\n",
      "           0       1.00      0.98      0.99       220\n",
      "           1       0.97      0.99      0.98       180\n",
      "\n",
      "    accuracy                           0.98       400\n",
      "   macro avg       0.98      0.99      0.98       400\n",
      "weighted avg       0.99      0.98      0.99       400\n",
      "\n"
     ]
    }
   ],
   "source": [
    "print(classification_report(y_test, y_pred))"
   ]
  },
  {
   "cell_type": "code",
   "execution_count": 109,
   "id": "614b4d6e-af48-41f5-9311-4b0f93de25d5",
   "metadata": {},
   "outputs": [
    {
     "data": {
      "text/plain": [
       "(1.0, 1.0)"
      ]
     },
     "execution_count": 109,
     "metadata": {},
     "output_type": "execute_result"
    }
   ],
   "source": [
    "model = LogisticRegression()\n",
    "model.fit(X_train, y_train)\n",
    "y_pred = model.predict(X_test)\n",
    "accuracy_score(y_test, y_pred), accuracy_score(y_train, model.predict(X_train))"
   ]
  },
  {
   "cell_type": "code",
   "execution_count": 100,
   "id": "1aa52785-30d4-4be5-a6fa-a2d040de9cba",
   "metadata": {},
   "outputs": [
    {
     "data": {
      "text/plain": [
       "(0.965, 0.958125)"
      ]
     },
     "execution_count": 100,
     "metadata": {},
     "output_type": "execute_result"
    }
   ],
   "source": [
    "model = GaussianNB()\n",
    "model.fit(X_train, y_train)\n",
    "y_pred = model.predict(X_test)\n",
    "accuracy_score(y_test, y_pred), accuracy_score(y_train, model.predict(X_train))"
   ]
  },
  {
   "cell_type": "code",
   "execution_count": 101,
   "id": "63771f8c-ffb8-42bb-834d-2b5b293726b9",
   "metadata": {},
   "outputs": [
    {
     "data": {
      "text/plain": [
       "Index(['income', 'credit_score', 'loan_amount', 'years_employed', 'points'], dtype='object')"
      ]
     },
     "execution_count": 101,
     "metadata": {},
     "output_type": "execute_result"
    }
   ],
   "source": [
    "X_train.columns"
   ]
  },
  {
   "cell_type": "code",
   "execution_count": 137,
   "id": "9aa81739-f565-4225-a54e-a087586319d5",
   "metadata": {},
   "outputs": [],
   "source": [
    "x0 = pd.DataFrame([[12500, 600, 8000, 2, 56]], columns=X_train.columns)"
   ]
  },
  {
   "cell_type": "code",
   "execution_count": 138,
   "id": "2328c8ce-0b3b-4b36-aabf-bbd6a636976c",
   "metadata": {},
   "outputs": [
    {
     "data": {
      "text/html": [
       "<div>\n",
       "<style scoped>\n",
       "    .dataframe tbody tr th:only-of-type {\n",
       "        vertical-align: middle;\n",
       "    }\n",
       "\n",
       "    .dataframe tbody tr th {\n",
       "        vertical-align: top;\n",
       "    }\n",
       "\n",
       "    .dataframe thead th {\n",
       "        text-align: right;\n",
       "    }\n",
       "</style>\n",
       "<table border=\"1\" class=\"dataframe\">\n",
       "  <thead>\n",
       "    <tr style=\"text-align: right;\">\n",
       "      <th></th>\n",
       "      <th>income</th>\n",
       "      <th>credit_score</th>\n",
       "      <th>loan_amount</th>\n",
       "      <th>years_employed</th>\n",
       "      <th>points</th>\n",
       "    </tr>\n",
       "  </thead>\n",
       "  <tbody>\n",
       "    <tr>\n",
       "      <th>0</th>\n",
       "      <td>12500</td>\n",
       "      <td>600</td>\n",
       "      <td>8000</td>\n",
       "      <td>2</td>\n",
       "      <td>56</td>\n",
       "    </tr>\n",
       "  </tbody>\n",
       "</table>\n",
       "</div>"
      ],
      "text/plain": [
       "   income  credit_score  loan_amount  years_employed  points\n",
       "0   12500           600         8000               2      56"
      ]
     },
     "execution_count": 138,
     "metadata": {},
     "output_type": "execute_result"
    }
   ],
   "source": [
    "x0"
   ]
  },
  {
   "cell_type": "code",
   "execution_count": 139,
   "id": "052c6e83-3956-4156-b9ac-b0506e218e03",
   "metadata": {},
   "outputs": [
    {
     "data": {
      "text/plain": [
       "np.float64(573.946)"
      ]
     },
     "execution_count": 139,
     "metadata": {},
     "output_type": "execute_result"
    }
   ],
   "source": [
    "data.credit_score.mean()"
   ]
  },
  {
   "cell_type": "code",
   "execution_count": 140,
   "id": "946e7cd5-e779-479d-8286-27349e624117",
   "metadata": {},
   "outputs": [
    {
     "data": {
      "text/plain": [
       "array([1], dtype=int8)"
      ]
     },
     "execution_count": 140,
     "metadata": {},
     "output_type": "execute_result"
    }
   ],
   "source": [
    "model.predict(x0)"
   ]
  },
  {
   "cell_type": "code",
   "execution_count": 141,
   "id": "82f95601-8aa7-4396-8a4c-ed7707099f07",
   "metadata": {},
   "outputs": [
    {
     "data": {
      "text/plain": [
       "array([[0., 1.]])"
      ]
     },
     "execution_count": 141,
     "metadata": {},
     "output_type": "execute_result"
    }
   ],
   "source": [
    "model.predict_proba(x0)"
   ]
  },
  {
   "cell_type": "code",
   "execution_count": 142,
   "id": "f91d578a-724c-4b23-acc6-1ec70d18d0d5",
   "metadata": {},
   "outputs": [
    {
     "data": {
      "text/html": [
       "<div>\n",
       "<style scoped>\n",
       "    .dataframe tbody tr th:only-of-type {\n",
       "        vertical-align: middle;\n",
       "    }\n",
       "\n",
       "    .dataframe tbody tr th {\n",
       "        vertical-align: top;\n",
       "    }\n",
       "\n",
       "    .dataframe thead th {\n",
       "        text-align: right;\n",
       "    }\n",
       "</style>\n",
       "<table border=\"1\" class=\"dataframe\">\n",
       "  <thead>\n",
       "    <tr style=\"text-align: right;\">\n",
       "      <th></th>\n",
       "      <th>PassengerId</th>\n",
       "      <th>HomePlanet</th>\n",
       "      <th>CryoSleep</th>\n",
       "      <th>Cabin</th>\n",
       "      <th>Destination</th>\n",
       "      <th>Age</th>\n",
       "      <th>VIP</th>\n",
       "      <th>RoomService</th>\n",
       "      <th>FoodCourt</th>\n",
       "      <th>ShoppingMall</th>\n",
       "      <th>Spa</th>\n",
       "      <th>VRDeck</th>\n",
       "      <th>Name</th>\n",
       "      <th>Transported</th>\n",
       "    </tr>\n",
       "  </thead>\n",
       "  <tbody>\n",
       "    <tr>\n",
       "      <th>0</th>\n",
       "      <td>0001_01</td>\n",
       "      <td>Europa</td>\n",
       "      <td>False</td>\n",
       "      <td>B/0/P</td>\n",
       "      <td>TRAPPIST-1e</td>\n",
       "      <td>39.0</td>\n",
       "      <td>False</td>\n",
       "      <td>0.0</td>\n",
       "      <td>0.0</td>\n",
       "      <td>0.0</td>\n",
       "      <td>0.0</td>\n",
       "      <td>0.0</td>\n",
       "      <td>Maham Ofracculy</td>\n",
       "      <td>False</td>\n",
       "    </tr>\n",
       "    <tr>\n",
       "      <th>1</th>\n",
       "      <td>0002_01</td>\n",
       "      <td>Earth</td>\n",
       "      <td>False</td>\n",
       "      <td>F/0/S</td>\n",
       "      <td>TRAPPIST-1e</td>\n",
       "      <td>24.0</td>\n",
       "      <td>False</td>\n",
       "      <td>109.0</td>\n",
       "      <td>9.0</td>\n",
       "      <td>25.0</td>\n",
       "      <td>549.0</td>\n",
       "      <td>44.0</td>\n",
       "      <td>Juanna Vines</td>\n",
       "      <td>True</td>\n",
       "    </tr>\n",
       "    <tr>\n",
       "      <th>2</th>\n",
       "      <td>0003_01</td>\n",
       "      <td>Europa</td>\n",
       "      <td>False</td>\n",
       "      <td>A/0/S</td>\n",
       "      <td>TRAPPIST-1e</td>\n",
       "      <td>58.0</td>\n",
       "      <td>True</td>\n",
       "      <td>43.0</td>\n",
       "      <td>3576.0</td>\n",
       "      <td>0.0</td>\n",
       "      <td>6715.0</td>\n",
       "      <td>49.0</td>\n",
       "      <td>Altark Susent</td>\n",
       "      <td>False</td>\n",
       "    </tr>\n",
       "    <tr>\n",
       "      <th>3</th>\n",
       "      <td>0003_02</td>\n",
       "      <td>Europa</td>\n",
       "      <td>False</td>\n",
       "      <td>A/0/S</td>\n",
       "      <td>TRAPPIST-1e</td>\n",
       "      <td>33.0</td>\n",
       "      <td>False</td>\n",
       "      <td>0.0</td>\n",
       "      <td>1283.0</td>\n",
       "      <td>371.0</td>\n",
       "      <td>3329.0</td>\n",
       "      <td>193.0</td>\n",
       "      <td>Solam Susent</td>\n",
       "      <td>False</td>\n",
       "    </tr>\n",
       "    <tr>\n",
       "      <th>4</th>\n",
       "      <td>0004_01</td>\n",
       "      <td>Earth</td>\n",
       "      <td>False</td>\n",
       "      <td>F/1/S</td>\n",
       "      <td>TRAPPIST-1e</td>\n",
       "      <td>16.0</td>\n",
       "      <td>False</td>\n",
       "      <td>303.0</td>\n",
       "      <td>70.0</td>\n",
       "      <td>151.0</td>\n",
       "      <td>565.0</td>\n",
       "      <td>2.0</td>\n",
       "      <td>Willy Santantines</td>\n",
       "      <td>True</td>\n",
       "    </tr>\n",
       "    <tr>\n",
       "      <th>...</th>\n",
       "      <td>...</td>\n",
       "      <td>...</td>\n",
       "      <td>...</td>\n",
       "      <td>...</td>\n",
       "      <td>...</td>\n",
       "      <td>...</td>\n",
       "      <td>...</td>\n",
       "      <td>...</td>\n",
       "      <td>...</td>\n",
       "      <td>...</td>\n",
       "      <td>...</td>\n",
       "      <td>...</td>\n",
       "      <td>...</td>\n",
       "      <td>...</td>\n",
       "    </tr>\n",
       "    <tr>\n",
       "      <th>8688</th>\n",
       "      <td>9276_01</td>\n",
       "      <td>Europa</td>\n",
       "      <td>False</td>\n",
       "      <td>A/98/P</td>\n",
       "      <td>55 Cancri e</td>\n",
       "      <td>41.0</td>\n",
       "      <td>True</td>\n",
       "      <td>0.0</td>\n",
       "      <td>6819.0</td>\n",
       "      <td>0.0</td>\n",
       "      <td>1643.0</td>\n",
       "      <td>74.0</td>\n",
       "      <td>Gravior Noxnuther</td>\n",
       "      <td>False</td>\n",
       "    </tr>\n",
       "    <tr>\n",
       "      <th>8689</th>\n",
       "      <td>9278_01</td>\n",
       "      <td>Earth</td>\n",
       "      <td>True</td>\n",
       "      <td>G/1499/S</td>\n",
       "      <td>PSO J318.5-22</td>\n",
       "      <td>18.0</td>\n",
       "      <td>False</td>\n",
       "      <td>0.0</td>\n",
       "      <td>0.0</td>\n",
       "      <td>0.0</td>\n",
       "      <td>0.0</td>\n",
       "      <td>0.0</td>\n",
       "      <td>Kurta Mondalley</td>\n",
       "      <td>False</td>\n",
       "    </tr>\n",
       "    <tr>\n",
       "      <th>8690</th>\n",
       "      <td>9279_01</td>\n",
       "      <td>Earth</td>\n",
       "      <td>False</td>\n",
       "      <td>G/1500/S</td>\n",
       "      <td>TRAPPIST-1e</td>\n",
       "      <td>26.0</td>\n",
       "      <td>False</td>\n",
       "      <td>0.0</td>\n",
       "      <td>0.0</td>\n",
       "      <td>1872.0</td>\n",
       "      <td>1.0</td>\n",
       "      <td>0.0</td>\n",
       "      <td>Fayey Connon</td>\n",
       "      <td>True</td>\n",
       "    </tr>\n",
       "    <tr>\n",
       "      <th>8691</th>\n",
       "      <td>9280_01</td>\n",
       "      <td>Europa</td>\n",
       "      <td>False</td>\n",
       "      <td>E/608/S</td>\n",
       "      <td>55 Cancri e</td>\n",
       "      <td>32.0</td>\n",
       "      <td>False</td>\n",
       "      <td>0.0</td>\n",
       "      <td>1049.0</td>\n",
       "      <td>0.0</td>\n",
       "      <td>353.0</td>\n",
       "      <td>3235.0</td>\n",
       "      <td>Celeon Hontichre</td>\n",
       "      <td>False</td>\n",
       "    </tr>\n",
       "    <tr>\n",
       "      <th>8692</th>\n",
       "      <td>9280_02</td>\n",
       "      <td>Europa</td>\n",
       "      <td>False</td>\n",
       "      <td>E/608/S</td>\n",
       "      <td>TRAPPIST-1e</td>\n",
       "      <td>44.0</td>\n",
       "      <td>False</td>\n",
       "      <td>126.0</td>\n",
       "      <td>4688.0</td>\n",
       "      <td>0.0</td>\n",
       "      <td>0.0</td>\n",
       "      <td>12.0</td>\n",
       "      <td>Propsh Hontichre</td>\n",
       "      <td>True</td>\n",
       "    </tr>\n",
       "  </tbody>\n",
       "</table>\n",
       "<p>8693 rows × 14 columns</p>\n",
       "</div>"
      ],
      "text/plain": [
       "     PassengerId HomePlanet CryoSleep     Cabin    Destination   Age    VIP  \\\n",
       "0        0001_01     Europa     False     B/0/P    TRAPPIST-1e  39.0  False   \n",
       "1        0002_01      Earth     False     F/0/S    TRAPPIST-1e  24.0  False   \n",
       "2        0003_01     Europa     False     A/0/S    TRAPPIST-1e  58.0   True   \n",
       "3        0003_02     Europa     False     A/0/S    TRAPPIST-1e  33.0  False   \n",
       "4        0004_01      Earth     False     F/1/S    TRAPPIST-1e  16.0  False   \n",
       "...          ...        ...       ...       ...            ...   ...    ...   \n",
       "8688     9276_01     Europa     False    A/98/P    55 Cancri e  41.0   True   \n",
       "8689     9278_01      Earth      True  G/1499/S  PSO J318.5-22  18.0  False   \n",
       "8690     9279_01      Earth     False  G/1500/S    TRAPPIST-1e  26.0  False   \n",
       "8691     9280_01     Europa     False   E/608/S    55 Cancri e  32.0  False   \n",
       "8692     9280_02     Europa     False   E/608/S    TRAPPIST-1e  44.0  False   \n",
       "\n",
       "      RoomService  FoodCourt  ShoppingMall     Spa  VRDeck               Name  \\\n",
       "0             0.0        0.0           0.0     0.0     0.0    Maham Ofracculy   \n",
       "1           109.0        9.0          25.0   549.0    44.0       Juanna Vines   \n",
       "2            43.0     3576.0           0.0  6715.0    49.0      Altark Susent   \n",
       "3             0.0     1283.0         371.0  3329.0   193.0       Solam Susent   \n",
       "4           303.0       70.0         151.0   565.0     2.0  Willy Santantines   \n",
       "...           ...        ...           ...     ...     ...                ...   \n",
       "8688          0.0     6819.0           0.0  1643.0    74.0  Gravior Noxnuther   \n",
       "8689          0.0        0.0           0.0     0.0     0.0    Kurta Mondalley   \n",
       "8690          0.0        0.0        1872.0     1.0     0.0       Fayey Connon   \n",
       "8691          0.0     1049.0           0.0   353.0  3235.0   Celeon Hontichre   \n",
       "8692        126.0     4688.0           0.0     0.0    12.0   Propsh Hontichre   \n",
       "\n",
       "      Transported  \n",
       "0           False  \n",
       "1            True  \n",
       "2           False  \n",
       "3           False  \n",
       "4            True  \n",
       "...           ...  \n",
       "8688        False  \n",
       "8689        False  \n",
       "8690         True  \n",
       "8691        False  \n",
       "8692         True  \n",
       "\n",
       "[8693 rows x 14 columns]"
      ]
     },
     "execution_count": 142,
     "metadata": {},
     "output_type": "execute_result"
    }
   ],
   "source": [
    "data1 = pd.read_csv(\"Spaceship_Titanic.csv\")\n",
    "data1"
   ]
  },
  {
   "cell_type": "code",
   "execution_count": 144,
   "id": "1edebf07-79ae-4632-acb6-80e5c4ef6531",
   "metadata": {},
   "outputs": [
    {
     "name": "stdout",
     "output_type": "stream",
     "text": [
      "<class 'pandas.core.frame.DataFrame'>\n",
      "RangeIndex: 8693 entries, 0 to 8692\n",
      "Data columns (total 14 columns):\n",
      " #   Column        Non-Null Count  Dtype  \n",
      "---  ------        --------------  -----  \n",
      " 0   PassengerId   8693 non-null   object \n",
      " 1   HomePlanet    8492 non-null   object \n",
      " 2   CryoSleep     8476 non-null   object \n",
      " 3   Cabin         8494 non-null   object \n",
      " 4   Destination   8511 non-null   object \n",
      " 5   Age           8514 non-null   float64\n",
      " 6   VIP           8490 non-null   object \n",
      " 7   RoomService   8512 non-null   float64\n",
      " 8   FoodCourt     8510 non-null   float64\n",
      " 9   ShoppingMall  8485 non-null   float64\n",
      " 10  Spa           8510 non-null   float64\n",
      " 11  VRDeck        8505 non-null   float64\n",
      " 12  Name          8493 non-null   object \n",
      " 13  Transported   8693 non-null   bool   \n",
      "dtypes: bool(1), float64(6), object(7)\n",
      "memory usage: 891.5+ KB\n"
     ]
    }
   ],
   "source": [
    "data1.info()"
   ]
  },
  {
   "cell_type": "code",
   "execution_count": null,
   "id": "a136d53a-781a-4e8b-9741-d1c7768bfbcc",
   "metadata": {},
   "outputs": [],
   "source": []
  }
 ],
 "metadata": {
  "kernelspec": {
   "display_name": "Python 3 (ipykernel)",
   "language": "python",
   "name": "python3"
  },
  "language_info": {
   "codemirror_mode": {
    "name": "ipython",
    "version": 3
   },
   "file_extension": ".py",
   "mimetype": "text/x-python",
   "name": "python",
   "nbconvert_exporter": "python",
   "pygments_lexer": "ipython3",
   "version": "3.13.8"
  }
 },
 "nbformat": 4,
 "nbformat_minor": 5
}

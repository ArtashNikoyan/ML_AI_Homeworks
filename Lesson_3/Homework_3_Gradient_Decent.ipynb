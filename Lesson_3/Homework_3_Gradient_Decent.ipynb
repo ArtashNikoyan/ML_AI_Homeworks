{
 "cells": [
  {
   "cell_type": "code",
   "execution_count": 1,
   "id": "f562b27b-34d9-4256-86ce-4ee20dfdf64f",
   "metadata": {},
   "outputs": [],
   "source": [
    "def df1(x):\n",
    "    return 4 * x + 3"
   ]
  },
  {
   "cell_type": "code",
   "execution_count": 32,
   "id": "91739578-f486-497b-9b9d-18997dd73b5e",
   "metadata": {},
   "outputs": [],
   "source": [
    "def df2(x):\n",
    "    return 2 * x - 6"
   ]
  },
  {
   "cell_type": "code",
   "execution_count": 54,
   "id": "03ac366d-9a43-4821-ac4c-f6e980bdbca0",
   "metadata": {},
   "outputs": [],
   "source": [
    "def gr_descent(df, x0, lr=0.1, it=10, k=1e-10):\n",
    "    # x1 = x0 - lr * df(x)\n",
    "    for i in range(1, it + 1):\n",
    "        x1 = x0 - lr * df(x0)\n",
    "        print(x0)\n",
    "        if abs(x1 - x0) < k:\n",
    "            x0 = x1\n",
    "            break\n",
    "        x0 = x1\n",
    "    return x0"
   ]
  },
  {
   "cell_type": "code",
   "execution_count": 55,
   "id": "25c1ae1f-ec8b-446a-99d0-c1139bb44f2a",
   "metadata": {},
   "outputs": [
    {
     "name": "stdout",
     "output_type": "stream",
     "text": [
      "1.7\n",
      "0.7199999999999999\n",
      "0.1319999999999999\n",
      "-0.2208000000000001\n",
      "-0.4324800000000001\n",
      "-0.5594880000000001\n",
      "-0.6356928000000001\n",
      "-0.6814156800000001\n",
      "-0.7088494080000001\n",
      "-0.7253096448\n"
     ]
    },
    {
     "data": {
      "text/plain": [
       "-0.73518578688"
      ]
     },
     "execution_count": 55,
     "metadata": {},
     "output_type": "execute_result"
    }
   ],
   "source": [
    "gr_descent(df1, 1.7)"
   ]
  },
  {
   "cell_type": "code",
   "execution_count": 49,
   "id": "5cf26743-d6d7-4df1-8c23-794076db86fa",
   "metadata": {},
   "outputs": [
    {
     "name": "stdout",
     "output_type": "stream",
     "text": [
      "0.75\n",
      "-2.25\n",
      "0.75\n"
     ]
    },
    {
     "data": {
      "text/plain": [
       "-2.25"
      ]
     },
     "execution_count": 49,
     "metadata": {},
     "output_type": "execute_result"
    }
   ],
   "source": [
    "gr_descent(df1, .75, 0.5)"
   ]
  },
  {
   "cell_type": "code",
   "execution_count": null,
   "id": "dd3d12b4-fefd-4f02-acc5-bcb49cd65d03",
   "metadata": {},
   "outputs": [],
   "source": []
  }
 ],
 "metadata": {
  "kernelspec": {
   "display_name": "Python 3 (ipykernel)",
   "language": "python",
   "name": "python3"
  },
  "language_info": {
   "codemirror_mode": {
    "name": "ipython",
    "version": 3
   },
   "file_extension": ".py",
   "mimetype": "text/x-python",
   "name": "python",
   "nbconvert_exporter": "python",
   "pygments_lexer": "ipython3",
   "version": "3.12.4"
  }
 },
 "nbformat": 4,
 "nbformat_minor": 5
}

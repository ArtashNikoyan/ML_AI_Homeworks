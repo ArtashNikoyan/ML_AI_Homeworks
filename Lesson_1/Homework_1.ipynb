{
 "cells": [
  {
   "cell_type": "code",
   "id": "888141bb-fafb-403c-9ecf-42e512f5702f",
   "metadata": {
    "ExecuteTime": {
     "end_time": "2025-09-15T14:43:18.740724Z",
     "start_time": "2025-09-15T14:43:10.618356Z"
    }
   },
   "source": [
    "! pip install numpy"
   ],
   "outputs": [
    {
     "name": "stdout",
     "output_type": "stream",
     "text": [
      "^C\n",
      "Requirement already satisfied: numpy in c:\\users\\lenov\\appdata\\local\\programs\\python\\python312\\lib\\site-packages (2.3.1)\n"
     ]
    }
   ],
   "execution_count": 2
  },
  {
   "cell_type": "code",
   "id": "8308866e-6c08-4e35-a120-3ad17da79755",
   "metadata": {
    "ExecuteTime": {
     "end_time": "2025-09-15T14:43:20.373056Z",
     "start_time": "2025-09-15T14:43:18.760250Z"
    }
   },
   "source": [
    "import numpy as np"
   ],
   "outputs": [],
   "execution_count": 3
  },
  {
   "metadata": {
    "ExecuteTime": {
     "end_time": "2025-09-15T14:45:12.592521Z",
     "start_time": "2025-09-15T14:45:12.581124Z"
    }
   },
   "cell_type": "code",
   "source": [
    "m1 = np.array([[1, 2],\n",
    "               [4, 0],\n",
    "               [7, 8]])\n",
    "\n",
    "m2 = np.array([[3, 4, 5],\n",
    "               [6, 7, 8]])\n",
    "\n",
    "sm1 = np.array([[15, 18, 21],\n",
    "                [42, 51, 0],\n",
    "                [69, 0, 99]])\n",
    "\n",
    "v1 = [1, 0, 5]\n",
    "v2 = [3, 6, -6]\n",
    "\n",
    "lst1 = [1, 2, 3, 4, 5]"
   ],
   "id": "480d0bad-e66a-480b-b0e9-9c8d7578d296",
   "outputs": [],
   "execution_count": 18
  },
  {
   "metadata": {},
   "cell_type": "markdown",
   "source": "Ex-1 Matrix product",
   "id": "5c29b69c-3435-48b7-baf0-9cadec458e8e"
  },
  {
   "metadata": {
    "ExecuteTime": {
     "end_time": "2025-09-15T14:43:20.454719Z",
     "start_time": "2025-09-15T14:43:20.448847Z"
    }
   },
   "cell_type": "code",
   "source": [
    "def matrix_prod(m1, m2):\n",
    "    return np.matmul(m1, m2)"
   ],
   "id": "a5cd6560beefebbf",
   "outputs": [],
   "execution_count": 5
  },
  {
   "metadata": {
    "ExecuteTime": {
     "end_time": "2025-09-15T14:43:20.493357Z",
     "start_time": "2025-09-15T14:43:20.476764Z"
    }
   },
   "cell_type": "code",
   "source": "matrix_prod(m1, m2)",
   "id": "e6b7a313218a7d2e",
   "outputs": [
    {
     "data": {
      "text/plain": [
       "array([[15, 18, 21],\n",
       "       [12, 16, 20],\n",
       "       [69, 84, 99]])"
      ]
     },
     "execution_count": 6,
     "metadata": {},
     "output_type": "execute_result"
    }
   ],
   "execution_count": 6
  },
  {
   "metadata": {},
   "cell_type": "markdown",
   "source": "Ex-2 Matrix outer product",
   "id": "c76a3c9e3c6bfdee"
  },
  {
   "metadata": {
    "ExecuteTime": {
     "end_time": "2025-09-15T14:43:20.599850Z",
     "start_time": "2025-09-15T14:43:20.592482Z"
    }
   },
   "cell_type": "code",
   "source": [
    "def outer_prod(m1, m2):\n",
    "    return np.outer(m1, m2)"
   ],
   "id": "79b35ea97e0ed3e5",
   "outputs": [],
   "execution_count": 7
  },
  {
   "metadata": {
    "ExecuteTime": {
     "end_time": "2025-09-15T14:43:20.634464Z",
     "start_time": "2025-09-15T14:43:20.623600Z"
    }
   },
   "cell_type": "code",
   "source": "outer_prod(m1, m2)",
   "id": "c45212c648470424",
   "outputs": [
    {
     "data": {
      "text/plain": [
       "array([[ 3,  4,  5,  6,  7,  8],\n",
       "       [ 6,  8, 10, 12, 14, 16],\n",
       "       [12, 16, 20, 24, 28, 32],\n",
       "       [ 0,  0,  0,  0,  0,  0],\n",
       "       [21, 28, 35, 42, 49, 56],\n",
       "       [24, 32, 40, 48, 56, 64]])"
      ]
     },
     "execution_count": 8,
     "metadata": {},
     "output_type": "execute_result"
    }
   ],
   "execution_count": 8
  },
  {
   "metadata": {},
   "cell_type": "markdown",
   "source": "Ex-3 Vectors cross product",
   "id": "6224903a03bbbc6"
  },
  {
   "metadata": {
    "ExecuteTime": {
     "end_time": "2025-09-15T14:43:20.677570Z",
     "start_time": "2025-09-15T14:43:20.668702Z"
    }
   },
   "cell_type": "code",
   "source": [
    "def cross_prod(v1, v2):\n",
    "    return np.cross(v1, v2)"
   ],
   "id": "d189b33eb617a85c",
   "outputs": [],
   "execution_count": 9
  },
  {
   "metadata": {
    "ExecuteTime": {
     "end_time": "2025-09-15T14:43:20.706827Z",
     "start_time": "2025-09-15T14:43:20.697319Z"
    }
   },
   "cell_type": "code",
   "source": "cross_prod(v1, v2)",
   "id": "cfca08f46fe9c540",
   "outputs": [
    {
     "data": {
      "text/plain": [
       "array([-30,  21,   6])"
      ]
     },
     "execution_count": 10,
     "metadata": {},
     "output_type": "execute_result"
    }
   ],
   "execution_count": 10
  },
  {
   "metadata": {},
   "cell_type": "markdown",
   "source": "Ex-4 square matrix det",
   "id": "e577c82d3764b057"
  },
  {
   "metadata": {
    "ExecuteTime": {
     "end_time": "2025-09-15T14:43:20.748433Z",
     "start_time": "2025-09-15T14:43:20.742213Z"
    }
   },
   "cell_type": "code",
   "source": [
    "def get_square_matrix_det(m):\n",
    "    return np.linalg.det(m)"
   ],
   "id": "ffb5b97b6421736e",
   "outputs": [],
   "execution_count": 11
  },
  {
   "metadata": {
    "ExecuteTime": {
     "end_time": "2025-09-15T14:43:20.772402Z",
     "start_time": "2025-09-15T14:43:20.761152Z"
    }
   },
   "cell_type": "code",
   "source": "get_square_matrix_det(sm1)",
   "id": "a30bf8b26cd7c711",
   "outputs": [
    {
     "data": {
      "text/plain": [
       "np.float64(inf)"
      ]
     },
     "execution_count": 12,
     "metadata": {},
     "output_type": "execute_result"
    }
   ],
   "execution_count": 12
  },
  {
   "metadata": {},
   "cell_type": "markdown",
   "source": "Ex-5 eigenvectors and eigenvalues",
   "id": "c421799018afa9b6"
  },
  {
   "metadata": {
    "ExecuteTime": {
     "end_time": "2025-09-15T14:43:20.817050Z",
     "start_time": "2025-09-15T14:43:20.808157Z"
    }
   },
   "cell_type": "code",
   "source": [
    "def get_eigens(m):\n",
    "    return np.linalg.eig(m)"
   ],
   "id": "9b0440875c475da1",
   "outputs": [],
   "execution_count": 13
  },
  {
   "metadata": {
    "ExecuteTime": {
     "end_time": "2025-09-15T14:45:26.848588Z",
     "start_time": "2025-09-15T14:45:26.821582Z"
    }
   },
   "cell_type": "code",
   "source": [
    "values, vectors = get_eigens(sm1)\n",
    "print(values)\n",
    "print(vectors)"
   ],
   "id": "9a812088b03a2cc5",
   "outputs": [
    {
     "name": "stdout",
     "output_type": "stream",
     "text": [
      "[-10.51935391 115.35334829  60.16600562]\n",
      "[[ 0.73263948 -0.22804792 -0.19939047]\n",
      " [-0.50018175 -0.14883472 -0.91363676]\n",
      " [-0.46158165 -0.96220703  0.35427575]]\n"
     ]
    }
   ],
   "execution_count": 19
  },
  {
   "metadata": {},
   "cell_type": "markdown",
   "source": "Ex-6 Matrix_inv",
   "id": "b73b06d84e63ff4a"
  },
  {
   "metadata": {
    "ExecuteTime": {
     "end_time": "2025-09-15T14:45:43.305372Z",
     "start_time": "2025-09-15T14:45:43.297136Z"
    }
   },
   "cell_type": "code",
   "source": [
    "def get_inv(m):\n",
    "    return np.linalg.inv(m)"
   ],
   "id": "4200753684bd3b4a",
   "outputs": [],
   "execution_count": 20
  },
  {
   "metadata": {
    "ExecuteTime": {
     "end_time": "2025-09-15T14:45:43.867490Z",
     "start_time": "2025-09-15T14:45:43.849830Z"
    }
   },
   "cell_type": "code",
   "source": "get_inv(sm1)",
   "id": "f3d580c6cfbad70e",
   "outputs": [
    {
     "data": {
      "text/plain": [
       "array([[-0.0691568 ,  0.02440828,  0.01466963],\n",
       "       [ 0.05695266, -0.0004931 , -0.01208087],\n",
       "       [ 0.0482002 , -0.01701183, -0.00012327]])"
      ]
     },
     "execution_count": 21,
     "metadata": {},
     "output_type": "execute_result"
    }
   ],
   "execution_count": 21
  },
  {
   "metadata": {},
   "cell_type": "markdown",
   "source": "EX-7 Не один не равен нулю.",
   "id": "7e27b141b6d7187a"
  },
  {
   "metadata": {
    "ExecuteTime": {
     "end_time": "2025-09-15T14:45:44.322370Z",
     "start_time": "2025-09-15T14:45:44.301373Z"
    }
   },
   "cell_type": "code",
   "source": "(sm1 == 0).sum()",
   "id": "51d264e546189514",
   "outputs": [
    {
     "data": {
      "text/plain": [
       "np.int64(2)"
      ]
     },
     "execution_count": 22,
     "metadata": {},
     "output_type": "execute_result"
    }
   ],
   "execution_count": 22
  },
  {
   "metadata": {},
   "cell_type": "markdown",
   "source": "Ex-8 Тест на бесконечность",
   "id": "6f74c3730c5d97b8"
  },
  {
   "metadata": {
    "ExecuteTime": {
     "end_time": "2025-09-15T14:45:44.701481Z",
     "start_time": "2025-09-15T14:45:44.682183Z"
    }
   },
   "cell_type": "code",
   "source": [
    "p = np.isposinf(sm1)\n",
    "n = np.isneginf(sm1)\n",
    "p, n"
   ],
   "id": "8948cbc2fea2e434",
   "outputs": [
    {
     "data": {
      "text/plain": [
       "(array([[False, False, False],\n",
       "        [False, False, False],\n",
       "        [False, False, False]]),\n",
       " array([[False, False, False],\n",
       "        [False, False, False],\n",
       "        [False, False, False]]))"
      ]
     },
     "execution_count": 23,
     "metadata": {},
     "output_type": "execute_result"
    }
   ],
   "execution_count": 23
  },
  {
   "metadata": {},
   "cell_type": "markdown",
   "source": "Ex-9 For Complex/Real/Scalar",
   "id": "37edff2cb71dc198"
  },
  {
   "metadata": {
    "ExecuteTime": {
     "end_time": "2025-09-15T14:45:45.113097Z",
     "start_time": "2025-09-15T14:45:45.102815Z"
    }
   },
   "cell_type": "code",
   "source": [
    "def get_props(m):\n",
    "    print(f'For Complex -- {np.iscomplex(m)}, \\n\\nReal -- {np.real(m)}, \\n\\nScalar -- {np.isscalar(m)}')"
   ],
   "id": "957b8538dca92598",
   "outputs": [],
   "execution_count": 24
  },
  {
   "metadata": {
    "ExecuteTime": {
     "end_time": "2025-09-15T14:45:45.603161Z",
     "start_time": "2025-09-15T14:45:45.595089Z"
    }
   },
   "cell_type": "code",
   "source": "get_props(sm1)",
   "id": "535f9f615115c8a9",
   "outputs": [
    {
     "name": "stdout",
     "output_type": "stream",
     "text": [
      "For Complex -- [[False False False]\n",
      " [False False False]\n",
      " [False False False]], \n",
      "\n",
      "Real -- [[15 18 21]\n",
      " [42 51  0]\n",
      " [69  0 99]], \n",
      "\n",
      "Scalar -- False\n"
     ]
    }
   ],
   "execution_count": 25
  },
  {
   "metadata": {},
   "cell_type": "markdown",
   "source": "Ex-10 List to np.array",
   "id": "27195f9f07b2b5c2"
  },
  {
   "metadata": {
    "ExecuteTime": {
     "end_time": "2025-09-15T14:46:25.222674Z",
     "start_time": "2025-09-15T14:46:25.213944Z"
    }
   },
   "cell_type": "code",
   "source": [
    "def list_to_vector(lst):\n",
    "    return np.array(lst, dtype=float)"
   ],
   "id": "da9ce0c4ca3464df",
   "outputs": [],
   "execution_count": 29
  },
  {
   "metadata": {
    "ExecuteTime": {
     "end_time": "2025-09-15T14:46:25.690883Z",
     "start_time": "2025-09-15T14:46:25.679627Z"
    }
   },
   "cell_type": "code",
   "source": "list_to_vector(lst1)",
   "id": "5f841d467cc8a176",
   "outputs": [
    {
     "data": {
      "text/plain": [
       "array([1., 2., 3., 4., 5.])"
      ]
     },
     "execution_count": 30,
     "metadata": {},
     "output_type": "execute_result"
    }
   ],
   "execution_count": 30
  },
  {
   "metadata": {},
   "cell_type": "markdown",
   "source": "Ex-11 Null Vector (10) & Update Sixth Value",
   "id": "7e3cffc59aee714e"
  },
  {
   "metadata": {
    "ExecuteTime": {
     "end_time": "2025-09-15T14:49:38.518844Z",
     "start_time": "2025-09-15T14:49:38.503732Z"
    }
   },
   "cell_type": "code",
   "source": [
    "null_vec = np.zeros((10))\n",
    "null_vec"
   ],
   "id": "8831b887e19635dd",
   "outputs": [
    {
     "data": {
      "text/plain": [
       "array([0., 0., 0., 0., 0., 0., 0., 0., 0., 0.])"
      ]
     },
     "execution_count": 41,
     "metadata": {},
     "output_type": "execute_result"
    }
   ],
   "execution_count": 41
  },
  {
   "metadata": {
    "ExecuteTime": {
     "end_time": "2025-09-15T14:49:39.193184Z",
     "start_time": "2025-09-15T14:49:39.180454Z"
    }
   },
   "cell_type": "code",
   "source": [
    "null_vec[5] = 11\n",
    "null_vec"
   ],
   "id": "3638ef91caa62a9e",
   "outputs": [
    {
     "data": {
      "text/plain": [
       "array([ 0.,  0.,  0.,  0.,  0., 11.,  0.,  0.,  0.,  0.])"
      ]
     },
     "execution_count": 42,
     "metadata": {},
     "output_type": "execute_result"
    }
   ],
   "execution_count": 42
  },
  {
   "metadata": {},
   "cell_type": "markdown",
   "source": "Ex-12 Array from 12 to 38",
   "id": "b8a71927561459e0"
  },
  {
   "metadata": {
    "ExecuteTime": {
     "end_time": "2025-09-15T14:51:30.077416Z",
     "start_time": "2025-09-15T14:51:30.066775Z"
    }
   },
   "cell_type": "code",
   "source": [
    "vec2 = np.arange(12, 38)\n",
    "vec2"
   ],
   "id": "f00a4bbd3f60b7b0",
   "outputs": [
    {
     "data": {
      "text/plain": [
       "array([12, 13, 14, 15, 16, 17, 18, 19, 20, 21, 22, 23, 24, 25, 26, 27, 28,\n",
       "       29, 30, 31, 32, 33, 34, 35, 36, 37])"
      ]
     },
     "execution_count": 44,
     "metadata": {},
     "output_type": "execute_result"
    }
   ],
   "execution_count": 44
  },
  {
   "metadata": {},
   "cell_type": "markdown",
   "source": "Ex-13 Reverse array",
   "id": "227ccabc305ab4ee"
  },
  {
   "metadata": {
    "ExecuteTime": {
     "end_time": "2025-09-15T14:52:35.987241Z",
     "start_time": "2025-09-15T14:52:35.976537Z"
    }
   },
   "cell_type": "code",
   "source": [
    "vec2_res = vec2[::-1]\n",
    "vec2_res"
   ],
   "id": "f6b9832156c19fdb",
   "outputs": [
    {
     "data": {
      "text/plain": [
       "array([37, 36, 35, 34, 33, 32, 31, 30, 29, 28, 27, 26, 25, 24, 23, 22, 21,\n",
       "       20, 19, 18, 17, 16, 15, 14, 13, 12])"
      ]
     },
     "execution_count": 47,
     "metadata": {},
     "output_type": "execute_result"
    }
   ],
   "execution_count": 47
  },
  {
   "metadata": {},
   "cell_type": "markdown",
   "source": "Ex-14 Convert Array to Float Type",
   "id": "325396799e055976"
  },
  {
   "metadata": {
    "ExecuteTime": {
     "end_time": "2025-09-15T15:00:19.699445Z",
     "start_time": "2025-09-15T15:00:19.657246Z"
    }
   },
   "cell_type": "code",
   "source": "vec2_float = np.astype([vec2, float])",
   "id": "a46fa7e7d4ec97b1",
   "outputs": [
    {
     "ename": "TypeError",
     "evalue": "astype() missing 1 required positional argument: 'dtype'",
     "output_type": "error",
     "traceback": [
      "\u001B[31m---------------------------------------------------------------------------\u001B[39m",
      "\u001B[31mTypeError\u001B[39m                                 Traceback (most recent call last)",
      "\u001B[36mCell\u001B[39m\u001B[36m \u001B[39m\u001B[32mIn[53]\u001B[39m\u001B[32m, line 1\u001B[39m\n\u001B[32m----> \u001B[39m\u001B[32m1\u001B[39m vec2_float = \u001B[43mnp\u001B[49m\u001B[43m.\u001B[49m\u001B[43mastype\u001B[49m\u001B[43m(\u001B[49m\u001B[43m[\u001B[49m\u001B[43mvec2\u001B[49m\u001B[43m,\u001B[49m\u001B[43m \u001B[49m\u001B[38;5;28;43mfloat\u001B[39;49m\u001B[43m]\u001B[49m\u001B[43m)\u001B[49m\n",
      "\u001B[31mTypeError\u001B[39m: astype() missing 1 required positional argument: 'dtype'"
     ]
    }
   ],
   "execution_count": 53
  },
  {
   "metadata": {},
   "cell_type": "code",
   "outputs": [],
   "execution_count": null,
   "source": "",
   "id": "f85215c3590e18ae"
  }
 ],
 "metadata": {
  "kernelspec": {
   "display_name": "Python 3 (ipykernel)",
   "language": "python",
   "name": "python3"
  },
  "language_info": {
   "codemirror_mode": {
    "name": "ipython",
    "version": 3
   },
   "file_extension": ".py",
   "mimetype": "text/x-python",
   "name": "python",
   "nbconvert_exporter": "python",
   "pygments_lexer": "ipython3",
   "version": "3.12.4"
  }
 },
 "nbformat": 4,
 "nbformat_minor": 5
}

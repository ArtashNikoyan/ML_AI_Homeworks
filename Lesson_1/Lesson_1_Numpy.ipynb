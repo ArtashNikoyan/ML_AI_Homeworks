{
 "cells": [
  {
   "cell_type": "markdown",
   "id": "6cdffc66",
   "metadata": {},
   "source": [
    "# Что такое NumPy?\n",
    "\n",
    "NumPy — это библиотека Python, используемая для работы с массивами.\n",
    "\n",
    "Он также имеет функции для работы в области линейной алгебры, преобразования Фурье и матриц.\n",
    "\n",
    "NumPy был создан в 2005 году Трэвисом Олифантом. Это проект с открытым исходным кодом, и вы можете использовать его свободно.\n",
    "\n",
    "NumPy означает Numerical Python.\n",
    "\n",
    "NumPy — это библиотека Python, частично написанная на Python, но большинство частей, требующих быстрых вычислений, написаны на C или C++."
   ]
  },
  {
   "cell_type": "markdown",
   "id": "79534be0",
   "metadata": {},
   "source": [
    "# Зачем использовать NumPy?\n",
    "\n",
    "В Python у нас есть списки, которые служат в роли массивов, но они медленно обрабатываются.\n",
    "\n",
    "NumPy стремится предоставить объект массива, который работает до 50 раз быстрее, чем традиционные списки Python.\n",
    "\n",
    "Объект массива в NumPy называется <b>ndarray</b>.\n",
    "\n",
    "Массивы очень часто используются в data science, где очень важны скорость и ресурсы."
   ]
  },
  {
   "cell_type": "markdown",
   "id": "f20256ea",
   "metadata": {},
   "source": [
    "# Почему NumPy быстрее списков?\n",
    "\n",
    "<b>list</b> - <b><i>dinamic</i></b> array\n",
    "\n",
    "<b>ndarray</b> - <b><i>static</i></b> array\n",
    "\n",
    "Массивы NumPy хранятся в одном непрерывном месте в памяти, в отличие от списков.\n",
    "\n",
    "Это основная причина, по которой NumPy работает быстрее, чем списки. Также он оптимизирован для работы с последними архитектурами ЦП."
   ]
  },
  {
   "cell_type": "code",
   "execution_count": 1,
   "id": "e7cae82e",
   "metadata": {},
   "outputs": [],
   "source": [
    "# ! pip install numpy\n",
    "# # ! conda install numpy"
   ]
  },
  {
   "cell_type": "code",
   "id": "e3e17eb3",
   "metadata": {
    "ExecuteTime": {
     "end_time": "2025-09-14T17:31:00.237657Z",
     "start_time": "2025-09-14T17:30:58.741798Z"
    }
   },
   "source": [
    "import numpy as np"
   ],
   "outputs": [],
   "execution_count": 3
  },
  {
   "cell_type": "code",
   "execution_count": 5,
   "id": "28fae44e",
   "metadata": {},
   "outputs": [
    {
     "data": {
      "text/plain": [
       "'1.26.4'"
      ]
     },
     "execution_count": 5,
     "metadata": {},
     "output_type": "execute_result"
    }
   ],
   "source": [
    "np.__version__"
   ]
  },
  {
   "cell_type": "code",
   "execution_count": 37,
   "id": "26ce7c85",
   "metadata": {},
   "outputs": [],
   "source": [
    "# вектор\n",
    "n1 = np.array([0, 1, 2, 3], dtype=\"float64\")  # [0 1 2 3]"
   ]
  },
  {
   "cell_type": "code",
   "execution_count": 38,
   "id": "b9d50c48",
   "metadata": {},
   "outputs": [
    {
     "name": "stdout",
     "output_type": "stream",
     "text": [
      "[0. 1. 2. 3.]\n"
     ]
    },
    {
     "data": {
      "text/plain": [
       "array([0., 1., 2., 3.])"
      ]
     },
     "execution_count": 38,
     "metadata": {},
     "output_type": "execute_result"
    }
   ],
   "source": [
    "print(n1)\n",
    "n1"
   ]
  },
  {
   "cell_type": "code",
   "execution_count": 39,
   "id": "69a5d6d7",
   "metadata": {},
   "outputs": [
    {
     "data": {
      "text/plain": [
       "numpy.ndarray"
      ]
     },
     "execution_count": 39,
     "metadata": {},
     "output_type": "execute_result"
    }
   ],
   "source": [
    "type(n1)"
   ]
  },
  {
   "cell_type": "code",
   "execution_count": 40,
   "id": "1a4700d2",
   "metadata": {},
   "outputs": [
    {
     "data": {
      "text/plain": [
       "1"
      ]
     },
     "execution_count": 40,
     "metadata": {},
     "output_type": "execute_result"
    }
   ],
   "source": [
    "n1.ndim  # размерность"
   ]
  },
  {
   "cell_type": "code",
   "execution_count": 41,
   "id": "c3756496",
   "metadata": {},
   "outputs": [
    {
     "data": {
      "text/plain": [
       "(4,)"
      ]
     },
     "execution_count": 41,
     "metadata": {},
     "output_type": "execute_result"
    }
   ],
   "source": [
    "n1.shape  # размер матрицы (1-ая цифра: кол. тензоров, 2-ая цифра: кол. строк, 3-я цифра: кол. столбцов)"
   ]
  },
  {
   "cell_type": "code",
   "execution_count": 42,
   "id": "f30ad52a",
   "metadata": {},
   "outputs": [
    {
     "data": {
      "text/plain": [
       "4"
      ]
     },
     "execution_count": 42,
     "metadata": {},
     "output_type": "execute_result"
    }
   ],
   "source": [
    "n1.size  # произведения цифр в n1.shape"
   ]
  },
  {
   "cell_type": "code",
   "execution_count": 43,
   "id": "70096417",
   "metadata": {},
   "outputs": [
    {
     "data": {
      "text/plain": [
       "dtype('float64')"
      ]
     },
     "execution_count": 43,
     "metadata": {},
     "output_type": "execute_result"
    }
   ],
   "source": [
    "n1.dtype  # какие типы данных в матрице"
   ]
  },
  {
   "cell_type": "code",
   "execution_count": 44,
   "id": "687cc321",
   "metadata": {},
   "outputs": [
    {
     "data": {
      "text/plain": [
       "8"
      ]
     },
     "execution_count": 44,
     "metadata": {},
     "output_type": "execute_result"
    }
   ],
   "source": [
    "n1.itemsize  # количество байтов для одного элемента из n1"
   ]
  },
  {
   "cell_type": "code",
   "execution_count": 45,
   "id": "54f54623",
   "metadata": {},
   "outputs": [
    {
     "data": {
      "text/plain": [
       "32"
      ]
     },
     "execution_count": 45,
     "metadata": {},
     "output_type": "execute_result"
    }
   ],
   "source": [
    "n1.nbytes  # количество байтов n1"
   ]
  },
  {
   "cell_type": "code",
   "execution_count": 50,
   "id": "1aaa2c10",
   "metadata": {},
   "outputs": [
    {
     "data": {
      "text/plain": [
       "array([[ 0.  ,  1.  ,  2.  ],\n",
       "       [ 5.  ,  1.  ,  3.14],\n",
       "       [ 7.  ,  8.  ,  7.  ],\n",
       "       [ 0.  , 12.  ,  1.  ]])"
      ]
     },
     "execution_count": 50,
     "metadata": {},
     "output_type": "execute_result"
    }
   ],
   "source": [
    "# матрица\n",
    "n2 = np.array([[0, 1, 2],\n",
    "               [5, 1, 3.14],\n",
    "               [7, 8, 7],\n",
    "               [0, 12, 1]])\n",
    "n2"
   ]
  },
  {
   "cell_type": "code",
   "execution_count": 51,
   "id": "2dd0a9f3",
   "metadata": {},
   "outputs": [
    {
     "name": "stdout",
     "output_type": "stream",
     "text": [
      "2\n",
      "(4, 3)\n",
      "12\n",
      "float64\n",
      "8\n",
      "96\n"
     ]
    }
   ],
   "source": [
    "print(n2.ndim)      # 2\n",
    "print(n2.shape)     # (4, 3)\n",
    "print(n2.size)      # 12\n",
    "print(n2.dtype)     # float64\n",
    "print(n2.itemsize)  # 8\n",
    "print(n2.nbytes)    # 96"
   ]
  },
  {
   "cell_type": "code",
   "execution_count": 52,
   "id": "c2b6566a",
   "metadata": {},
   "outputs": [
    {
     "data": {
      "text/plain": [
       "array([[[ 0,  1,  2],\n",
       "        [ 5,  1,  3],\n",
       "        [ 5,  6,  8]],\n",
       "\n",
       "       [[ 5,  7,  8],\n",
       "        [ 7,  3, 11],\n",
       "        [12, 14,  4]]])"
      ]
     },
     "execution_count": 52,
     "metadata": {},
     "output_type": "execute_result"
    }
   ],
   "source": [
    "# тензор\n",
    "n3 = np.array([[[0, 1, 2],\n",
    "                [5, 1, 3],\n",
    "                [5, 6, 8]],\n",
    "               [[5, 7, 8],\n",
    "                [7, 3, 11],\n",
    "                [12, 14, 4]]\n",
    "              ])\n",
    "n3"
   ]
  },
  {
   "cell_type": "code",
   "execution_count": 54,
   "id": "7fc85c04",
   "metadata": {},
   "outputs": [
    {
     "name": "stdout",
     "output_type": "stream",
     "text": [
      "3\n",
      "(2, 3, 3)\n",
      "18\n",
      "int32\n",
      "4\n",
      "72\n"
     ]
    }
   ],
   "source": [
    "print(n3.ndim)\n",
    "print(n3.shape)\n",
    "print(n3.size)\n",
    "print(n3.dtype)\n",
    "print(n3.itemsize)\n",
    "print(n3.nbytes)"
   ]
  },
  {
   "cell_type": "code",
   "execution_count": 17,
   "id": "e6fa3ccc",
   "metadata": {},
   "outputs": [
    {
     "name": "stdout",
     "output_type": "stream",
     "text": [
      "[0. 0. 0. 0. 0.]\n",
      "\n",
      "[[0. 0.]\n",
      " [0. 0.]]\n"
     ]
    }
   ],
   "source": [
    "np4 = np.zeros(5)\n",
    "np5 = np.zeros((2, 2))\n",
    "print(np4, end='\\n\\n')\n",
    "print(np5)"
   ]
  },
  {
   "cell_type": "code",
   "execution_count": 18,
   "id": "f6af7e85",
   "metadata": {},
   "outputs": [
    {
     "data": {
      "text/plain": [
       "array([[[1., 1.],\n",
       "        [1., 1.],\n",
       "        [1., 1.]],\n",
       "\n",
       "       [[1., 1.],\n",
       "        [1., 1.],\n",
       "        [1., 1.]]])"
      ]
     },
     "execution_count": 18,
     "metadata": {},
     "output_type": "execute_result"
    }
   ],
   "source": [
    "np6 = np.ones((2, 3, 2))\n",
    "np6"
   ]
  },
  {
   "cell_type": "code",
   "execution_count": 19,
   "id": "b0d07438",
   "metadata": {},
   "outputs": [
    {
     "data": {
      "text/plain": [
       "array([[3.14, 3.14, 3.14, 3.14],\n",
       "       [3.14, 3.14, 3.14, 3.14]])"
      ]
     },
     "execution_count": 19,
     "metadata": {},
     "output_type": "execute_result"
    }
   ],
   "source": [
    "np7 = np.full((2, 4), 3.14)\n",
    "np7"
   ]
  },
  {
   "cell_type": "code",
   "execution_count": 20,
   "id": "3a8c32e7",
   "metadata": {},
   "outputs": [
    {
     "name": "stdout",
     "output_type": "stream",
     "text": [
      "[0 1 2 3 4 5 6 7 8 9]\n",
      "\n",
      "[1.  1.5 2.  2.5 3.  3.5 4.  4.5 5.  5.5 6.  6.5 7.  7.5 8. ]\n"
     ]
    }
   ],
   "source": [
    "np8 = np.arange(10)\n",
    "np9 = np.arange(1, 8.3, 0.5)\n",
    "print(np8, end='\\n\\n')\n",
    "print(np9)"
   ]
  },
  {
   "cell_type": "code",
   "execution_count": 56,
   "id": "67aa7832-3c04-4f47-9001-49af4e863370",
   "metadata": {},
   "outputs": [
    {
     "data": {
      "text/plain": [
       "array([[1, 2, 3],\n",
       "       [4, 5, 6],\n",
       "       [7, 8, 9]])"
      ]
     },
     "execution_count": 56,
     "metadata": {},
     "output_type": "execute_result"
    }
   ],
   "source": [
    "n89 = np.arange(1, 10).reshape((3, 3))\n",
    "n89"
   ]
  },
  {
   "cell_type": "code",
   "execution_count": 67,
   "id": "4dcac417",
   "metadata": {},
   "outputs": [
    {
     "data": {
      "text/plain": [
       "array([0.        , 0.11111111, 0.22222222, 0.33333333, 0.44444444,\n",
       "       0.55555556, 0.66666667, 0.77777778, 0.88888889, 1.        ])"
      ]
     },
     "execution_count": 67,
     "metadata": {},
     "output_type": "execute_result"
    }
   ],
   "source": [
    "np10 = np.linspace(0, 1, 10)\n",
    "np10"
   ]
  },
  {
   "cell_type": "code",
   "execution_count": 69,
   "id": "2e8b31da",
   "metadata": {},
   "outputs": [
    {
     "data": {
      "text/plain": [
       "array([0.        , 0.16666667, 0.33333333, 0.5       , 0.66666667,\n",
       "       0.83333333])"
      ]
     },
     "execution_count": 69,
     "metadata": {},
     "output_type": "execute_result"
    }
   ],
   "source": [
    "np11 = np.linspace(0, 1, 6, endpoint=False)\n",
    "np11"
   ]
  },
  {
   "cell_type": "code",
   "execution_count": 23,
   "id": "b66a5b9f",
   "metadata": {},
   "outputs": [
    {
     "name": "stdout",
     "output_type": "stream",
     "text": [
      "[[1. 0. 0. 0. 0.]\n",
      " [0. 1. 0. 0. 0.]\n",
      " [0. 0. 1. 0. 0.]\n",
      " [0. 0. 0. 1. 0.]]\n",
      "\n",
      "[[1. 0. 0.]\n",
      " [0. 1. 0.]\n",
      " [0. 0. 1.]\n",
      " [0. 0. 0.]]\n",
      "\n",
      "[[1. 0. 0.]\n",
      " [0. 1. 0.]\n",
      " [0. 0. 1.]]\n"
     ]
    }
   ],
   "source": [
    "np12 = np.eye(4, 5)\n",
    "print(np12, end='\\n\\n')\n",
    "\n",
    "np121 = np.eye(4, 3)\n",
    "print(np121, end='\\n\\n')\n",
    "\n",
    "np122 = np.eye(3)\n",
    "print(np122)"
   ]
  },
  {
   "cell_type": "code",
   "execution_count": 24,
   "id": "70044d90",
   "metadata": {},
   "outputs": [
    {
     "name": "stdout",
     "output_type": "stream",
     "text": [
      "[[1 0 0 0]\n",
      " [0 2 0 0]\n",
      " [0 0 3 0]\n",
      " [0 0 0 4]]\n",
      "\n",
      "[[1 0 0]\n",
      " [0 2 0]\n",
      " [0 0 3]]\n",
      "\n",
      "[[0 0 1 0 0]\n",
      " [0 0 0 2 0]\n",
      " [0 0 0 0 3]\n",
      " [0 0 0 0 0]\n",
      " [0 0 0 0 0]]\n"
     ]
    }
   ],
   "source": [
    "np13 = np.diag(np.array([1, 2, 3, 4]))\n",
    "print(np13, end='\\n\\n')\n",
    "\n",
    "np15 = np.diag([1, 2, 3])\n",
    "print(np15, end='\\n\\n')\n",
    "\n",
    "np151 = np.diag([1, 2, 3], 2)\n",
    "print(np151)"
   ]
  },
  {
   "cell_type": "code",
   "execution_count": 70,
   "id": "1425b6a8",
   "metadata": {},
   "outputs": [
    {
     "data": {
      "text/plain": [
       "array([1, 5, 9])"
      ]
     },
     "execution_count": 70,
     "metadata": {},
     "output_type": "execute_result"
    }
   ],
   "source": [
    "np.diag([[1, 2, 3], \n",
    "         [4, 5, 6], \n",
    "         [7, 8, 9]])"
   ]
  },
  {
   "cell_type": "code",
   "execution_count": 71,
   "id": "94ee41f9",
   "metadata": {},
   "outputs": [
    {
     "data": {
      "text/plain": [
       "array([[1, 0, 0, 0, 0, 0, 0, 0, 0],\n",
       "       [0, 2, 0, 0, 0, 0, 0, 0, 0],\n",
       "       [0, 0, 3, 0, 0, 0, 0, 0, 0],\n",
       "       [0, 0, 0, 4, 0, 0, 0, 0, 0],\n",
       "       [0, 0, 0, 0, 5, 0, 0, 0, 0],\n",
       "       [0, 0, 0, 0, 0, 6, 0, 0, 0],\n",
       "       [0, 0, 0, 0, 0, 0, 7, 0, 0],\n",
       "       [0, 0, 0, 0, 0, 0, 0, 8, 0],\n",
       "       [0, 0, 0, 0, 0, 0, 0, 0, 9]])"
      ]
     },
     "execution_count": 71,
     "metadata": {},
     "output_type": "execute_result"
    }
   ],
   "source": [
    "np.diagflat([[1, 2, 3], \n",
    "             [4, 5, 6], \n",
    "             [7, 8, 9]])"
   ]
  },
  {
   "cell_type": "code",
   "execution_count": 72,
   "id": "f2733c44",
   "metadata": {},
   "outputs": [
    {
     "data": {
      "text/plain": [
       "array([[0.        , 0.16666667, 0.33333333],\n",
       "       [0.5       , 0.66666667, 0.83333333]])"
      ]
     },
     "execution_count": 72,
     "metadata": {},
     "output_type": "execute_result"
    }
   ],
   "source": [
    "np14 = np.empty([2, 3])\n",
    "np14"
   ]
  },
  {
   "cell_type": "code",
   "execution_count": 33,
   "id": "562f8c54",
   "metadata": {},
   "outputs": [
    {
     "data": {
      "text/plain": [
       "array(['h', 'e', 'l', 'l', 'o'], dtype='<U1')"
      ]
     },
     "execution_count": 33,
     "metadata": {},
     "output_type": "execute_result"
    }
   ],
   "source": [
    "np.fromiter('hello', dtype='U1')"
   ]
  },
  {
   "cell_type": "code",
   "execution_count": 34,
   "id": "c9f9281d",
   "metadata": {},
   "outputs": [
    {
     "data": {
      "text/plain": [
       "array([1, 2, 3], dtype=int16)"
      ]
     },
     "execution_count": 34,
     "metadata": {},
     "output_type": "execute_result"
    }
   ],
   "source": [
    "np.fromstring('1, 2, 3', dtype='int16', sep=',')"
   ]
  },
  {
   "cell_type": "markdown",
   "id": "71fb7dc4",
   "metadata": {},
   "source": [
    "### Random"
   ]
  },
  {
   "cell_type": "code",
   "execution_count": 35,
   "id": "5c2bc830",
   "metadata": {},
   "outputs": [
    {
     "data": {
      "text/plain": [
       "array([0.88213083, 0.58749725, 0.5657638 , 0.21273415])"
      ]
     },
     "execution_count": 35,
     "metadata": {},
     "output_type": "execute_result"
    }
   ],
   "source": [
    "np.random.rand(4)"
   ]
  },
  {
   "cell_type": "code",
   "execution_count": 36,
   "id": "ebc120c2",
   "metadata": {},
   "outputs": [
    {
     "data": {
      "text/plain": [
       "array([[[0.84071702, 0.82516639],\n",
       "        [0.27797886, 0.38877414]],\n",
       "\n",
       "       [[0.21904323, 0.49076632],\n",
       "        [0.69610627, 0.51041335]],\n",
       "\n",
       "       [[0.20455233, 0.33543857],\n",
       "        [0.06441054, 0.86733377]]])"
      ]
     },
     "execution_count": 36,
     "metadata": {},
     "output_type": "execute_result"
    }
   ],
   "source": [
    "np.random.rand(3, 2, 2)"
   ]
  },
  {
   "cell_type": "code",
   "execution_count": 37,
   "id": "9d877a53",
   "metadata": {},
   "outputs": [
    {
     "data": {
      "text/plain": [
       "array([[0.39252464, 0.35287255, 0.45301709],\n",
       "       [0.5502861 , 0.70661437, 0.78227483],\n",
       "       [0.21703688, 0.19751816, 0.97546889]])"
      ]
     },
     "execution_count": 37,
     "metadata": {},
     "output_type": "execute_result"
    }
   ],
   "source": [
    "np.random.random((3, 3))"
   ]
  },
  {
   "cell_type": "code",
   "execution_count": 38,
   "id": "d9ace99b",
   "metadata": {},
   "outputs": [
    {
     "data": {
      "text/plain": [
       "array([[-0.664336  ,  0.84456901],\n",
       "       [-1.21849251, -0.71284977],\n",
       "       [ 1.56732918, -0.03937888]])"
      ]
     },
     "execution_count": 38,
     "metadata": {},
     "output_type": "execute_result"
    }
   ],
   "source": [
    "np.random.randn(3, 2)  # samples from \"standard normal\" distribution"
   ]
  },
  {
   "cell_type": "code",
   "execution_count": 39,
   "id": "e1055d82",
   "metadata": {},
   "outputs": [
    {
     "data": {
      "text/plain": [
       "array([[ 8.85549994,  7.31351431, 20.09301927],\n",
       "       [11.55617519,  9.92337626,  8.07022916],\n",
       "       [10.61950309, 11.53466302,  8.16192974]])"
      ]
     },
     "execution_count": 39,
     "metadata": {},
     "output_type": "execute_result"
    }
   ],
   "source": [
    "np.random.normal(10, 5, (3, 3))"
   ]
  },
  {
   "cell_type": "code",
   "execution_count": 74,
   "id": "cd31db0c",
   "metadata": {},
   "outputs": [
    {
     "data": {
      "text/plain": [
       "array([[8, 0],\n",
       "       [0, 6]])"
      ]
     },
     "execution_count": 74,
     "metadata": {},
     "output_type": "execute_result"
    }
   ],
   "source": [
    "np.random.randint(0, 10, (2, 2))"
   ]
  },
  {
   "cell_type": "code",
   "execution_count": 82,
   "id": "25cd0316",
   "metadata": {},
   "outputs": [
    {
     "data": {
      "text/plain": [
       "array([[9, 0, 1],\n",
       "       [7, 1, 7]])"
      ]
     },
     "execution_count": 82,
     "metadata": {},
     "output_type": "execute_result"
    }
   ],
   "source": [
    "np.random.seed(11)\n",
    "np.random.randint(10, size=(2, 3))"
   ]
  },
  {
   "cell_type": "code",
   "execution_count": 83,
   "id": "8ac15f41",
   "metadata": {},
   "outputs": [
    {
     "data": {
      "text/plain": [
       "array([[9, 0, 1],\n",
       "       [7, 1, 7]])"
      ]
     },
     "execution_count": 83,
     "metadata": {},
     "output_type": "execute_result"
    }
   ],
   "source": [
    "np.random.seed(11)\n",
    "np.random.randint(10, size=(2, 3))"
   ]
  },
  {
   "cell_type": "code",
   "execution_count": 84,
   "id": "38dc16f2",
   "metadata": {},
   "outputs": [
    {
     "data": {
      "text/plain": [
       "array([[2, 8, 0],\n",
       "       [0, 4, 2]])"
      ]
     },
     "execution_count": 84,
     "metadata": {},
     "output_type": "execute_result"
    }
   ],
   "source": [
    "np.random.randint(10, size=(2, 3))"
   ]
  },
  {
   "cell_type": "code",
   "execution_count": 85,
   "id": "90beac9f",
   "metadata": {},
   "outputs": [
    {
     "data": {
      "text/plain": [
       "array([2, 7, 6, 0, 3, 9, 4, 8, 5, 1])"
      ]
     },
     "execution_count": 85,
     "metadata": {},
     "output_type": "execute_result"
    }
   ],
   "source": [
    "a = np.arange(10)\n",
    "np.random.shuffle(a)\n",
    "a"
   ]
  },
  {
   "cell_type": "code",
   "execution_count": 86,
   "id": "da3ef429",
   "metadata": {},
   "outputs": [
    {
     "data": {
      "text/plain": [
       "array([[1, 2, 3],\n",
       "       [4, 5, 6],\n",
       "       [7, 8, 9]])"
      ]
     },
     "execution_count": 86,
     "metadata": {},
     "output_type": "execute_result"
    }
   ],
   "source": [
    "a = np.array([[1, 2, 3], [4, 5, 6], [7, 8, 9]])\n",
    "np.random.shuffle(a)\n",
    "a"
   ]
  },
  {
   "cell_type": "markdown",
   "id": "b65e8f4b",
   "metadata": {},
   "source": [
    "### Data types\n",
    "\n",
    "|Data type\t    |Description|\n",
    "|---|---|\n",
    "|bool_\t        |Boolean (True or False) stored as a byte|\n",
    "|int_\t        |Default integer type (same as C long; normally either int64 or int32)|\n",
    "|intc\t        |Identical to C int (normally int32 or int64)|\n",
    "|intp\t        |Integer used for indexing (same as C ssize_t; normally either int32 or int64)|\n",
    "|int8\t        |Byte (-128 to 127)|\n",
    "|int16\t        |Integer (-32768 to 32767)|\n",
    "|int32\t        |Integer (-2147483648 to 2147483647)|\n",
    "|int64\t        |Integer (-9223372036854775808 to 9223372036854775807)|\n",
    "|uint8\t        |Unsigned integer (0 to 255)|\n",
    "|uint16\t        |Unsigned integer (0 to 65535)|\n",
    "|uint32\t        |Unsigned integer (0 to 4294967295)|\n",
    "|uint64\t        |Unsigned integer (0 to 18446744073709551615)|\n",
    "|float_\t        |Shorthand for float64.|\n",
    "|float16\t    |Half precision float: sign bit, 5 bits exponent, 10 bits mantissa|\n",
    "|float32\t    |Single precision float: sign bit, 8 bits exponent, 23 bits mantissa|\n",
    "|float64\t    |Double precision float: sign bit, 11 bits exponent, 52 bits mantissa|\n",
    "|complex_\t    |Shorthand for complex128.|\n",
    "|complex64\t    |Complex number, represented by two 32-bit floats|\n",
    "|complex128\t    |Complex number, represented by two 64-bit floats|"
   ]
  },
  {
   "cell_type": "code",
   "execution_count": 46,
   "id": "9f77e945",
   "metadata": {},
   "outputs": [],
   "source": [
    "# np.sctypeDict"
   ]
  },
  {
   "cell_type": "code",
   "execution_count": 47,
   "id": "18cd9916",
   "metadata": {},
   "outputs": [
    {
     "name": "stdout",
     "output_type": "stream",
     "text": [
      "[1 1 1 1 1 1 1 1 1 1]\n",
      "\n",
      "[ True  True  True  True  True  True  True  True  True  True]\n"
     ]
    }
   ],
   "source": [
    "print(np.ones(10, dtype='int32'), end='\\n\\n')\n",
    "\n",
    "print(np.ones(10, dtype='bool'))"
   ]
  },
  {
   "cell_type": "code",
   "execution_count": 48,
   "id": "efeff8e5",
   "metadata": {},
   "outputs": [
    {
     "name": "stdout",
     "output_type": "stream",
     "text": [
      "[ 0  1  2  3 -4 64]\n"
     ]
    },
    {
     "data": {
      "text/plain": [
       "1"
      ]
     },
     "execution_count": 48,
     "metadata": {},
     "output_type": "execute_result"
    }
   ],
   "source": [
    "dt = 'int8'\n",
    "\n",
    "print(np.array([0, 1, 2.5, 3, -4, 1_000_000.45], dtype=dt))\n",
    "\n",
    "np.zeros(10, dtype=dt).itemsize"
   ]
  },
  {
   "cell_type": "code",
   "execution_count": 49,
   "id": "29d3329b",
   "metadata": {},
   "outputs": [],
   "source": [
    "a = np.array([0, 1, 2.5, 3, -4, 1_000_000.45], 'float32')"
   ]
  },
  {
   "cell_type": "code",
   "execution_count": 50,
   "id": "68696012",
   "metadata": {},
   "outputs": [
    {
     "data": {
      "text/plain": [
       "(array([      0,       1,       2,       3,      -4, 1000000]), dtype('int32'))"
      ]
     },
     "execution_count": 50,
     "metadata": {},
     "output_type": "execute_result"
    }
   ],
   "source": [
    "a = np.int32(a)\n",
    "a, a.dtype"
   ]
  },
  {
   "cell_type": "code",
   "execution_count": 51,
   "id": "d9028287",
   "metadata": {},
   "outputs": [
    {
     "data": {
      "text/plain": [
       "dtype('<U32')"
      ]
     },
     "execution_count": 51,
     "metadata": {},
     "output_type": "execute_result"
    }
   ],
   "source": [
    "a = np.array([1, 2, 1.5, 'hello'])\n",
    "a.dtype"
   ]
  },
  {
   "cell_type": "markdown",
   "id": "de0d535f",
   "metadata": {},
   "source": [
    "### Slicing, array changing"
   ]
  },
  {
   "cell_type": "code",
   "id": "1f29648f-4fab-4a4f-9851-397a7b0825b2",
   "metadata": {
    "ExecuteTime": {
     "end_time": "2025-09-14T17:31:08.487127Z",
     "start_time": "2025-09-14T17:31:07.941754Z"
    }
   },
   "source": [
    "m = np.random.randint(1, 100, (7, 8))\n",
    "m"
   ],
   "outputs": [
    {
     "data": {
      "text/plain": [
       "array([[77,  1, 63, 53, 14, 84, 56, 19],\n",
       "       [49, 85, 36, 82, 82, 67, 25, 37],\n",
       "       [85, 74, 84, 65, 12, 33, 84, 22],\n",
       "       [43, 79, 26, 85, 53, 62,  7, 35],\n",
       "       [13, 80, 29, 94, 30, 58, 17, 54],\n",
       "       [92,  8, 69, 31, 12, 25, 82, 88],\n",
       "       [78, 96, 26, 22, 61, 85, 58, 15]], dtype=int32)"
      ]
     },
     "execution_count": 4,
     "metadata": {},
     "output_type": "execute_result"
    }
   ],
   "execution_count": 4
  },
  {
   "cell_type": "code",
   "execution_count": 98,
   "id": "df150a4f-a7b0-4546-84dd-ce7784f55af7",
   "metadata": {},
   "outputs": [
    {
     "data": {
      "text/plain": [
       "array([[ 2,  4,  9, 88, 82, 69, 73, 33],\n",
       "       [79, 20, 26, 91, 39, 60, 18, 44],\n",
       "       [19, 49, 11, 48, 33,  0, 41,  9],\n",
       "       [69, 34,  2, 96, 76,  0, 73, 20],\n",
       "       [97, 85, 51, 83, 60, 73, 39, 40],\n",
       "       [35, 32,  5, 29, 14, 58, 66, 91],\n",
       "       [86, 21, 18, 82, 63,  5, 75, 40]])"
      ]
     },
     "execution_count": 98,
     "metadata": {},
     "output_type": "execute_result"
    }
   ],
   "source": [
    "m[2:4, 5] = np.array([0, 0])\n",
    "m"
   ]
  },
  {
   "cell_type": "code",
   "execution_count": null,
   "id": "9731691d-b2c4-416a-9b17-8d1670abc635",
   "metadata": {},
   "outputs": [],
   "source": []
  },
  {
   "cell_type": "code",
   "execution_count": 52,
   "id": "6b4672f2",
   "metadata": {},
   "outputs": [
    {
     "name": "stdout",
     "output_type": "stream",
     "text": [
      "<class 'numpy.ndarray'> [0 1 2 3 4 5 6 7 8 9]\n",
      "0 5\n",
      "[6 8]\n"
     ]
    }
   ],
   "source": [
    "a = np.arange(10)\n",
    "print(type(a), a)\n",
    "print(a[0], a[5])\n",
    "print(a[6::2])"
   ]
  },
  {
   "cell_type": "code",
   "execution_count": 53,
   "id": "6fd0f0f9",
   "metadata": {},
   "outputs": [
    {
     "data": {
      "text/plain": [
       "array([ 0,  1,  2,  3,  4, 10, 10, 10, 10, 10])"
      ]
     },
     "execution_count": 53,
     "metadata": {},
     "output_type": "execute_result"
    }
   ],
   "source": [
    "a[5:] = 10\n",
    "a"
   ]
  },
  {
   "cell_type": "code",
   "execution_count": 54,
   "id": "1cd07a35",
   "metadata": {},
   "outputs": [
    {
     "data": {
      "text/plain": [
       "array([ 0,  1,  2,  3,  4, 10, 14, 13, 12, 11])"
      ]
     },
     "execution_count": 54,
     "metadata": {},
     "output_type": "execute_result"
    }
   ],
   "source": [
    "a1 = [11, 12, 13, 14]\n",
    "a[6:] = a1[::-1]  # must have same shape\n",
    "a"
   ]
  },
  {
   "cell_type": "code",
   "execution_count": 55,
   "id": "5959dc9f",
   "metadata": {},
   "outputs": [
    {
     "name": "stdout",
     "output_type": "stream",
     "text": [
      "[[0 0 0]\n",
      " [0 1 0]\n",
      " [0 0 2]]\n"
     ]
    },
    {
     "data": {
      "text/plain": [
       "1"
      ]
     },
     "execution_count": 55,
     "metadata": {},
     "output_type": "execute_result"
    }
   ],
   "source": [
    "b = np.diag(np.arange(3))\n",
    "print(b)\n",
    "b[1, 1]  # вторая строка, второй столбец\n"
   ]
  },
  {
   "cell_type": "code",
   "execution_count": 56,
   "id": "fb8813c0",
   "metadata": {},
   "outputs": [
    {
     "data": {
      "text/plain": [
       "array([[ 0,  0,  0],\n",
       "       [ 0,  1,  0],\n",
       "       [ 0, 15,  2]])"
      ]
     },
     "execution_count": 56,
     "metadata": {},
     "output_type": "execute_result"
    }
   ],
   "source": [
    "b[2, 1] = 15\n",
    "b"
   ]
  },
  {
   "cell_type": "code",
   "execution_count": 57,
   "id": "91270070",
   "metadata": {},
   "outputs": [
    {
     "data": {
      "text/plain": [
       "array([[ 0,  1,  0],\n",
       "       [ 0, 15,  2]])"
      ]
     },
     "execution_count": 57,
     "metadata": {},
     "output_type": "execute_result"
    }
   ],
   "source": [
    "b[1:]"
   ]
  },
  {
   "cell_type": "code",
   "execution_count": 58,
   "id": "dfb86aa0",
   "metadata": {},
   "outputs": [
    {
     "data": {
      "text/plain": [
       "array([[0, 0],\n",
       "       [0, 1]])"
      ]
     },
     "execution_count": 58,
     "metadata": {},
     "output_type": "execute_result"
    }
   ],
   "source": [
    "b[:2, :2]"
   ]
  },
  {
   "cell_type": "code",
   "execution_count": 59,
   "id": "ea92e660",
   "metadata": {},
   "outputs": [
    {
     "data": {
      "text/plain": [
       "True"
      ]
     },
     "execution_count": 59,
     "metadata": {},
     "output_type": "execute_result"
    }
   ],
   "source": [
    "b1 = b[:2, :2]\n",
    "np.may_share_memory(b, b1)  # проверяет занимают ли b и b1 одинаковый блок памяти"
   ]
  },
  {
   "cell_type": "code",
   "execution_count": 60,
   "id": "31c6dca4",
   "metadata": {},
   "outputs": [
    {
     "data": {
      "text/plain": [
       "True"
      ]
     },
     "execution_count": 60,
     "metadata": {},
     "output_type": "execute_result"
    }
   ],
   "source": [
    "b1_ = b1\n",
    "np.may_share_memory(b1_, b1)"
   ]
  },
  {
   "cell_type": "code",
   "execution_count": 61,
   "id": "d8f078d7",
   "metadata": {},
   "outputs": [
    {
     "data": {
      "text/plain": [
       "False"
      ]
     },
     "execution_count": 61,
     "metadata": {},
     "output_type": "execute_result"
    }
   ],
   "source": [
    "b1copy = b1.copy()\n",
    "np.may_share_memory(b1copy, b1)"
   ]
  },
  {
   "cell_type": "markdown",
   "id": "4facd604",
   "metadata": {},
   "source": [
    "### Change shape"
   ]
  },
  {
   "cell_type": "code",
   "execution_count": 99,
   "id": "b216cbc9",
   "metadata": {},
   "outputs": [
    {
     "data": {
      "text/plain": [
       "array([[1, 2, 3],\n",
       "       [4, 5, 6]])"
      ]
     },
     "execution_count": 99,
     "metadata": {},
     "output_type": "execute_result"
    }
   ],
   "source": [
    "r = np.arange(1, 7)\n",
    "r1 = np.arange(1, 7).reshape((2, 3))\n",
    "r1"
   ]
  },
  {
   "cell_type": "code",
   "execution_count": 100,
   "id": "c1ef0078",
   "metadata": {},
   "outputs": [
    {
     "data": {
      "text/plain": [
       "array([1, 2, 3, 4, 5, 6])"
      ]
     },
     "execution_count": 100,
     "metadata": {},
     "output_type": "execute_result"
    }
   ],
   "source": [
    "r2 = r1.flatten()\n",
    "r2"
   ]
  },
  {
   "cell_type": "code",
   "execution_count": 101,
   "id": "8eaf02e5",
   "metadata": {},
   "outputs": [
    {
     "data": {
      "text/plain": [
       "array([[1, 2],\n",
       "       [3, 4],\n",
       "       [5, 6]])"
      ]
     },
     "execution_count": 101,
     "metadata": {},
     "output_type": "execute_result"
    }
   ],
   "source": [
    "r3 = r2.reshape((3, 2))\n",
    "r3"
   ]
  },
  {
   "cell_type": "code",
   "execution_count": 102,
   "id": "fa9c49d1-7447-4686-a526-30857007f049",
   "metadata": {},
   "outputs": [
    {
     "data": {
      "text/plain": [
       "array([1, 2, 3, 4, 5, 6])"
      ]
     },
     "execution_count": 102,
     "metadata": {},
     "output_type": "execute_result"
    }
   ],
   "source": [
    "r"
   ]
  },
  {
   "cell_type": "code",
   "execution_count": 103,
   "id": "7c8dbf8c",
   "metadata": {},
   "outputs": [
    {
     "data": {
      "text/plain": [
       "array([[1, 2, 3, 4, 5, 6]])"
      ]
     },
     "execution_count": 103,
     "metadata": {},
     "output_type": "execute_result"
    }
   ],
   "source": [
    "r[np.newaxis, :]"
   ]
  },
  {
   "cell_type": "code",
   "execution_count": 104,
   "id": "69768d64",
   "metadata": {},
   "outputs": [
    {
     "name": "stdout",
     "output_type": "stream",
     "text": [
      "[[1 2 3 4 5 6]]\n",
      "[[1]\n",
      " [2]\n",
      " [3]\n",
      " [4]\n",
      " [5]\n",
      " [6]]\n"
     ]
    }
   ],
   "source": [
    "print(r[np.newaxis, :])\n",
    "print(r[:, np.newaxis])"
   ]
  },
  {
   "cell_type": "code",
   "execution_count": 105,
   "id": "a17d0a6a",
   "metadata": {},
   "outputs": [
    {
     "name": "stdout",
     "output_type": "stream",
     "text": [
      "[[1 2 3 4 5 6]]\n",
      "[[1]\n",
      " [2]\n",
      " [3]\n",
      " [4]\n",
      " [5]\n",
      " [6]]\n"
     ]
    }
   ],
   "source": [
    "print(r[None, :])\n",
    "print(r[:, None])"
   ]
  },
  {
   "cell_type": "markdown",
   "id": "d09baded",
   "metadata": {},
   "source": [
    "### Concatenate"
   ]
  },
  {
   "cell_type": "code",
   "execution_count": 106,
   "id": "c1822171",
   "metadata": {},
   "outputs": [
    {
     "data": {
      "text/plain": [
       "array([5, 7, 9])"
      ]
     },
     "execution_count": 106,
     "metadata": {},
     "output_type": "execute_result"
    }
   ],
   "source": [
    "x = np.array([1, 2, 3])\n",
    "y = np.array([4, 5, 6])\n",
    "\n",
    "x + y"
   ]
  },
  {
   "cell_type": "code",
   "execution_count": 107,
   "id": "07c6181f",
   "metadata": {},
   "outputs": [
    {
     "data": {
      "text/plain": [
       "array([1, 2, 3, 4, 5, 6])"
      ]
     },
     "execution_count": 107,
     "metadata": {},
     "output_type": "execute_result"
    }
   ],
   "source": [
    "np.concatenate((x, y))"
   ]
  },
  {
   "cell_type": "code",
   "execution_count": 108,
   "id": "6c2c7856",
   "metadata": {},
   "outputs": [
    {
     "data": {
      "text/plain": [
       "array([[ 7,  8,  9],\n",
       "       [10, 11, 12],\n",
       "       [ 7,  8,  9],\n",
       "       [10, 11, 12]])"
      ]
     },
     "execution_count": 108,
     "metadata": {},
     "output_type": "execute_result"
    }
   ],
   "source": [
    "z = np.array([[7, 8, 9],\n",
    "              [10, 11, 12]])\n",
    "\n",
    "np.concatenate([z, z], axis=0)  # как отдельная матрица добавить, по умолчанию axis=0"
   ]
  },
  {
   "cell_type": "code",
   "execution_count": 109,
   "id": "503856f3",
   "metadata": {},
   "outputs": [
    {
     "data": {
      "text/plain": [
       "array([[ 7,  8,  9,  7,  8,  9],\n",
       "       [10, 11, 12, 10, 11, 12]])"
      ]
     },
     "execution_count": 109,
     "metadata": {},
     "output_type": "execute_result"
    }
   ],
   "source": [
    "np.concatenate([z, z], axis=1)  # добавить, как продолжение строк"
   ]
  },
  {
   "cell_type": "code",
   "execution_count": 72,
   "id": "48771f4d",
   "metadata": {},
   "outputs": [
    {
     "data": {
      "text/plain": [
       "array([[ 1,  2,  3],\n",
       "       [ 7,  8,  9],\n",
       "       [10, 11, 12]])"
      ]
     },
     "execution_count": 72,
     "metadata": {},
     "output_type": "execute_result"
    }
   ],
   "source": [
    "np.vstack([x, z])  # добавляет снизу"
   ]
  },
  {
   "cell_type": "code",
   "execution_count": 73,
   "id": "aeb5dab2",
   "metadata": {},
   "outputs": [
    {
     "data": {
      "text/plain": [
       "array([[ 2,  4,  7,  8,  9],\n",
       "       [ 3,  5, 10, 11, 12]])"
      ]
     },
     "execution_count": 73,
     "metadata": {},
     "output_type": "execute_result"
    }
   ],
   "source": [
    "p = np.array([[2, 4],\n",
    "              [3, 5]])\n",
    "\n",
    "np.hstack([p, z])  # добавляет справа"
   ]
  },
  {
   "cell_type": "code",
   "execution_count": 74,
   "id": "d40555ec",
   "metadata": {},
   "outputs": [
    {
     "data": {
      "text/plain": [
       "array([1, 2, 3, 4, 5, 6])"
      ]
     },
     "execution_count": 74,
     "metadata": {},
     "output_type": "execute_result"
    }
   ],
   "source": [
    "np.hstack((x, y))"
   ]
  },
  {
   "cell_type": "code",
   "execution_count": 75,
   "id": "a38dc4a5",
   "metadata": {},
   "outputs": [
    {
     "data": {
      "text/plain": [
       "array([[1, 2, 3],\n",
       "       [4, 5, 6]])"
      ]
     },
     "execution_count": 75,
     "metadata": {},
     "output_type": "execute_result"
    }
   ],
   "source": [
    "np.vstack((x, y))"
   ]
  },
  {
   "cell_type": "code",
   "execution_count": 76,
   "id": "1188434c",
   "metadata": {},
   "outputs": [
    {
     "data": {
      "text/plain": [
       "array([[1, 4],\n",
       "       [2, 5],\n",
       "       [3, 6]])"
      ]
     },
     "execution_count": 76,
     "metadata": {},
     "output_type": "execute_result"
    }
   ],
   "source": [
    "np.column_stack((x, y))"
   ]
  },
  {
   "cell_type": "code",
   "execution_count": 77,
   "id": "cfe704f0",
   "metadata": {},
   "outputs": [
    {
     "data": {
      "text/plain": [
       "array([[1, 2, 3],\n",
       "       [4, 5, 6]])"
      ]
     },
     "execution_count": 77,
     "metadata": {},
     "output_type": "execute_result"
    }
   ],
   "source": [
    "np.row_stack((x, y))"
   ]
  },
  {
   "cell_type": "code",
   "execution_count": 78,
   "id": "c51d13fa",
   "metadata": {},
   "outputs": [
    {
     "data": {
      "text/plain": [
       "array([[[1, 4],\n",
       "        [2, 5],\n",
       "        [3, 6]]])"
      ]
     },
     "execution_count": 78,
     "metadata": {},
     "output_type": "execute_result"
    }
   ],
   "source": [
    "np.dstack((x, y))  # добавляет тензор"
   ]
  },
  {
   "cell_type": "code",
   "execution_count": 79,
   "id": "b59df09a",
   "metadata": {},
   "outputs": [
    {
     "data": {
      "text/plain": [
       "array([1, 2, 3, 4, 5])"
      ]
     },
     "execution_count": 79,
     "metadata": {},
     "output_type": "execute_result"
    }
   ],
   "source": [
    "np.r_[[1, 2, 3], 4, 5]"
   ]
  },
  {
   "cell_type": "code",
   "execution_count": 80,
   "id": "375e416f",
   "metadata": {},
   "outputs": [
    {
     "data": {
      "text/plain": [
       "array([  1,   2,   3,   4,   5,   6,   7,   8,   9, 100, 200])"
      ]
     },
     "execution_count": 80,
     "metadata": {},
     "output_type": "execute_result"
    }
   ],
   "source": [
    "np.r_[1:10, 100, 200]"
   ]
  },
  {
   "cell_type": "code",
   "execution_count": 81,
   "id": "09e5a9ea",
   "metadata": {},
   "outputs": [
    {
     "data": {
      "text/plain": [
       "array([[1, 2, 3],\n",
       "       [4, 5, 6],\n",
       "       [7, 8, 9]])"
      ]
     },
     "execution_count": 81,
     "metadata": {},
     "output_type": "execute_result"
    }
   ],
   "source": [
    "np.r_[ [[1, 2, 3], [4, 5, 6]], [[7, 8, 9]] ]"
   ]
  },
  {
   "cell_type": "code",
   "execution_count": 82,
   "id": "dec508a8",
   "metadata": {},
   "outputs": [
    {
     "data": {
      "text/plain": [
       "array([[1],\n",
       "       [2],\n",
       "       [3],\n",
       "       [4],\n",
       "       [5],\n",
       "       [6],\n",
       "       [7],\n",
       "       [8],\n",
       "       [9]])"
      ]
     },
     "execution_count": 82,
     "metadata": {},
     "output_type": "execute_result"
    }
   ],
   "source": [
    "np.c_[1:10]"
   ]
  },
  {
   "cell_type": "code",
   "execution_count": 83,
   "id": "999b2f18",
   "metadata": {},
   "outputs": [
    {
     "data": {
      "text/plain": [
       "array([[1, 4],\n",
       "       [2, 5],\n",
       "       [3, 6]])"
      ]
     },
     "execution_count": 83,
     "metadata": {},
     "output_type": "execute_result"
    }
   ],
   "source": [
    "np.c_[[1, 2, 3], [4, 5, 6]]"
   ]
  },
  {
   "cell_type": "markdown",
   "id": "48b7a982",
   "metadata": {},
   "source": [
    "### Split"
   ]
  },
  {
   "cell_type": "code",
   "execution_count": 84,
   "id": "0c5892c5",
   "metadata": {},
   "outputs": [
    {
     "data": {
      "text/plain": [
       "(array([1, 2]), array([3, 4, 5]), array([6, 7, 8]), array([ 9, 10]))"
      ]
     },
     "execution_count": 84,
     "metadata": {},
     "output_type": "execute_result"
    }
   ],
   "source": [
    "x = [1, 2, 3, 4, 5, 6, 7, 8, 9, 10]\n",
    "x1, x2, x3, x4 = np.split(x, (2, 5, 8))\n",
    "\n",
    "x1, x2, x3, x4"
   ]
  },
  {
   "cell_type": "code",
   "execution_count": 85,
   "id": "4c96e97a",
   "metadata": {},
   "outputs": [
    {
     "data": {
      "text/plain": [
       "array([[ 1,  2,  3,  4],\n",
       "       [ 5,  6,  7,  8],\n",
       "       [ 9, 10, 11, 12],\n",
       "       [13, 14, 15, 16]])"
      ]
     },
     "execution_count": 85,
     "metadata": {},
     "output_type": "execute_result"
    }
   ],
   "source": [
    "z = np.arange(1, 17).reshape((4, 4))\n",
    "z"
   ]
  },
  {
   "cell_type": "code",
   "execution_count": 86,
   "id": "88dd0193",
   "metadata": {},
   "outputs": [
    {
     "name": "stdout",
     "output_type": "stream",
     "text": [
      "[[ 1  2  3  4]\n",
      " [ 5  6  7  8]\n",
      " [ 9 10 11 12]] \n",
      "\n",
      " [[13 14 15 16]] \n",
      "\n",
      " [[ 1  2]\n",
      " [ 5  6]\n",
      " [ 9 10]\n",
      " [13 14]] \n",
      "\n",
      " [[ 3  4]\n",
      " [ 7  8]\n",
      " [11 12]\n",
      " [15 16]]\n"
     ]
    }
   ],
   "source": [
    "z1, z2 = np.vsplit(z, [3])\n",
    "z3, z4 = np.hsplit(z, [2])\n",
    "\n",
    "print(z1, '\\n\\n', z2, '\\n\\n', z3, '\\n\\n', z4)"
   ]
  },
  {
   "cell_type": "markdown",
   "id": "f31495f5",
   "metadata": {},
   "source": [
    "### list VS ndarray"
   ]
  },
  {
   "cell_type": "code",
   "execution_count": 127,
   "id": "0459f33d",
   "metadata": {},
   "outputs": [
    {
     "data": {
      "text/plain": [
       "array([0.5 , 0.1 , 0.2 , 0.25])"
      ]
     },
     "execution_count": 127,
     "metadata": {},
     "output_type": "execute_result"
    }
   ],
   "source": [
    "def reciprocals_1(x):\n",
    "    return 1 / np.array(x)\n",
    "\n",
    "x = [2, 10, 5, 4]\n",
    "reciprocals_1(x)"
   ]
  },
  {
   "cell_type": "code",
   "execution_count": 128,
   "id": "e0e00c77",
   "metadata": {},
   "outputs": [],
   "source": [
    "import time"
   ]
  },
  {
   "cell_type": "code",
   "execution_count": 129,
   "id": "f588692d-369a-4884-8a31-378fca1ac66b",
   "metadata": {},
   "outputs": [],
   "source": [
    "big_array = np.random.randint(1, 100, size=100_000_000)"
   ]
  },
  {
   "cell_type": "code",
   "execution_count": 130,
   "id": "2fb4ccb6",
   "metadata": {},
   "outputs": [
    {
     "name": "stdout",
     "output_type": "stream",
     "text": [
      "0.7976984977722168 seconds\n"
     ]
    }
   ],
   "source": [
    "start = time.time()\n",
    "reciprocals_1(big_array)\n",
    "time_array = time.time() - start \n",
    "print(\"%s seconds\" % time_array)"
   ]
  },
  {
   "cell_type": "code",
   "execution_count": 131,
   "id": "5125bf61",
   "metadata": {},
   "outputs": [
    {
     "data": {
      "text/plain": [
       "[0.5, 0.1, 0.2, 0.25]"
      ]
     },
     "execution_count": 131,
     "metadata": {},
     "output_type": "execute_result"
    }
   ],
   "source": [
    "def reciprocals_2(x):\n",
    "    a = []\n",
    "    for i in range(len(x)):\n",
    "        a.append(1 / x[i])\n",
    "    return a\n",
    "\n",
    "x = [2, 10, 5, 4]\n",
    "reciprocals_2(x)"
   ]
  },
  {
   "cell_type": "code",
   "execution_count": 134,
   "id": "da58e9c3-7e0a-40de-bc2d-16b7cb0ad1d1",
   "metadata": {},
   "outputs": [
    {
     "data": {
      "text/plain": [
       "dtype('int32')"
      ]
     },
     "execution_count": 134,
     "metadata": {},
     "output_type": "execute_result"
    }
   ],
   "source": [
    "big_array.dtype"
   ]
  },
  {
   "cell_type": "code",
   "execution_count": 132,
   "id": "896728b8",
   "metadata": {},
   "outputs": [
    {
     "name": "stdout",
     "output_type": "stream",
     "text": [
      "28.993205070495605 seconds\n"
     ]
    }
   ],
   "source": [
    "start = time.time()\n",
    "reciprocals_2(big_array)\n",
    "time_list = time.time() - start\n",
    "print(\"%s seconds\" % time_list)"
   ]
  },
  {
   "cell_type": "code",
   "execution_count": 137,
   "id": "bbbb52f0-ae26-475b-9575-aa625d49ded4",
   "metadata": {},
   "outputs": [
    {
     "data": {
      "text/plain": [
       "36.346069538135986"
      ]
     },
     "execution_count": 137,
     "metadata": {},
     "output_type": "execute_result"
    }
   ],
   "source": [
    "time_list / time_array"
   ]
  },
  {
   "cell_type": "markdown",
   "id": "40d3894b",
   "metadata": {},
   "source": [
    "### Padding"
   ]
  },
  {
   "cell_type": "code",
   "execution_count": 102,
   "id": "6b705162",
   "metadata": {},
   "outputs": [
    {
     "data": {
      "text/plain": [
       "array([[1, 2, 3],\n",
       "       [4, 5, 6],\n",
       "       [7, 8, 9]])"
      ]
     },
     "execution_count": 102,
     "metadata": {},
     "output_type": "execute_result"
    }
   ],
   "source": [
    "a = np.array([[1, 2, 3], [4, 5, 6], [7, 8, 9]])\n",
    "a"
   ]
  },
  {
   "cell_type": "code",
   "execution_count": 103,
   "id": "fe9a6f6c",
   "metadata": {},
   "outputs": [
    {
     "data": {
      "text/plain": [
       "array([[0, 0, 0, 0, 0],\n",
       "       [0, 1, 2, 3, 0],\n",
       "       [0, 4, 5, 6, 0],\n",
       "       [0, 7, 8, 9, 0],\n",
       "       [0, 0, 0, 0, 0]])"
      ]
     },
     "execution_count": 103,
     "metadata": {},
     "output_type": "execute_result"
    }
   ],
   "source": [
    "np.pad(a, 1)"
   ]
  },
  {
   "cell_type": "code",
   "execution_count": 104,
   "id": "3934a837",
   "metadata": {},
   "outputs": [
    {
     "data": {
      "text/plain": [
       "array([[0, 0, 0, 0, 0, 0, 0, 0, 0, 0],\n",
       "       [0, 0, 0, 1, 2, 3, 0, 0, 0, 0],\n",
       "       [0, 0, 0, 4, 5, 6, 0, 0, 0, 0],\n",
       "       [0, 0, 0, 7, 8, 9, 0, 0, 0, 0],\n",
       "       [0, 0, 0, 0, 0, 0, 0, 0, 0, 0],\n",
       "       [0, 0, 0, 0, 0, 0, 0, 0, 0, 0]])"
      ]
     },
     "execution_count": 104,
     "metadata": {},
     "output_type": "execute_result"
    }
   ],
   "source": [
    "np.pad(a, ((1, 2), (3, 4)))  # ((up, down), (left, right))"
   ]
  },
  {
   "cell_type": "code",
   "execution_count": 105,
   "id": "2a5172ab",
   "metadata": {},
   "outputs": [
    {
     "data": {
      "text/plain": [
       "array([[30, 10, 10, 10, 40],\n",
       "       [30,  1,  2,  3, 40],\n",
       "       [30,  4,  5,  6, 40],\n",
       "       [30,  7,  8,  9, 40],\n",
       "       [30, 20, 20, 20, 40]])"
      ]
     },
     "execution_count": 105,
     "metadata": {},
     "output_type": "execute_result"
    }
   ],
   "source": [
    "np.pad(a, pad_width=1, mode='constant', constant_values=((10, 20), (30, 40)))"
   ]
  },
  {
   "cell_type": "code",
   "execution_count": 106,
   "id": "faf19164",
   "metadata": {},
   "outputs": [],
   "source": [
    "# mode = 'constant', 'minimun', 'maximum', 'mean', 'median', 'edge', 'symmetric', 'reflect', 'empty', etc."
   ]
  },
  {
   "cell_type": "code",
   "execution_count": 107,
   "id": "48aaa167",
   "metadata": {},
   "outputs": [
    {
     "data": {
      "text/plain": [
       "array([[-7, -6, -5, -4, -3, -2, -1],\n",
       "       [-4, -3, -2, -1,  0,  1,  2],\n",
       "       [-1,  0,  1,  2,  3,  4,  5],\n",
       "       [ 2,  3,  4,  5,  6,  7,  8],\n",
       "       [ 5,  6,  7,  8,  9, 10, 11],\n",
       "       [ 8,  9, 10, 11, 12, 13, 14],\n",
       "       [11, 12, 13, 14, 15, 16, 17]])"
      ]
     },
     "execution_count": 107,
     "metadata": {},
     "output_type": "execute_result"
    }
   ],
   "source": [
    "np.pad(a, pad_width=2, mode='reflect', reflect_type='odd')"
   ]
  },
  {
   "cell_type": "code",
   "execution_count": 108,
   "id": "5c1f2822",
   "metadata": {},
   "outputs": [
    {
     "data": {
      "text/plain": [
       "array([[1, 1, 2, 3, 3],\n",
       "       [1, 1, 2, 3, 3],\n",
       "       [4, 4, 5, 6, 6],\n",
       "       [7, 7, 8, 9, 9],\n",
       "       [7, 7, 8, 9, 9]])"
      ]
     },
     "execution_count": 108,
     "metadata": {},
     "output_type": "execute_result"
    }
   ],
   "source": [
    "np.pad(a, pad_width=1, mode=\"edge\")"
   ]
  },
  {
   "cell_type": "markdown",
   "id": "9c2baa65",
   "metadata": {},
   "source": [
    "### Unique"
   ]
  },
  {
   "cell_type": "code",
   "execution_count": 138,
   "id": "b3824d0d",
   "metadata": {},
   "outputs": [
    {
     "data": {
      "text/plain": [
       "array([1, 3, 2, 3, 4, 4, 5, 2, 3, 1, 5, 4, 2, 2])"
      ]
     },
     "execution_count": 138,
     "metadata": {},
     "output_type": "execute_result"
    }
   ],
   "source": [
    "a = np.array([1, 3, 2, 3, 4, 4, 5, 2, 3, 1, 5, 4, 2, 2])\n",
    "a"
   ]
  },
  {
   "cell_type": "code",
   "execution_count": 139,
   "id": "f03e5537",
   "metadata": {},
   "outputs": [
    {
     "data": {
      "text/plain": [
       "array([1, 2, 3, 4, 5])"
      ]
     },
     "execution_count": 139,
     "metadata": {},
     "output_type": "execute_result"
    }
   ],
   "source": [
    "np.unique(a)"
   ]
  },
  {
   "cell_type": "code",
   "execution_count": 140,
   "id": "0702d1a5",
   "metadata": {},
   "outputs": [
    {
     "data": {
      "text/plain": [
       "(array([1, 2, 3, 4, 5]), array([2, 4, 3, 3, 2], dtype=int64))"
      ]
     },
     "execution_count": 140,
     "metadata": {},
     "output_type": "execute_result"
    }
   ],
   "source": [
    "np.unique(a, return_counts=True)"
   ]
  },
  {
   "cell_type": "code",
   "execution_count": 112,
   "id": "2d322f28",
   "metadata": {},
   "outputs": [
    {
     "data": {
      "text/plain": [
       "(array([1, 2, 3, 4, 5]), array([0, 2, 1, 4, 6], dtype=int64))"
      ]
     },
     "execution_count": 112,
     "metadata": {},
     "output_type": "execute_result"
    }
   ],
   "source": [
    "np.unique(a, return_index=True)"
   ]
  },
  {
   "cell_type": "code",
   "execution_count": 113,
   "id": "73b4081e",
   "metadata": {},
   "outputs": [
    {
     "data": {
      "text/plain": [
       "(array([1, 2, 3, 4, 5]),\n",
       " array([0, 2, 1, 2, 3, 3, 4, 1, 2, 0, 4, 3, 1, 1], dtype=int64))"
      ]
     },
     "execution_count": 113,
     "metadata": {},
     "output_type": "execute_result"
    }
   ],
   "source": [
    "np.unique(a, return_inverse=True)"
   ]
  },
  {
   "cell_type": "code",
   "execution_count": 114,
   "id": "13f6e04d",
   "metadata": {},
   "outputs": [
    {
     "data": {
      "text/plain": [
       "array([1, 3, 2, 3, 4, 4, 5, 2, 3, 1, 5, 4, 2, 2])"
      ]
     },
     "execution_count": 114,
     "metadata": {},
     "output_type": "execute_result"
    }
   ],
   "source": [
    "s, ind = np.unique(a, return_inverse=True)\n",
    "a_new = s[ind]\n",
    "a_new"
   ]
  },
  {
   "cell_type": "code",
   "execution_count": 115,
   "id": "a1f5a562",
   "metadata": {},
   "outputs": [
    {
     "name": "stdout",
     "output_type": "stream",
     "text": [
      "[[0 1 1 2]\n",
      " [0 1 1 2]\n",
      " [9 1 1 2]]\n",
      "\n",
      "[0 1 2 9]\n",
      "\n",
      "[[0 1 1 2]\n",
      " [9 1 1 2]]\n",
      "\n",
      "[[0 1 2]\n",
      " [0 1 2]\n",
      " [9 1 2]]\n"
     ]
    }
   ],
   "source": [
    "x = np.array([[0, 1, 1, 2], [0, 1, 1, 2], [9, 1, 1, 2], ])\n",
    "print(x, np.unique(x), np.unique(x, axis=0), np.unique(x, axis=1), sep='\\n\\n')"
   ]
  },
  {
   "cell_type": "code",
   "execution_count": 116,
   "id": "055832fc",
   "metadata": {},
   "outputs": [
    {
     "data": {
      "text/plain": [
       "array([False,  True,  True,  True,  True])"
      ]
     },
     "execution_count": 116,
     "metadata": {},
     "output_type": "execute_result"
    }
   ],
   "source": [
    "a = np.array([0, 1, 2, 3, 2])\n",
    "b = np.array([1, 2, 3, 4, 5, 6, 7, 8, 1, 6])\n",
    "\n",
    "np.in1d(a, b)"
   ]
  },
  {
   "cell_type": "code",
   "execution_count": 117,
   "id": "e4f69c30",
   "metadata": {},
   "outputs": [
    {
     "data": {
      "text/plain": [
       "array([1, 2, 3])"
      ]
     },
     "execution_count": 117,
     "metadata": {},
     "output_type": "execute_result"
    }
   ],
   "source": [
    "np.intersect1d(a, b)"
   ]
  },
  {
   "cell_type": "code",
   "execution_count": 118,
   "id": "4b220954",
   "metadata": {},
   "outputs": [
    {
     "data": {
      "text/plain": [
       "array([0, 1, 2, 3, 4, 5, 6, 7, 8])"
      ]
     },
     "execution_count": 118,
     "metadata": {},
     "output_type": "execute_result"
    }
   ],
   "source": [
    "np.union1d(a, b)"
   ]
  },
  {
   "cell_type": "code",
   "execution_count": 119,
   "id": "0da6dcb4",
   "metadata": {},
   "outputs": [
    {
     "data": {
      "text/plain": [
       "(array([0]), array([4, 5, 6, 7, 8]))"
      ]
     },
     "execution_count": 119,
     "metadata": {},
     "output_type": "execute_result"
    }
   ],
   "source": [
    "np.setdiff1d(a, b), np.setdiff1d(b, a)"
   ]
  },
  {
   "cell_type": "code",
   "execution_count": 120,
   "id": "837e4a40",
   "metadata": {},
   "outputs": [
    {
     "data": {
      "text/plain": [
       "array([0, 4, 5, 6, 7, 8])"
      ]
     },
     "execution_count": 120,
     "metadata": {},
     "output_type": "execute_result"
    }
   ],
   "source": [
    "np.setxor1d(a, b)"
   ]
  },
  {
   "cell_type": "markdown",
   "id": "01177fdb",
   "metadata": {},
   "source": [
    "### Operations on ndarray"
   ]
  },
  {
   "cell_type": "markdown",
   "id": "22527b2c",
   "metadata": {},
   "source": [
    "|Operator\t|Equivalent ufunc|\t    Description|\n",
    "|---|---|---|\n",
    "|+\t        |np.add\t         |       Addition (e.g., 1 + 1 = 2)|\n",
    "|-\t        |np.subtract\t |           Subtraction (e.g., 3 - 2 = 1)|\n",
    "|-\t        |np.negative\t |           Unary negation (e.g., -2)|\n",
    "|*\t        |np.multiply\t |           Multiplication (e.g., 2 * 3 = 6)|\n",
    "|/\t        |np.divide\t     |       Division (e.g., 3 / 2 = 1.5)|\n",
    "|//\t        |np.floor_divide\t|        Floor division (e.g., 3 // 2 = 1)|\n",
    "|**\t        |np.power\t     |       Exponentiation (e.g., 2 ** 3 = 8)|\n",
    "|%\t        |np.mod\t         |       Modulus/remainder (e.g., 9 % 4 = 1)|"
   ]
  },
  {
   "cell_type": "code",
   "execution_count": 143,
   "id": "b31865ef",
   "metadata": {},
   "outputs": [
    {
     "name": "stdout",
     "output_type": "stream",
     "text": [
      "[[0 1 2]\n",
      " [3 4 5]\n",
      " [6 7 8]]\n",
      "\n",
      "[[ 0  1  4]\n",
      " [ 9 16 25]\n",
      " [36 49 64]]\n",
      "\n",
      "[[ 5  6  7]\n",
      " [ 8  9 10]\n",
      " [11 12 13]]\n",
      "\n",
      "[[-5 -4 -3]\n",
      " [-2 -1  0]\n",
      " [ 1  2  3]]\n",
      "\n",
      "[[ 0  2  4]\n",
      " [ 6  8 10]\n",
      " [12 14 16]]\n",
      "\n",
      "[[0.  0.5 1. ]\n",
      " [1.5 2.  2.5]\n",
      " [3.  3.5 4. ]]\n",
      "\n",
      "[[0 0 1]\n",
      " [1 2 2]\n",
      " [3 3 4]]\n",
      "\n",
      "[[0 1 0]\n",
      " [1 0 1]\n",
      " [0 1 0]]\n",
      "\n",
      "[[ 0  1  4]\n",
      " [ 9 16 25]\n",
      " [36 49 64]]\n"
     ]
    }
   ],
   "source": [
    "x = np.arange(9).reshape((3, 3))\n",
    "\n",
    "print(x, end='\\n\\n')\n",
    "print(x ** 2, end='\\n\\n')\n",
    "print(x + 5, end='\\n\\n')\n",
    "print(x - 5, end='\\n\\n')\n",
    "print(x * 2, end='\\n\\n')\n",
    "print(x / 2, end='\\n\\n')\n",
    "print(x // 2, end='\\n\\n')\n",
    "print(x % 2, end='\\n\\n')\n",
    "print(x * x)"
   ]
  },
  {
   "cell_type": "code",
   "execution_count": 144,
   "id": "51d34990",
   "metadata": {},
   "outputs": [
    {
     "name": "stderr",
     "output_type": "stream",
     "text": [
      "C:\\Users\\user\\AppData\\Local\\Temp\\ipykernel_26212\\1937119386.py:2: RuntimeWarning: divide by zero encountered in divide\n",
      "  a / 0\n"
     ]
    },
    {
     "data": {
      "text/plain": [
       "array([inf, inf, inf])"
      ]
     },
     "execution_count": 144,
     "metadata": {},
     "output_type": "execute_result"
    }
   ],
   "source": [
    "a = np.array([1, 2, 3])\n",
    "a / 0"
   ]
  },
  {
   "cell_type": "code",
   "execution_count": 123,
   "id": "8aae3e37",
   "metadata": {},
   "outputs": [
    {
     "name": "stdout",
     "output_type": "stream",
     "text": [
      "2.718281828459045\n",
      "3.141592653589793\n",
      "0.49999999999999994\n",
      "0.5000000000000001\n",
      "0.9999999999999999\n",
      "1.5707963267948966\n",
      "0.0\n",
      "0.0\n"
     ]
    }
   ],
   "source": [
    "print(np.e)  # число e\n",
    "print(np.pi)  # число П\n",
    "print(np.sin(np.pi/6))\n",
    "print(np.cos(np.pi/3))\n",
    "print(np.tan(np.pi/4))\n",
    "print(np.arcsin(1))\n",
    "print(np.arccos(1))\n",
    "print(np.arctan(0))"
   ]
  },
  {
   "cell_type": "code",
   "execution_count": 145,
   "id": "6e9f36b6",
   "metadata": {},
   "outputs": [
    {
     "name": "stdout",
     "output_type": "stream",
     "text": [
      "[7.3890561  1.         2.71828183]\n",
      "[4. 1. 2.]\n",
      "[9 1 3]\n"
     ]
    }
   ],
   "source": [
    "x = [2, 0, 1]\n",
    "\n",
    "print(np.exp(x))  # e^x\n",
    "print(np.exp2(x))  # 2^x\n",
    "print(np.power(3, x))  # 3^x and x>0"
   ]
  },
  {
   "cell_type": "code",
   "execution_count": 125,
   "id": "6c6db622",
   "metadata": {},
   "outputs": [
    {
     "name": "stdout",
     "output_type": "stream",
     "text": [
      "[0.         1.         1.38629436 2.30258509 4.60517019]\n",
      "[0.         1.44269504 2.         3.32192809 6.64385619]\n",
      "[0.         0.43429448 0.60205999 1.         2.        ]\n"
     ]
    }
   ],
   "source": [
    "y = [1, np.e, 4, 10, 100]\n",
    "\n",
    "print(np.log(y))     # ln(y)\n",
    "print(np.log2(y))    # log2(y)\n",
    "print(np.log10(y))   # log10(y)"
   ]
  },
  {
   "cell_type": "code",
   "execution_count": 126,
   "id": "42d52059",
   "metadata": {},
   "outputs": [
    {
     "name": "stdout",
     "output_type": "stream",
     "text": [
      "Python sum :  47.87653997080133\n",
      "NumPy sum :  47.87653997080132\n"
     ]
    }
   ],
   "source": [
    "L = np.random.random(100)\n",
    "print(\"Python sum : \", sum(L))\n",
    "print(\"NumPy sum : \", np.sum(L))"
   ]
  },
  {
   "cell_type": "code",
   "execution_count": 127,
   "id": "ee9b26dc",
   "metadata": {},
   "outputs": [
    {
     "name": "stdout",
     "output_type": "stream",
     "text": [
      "5.706163644790649 seconds\n",
      "0.09374117851257324 seconds\n"
     ]
    }
   ],
   "source": [
    "big_array = np.random.rand(100000000)\n",
    "\n",
    "start = time.time()\n",
    "sum(big_array)\n",
    "print(\"%s seconds\" % (time.time() - start))\n",
    "\n",
    "start = time.time()\n",
    "np.sum(big_array)\n",
    "print(\"%s seconds\" % (time.time() - start))"
   ]
  },
  {
   "cell_type": "code",
   "execution_count": 128,
   "id": "93e051fc",
   "metadata": {},
   "outputs": [
    {
     "name": "stdout",
     "output_type": "stream",
     "text": [
      "[[ 0  1  2  3]\n",
      " [ 4  5  6  7]\n",
      " [ 8  9 10 11]\n",
      " [12 13 14 15]]\n",
      "0 15\n",
      "0 15 120\n"
     ]
    }
   ],
   "source": [
    "z = np.arange(16).reshape((4, 4))\n",
    "print(z)\n",
    "print(np.min(z), np.max(z))\n",
    "print(z.min(), z.max(), z.sum())"
   ]
  },
  {
   "cell_type": "code",
   "execution_count": 129,
   "id": "29bdf332",
   "metadata": {},
   "outputs": [
    {
     "name": "stdout",
     "output_type": "stream",
     "text": [
      "[0 1 2 3]\n",
      "[ 0  4  8 12]\n",
      "[6. 7. 8. 9.]\n",
      "[ 1.5  5.5  9.5 13.5]\n",
      "[24 28 32 36]\n",
      "[ 6 22 38 54]\n",
      "120\n"
     ]
    }
   ],
   "source": [
    "print(z.min(axis=0))  # по столбцам\n",
    "print(z.min(axis=1))  # по строкам\n",
    "print(z.mean(axis=0))  # среднее значение по столбцам\n",
    "print(z.mean(axis=1))  # среднее значение по строкам\n",
    "print(z.sum(axis=0))  # сумма элементов по столбцам\n",
    "print(z.sum(axis=1))  # сумма элементов по строкам\n",
    "print(z.sum())  # сумма всех элементов"
   ]
  },
  {
   "cell_type": "code",
   "execution_count": null,
   "id": "1c2c0200-a0aa-4f02-a42b-87fedf913963",
   "metadata": {},
   "outputs": [],
   "source": []
  },
  {
   "cell_type": "code",
   "execution_count": 165,
   "id": "87b6eeaa-ef10-4e42-9825-0f4287e405c4",
   "metadata": {},
   "outputs": [
    {
     "data": {
      "text/plain": [
       "array([[ 1,  2,  3,  4,  5],\n",
       "       [ 6,  7,  8,  9, 10],\n",
       "       [11, 12, 13, 14, 15],\n",
       "       [16, 17, 18, 19, 20]], dtype=int64)"
      ]
     },
     "execution_count": 165,
     "metadata": {},
     "output_type": "execute_result"
    }
   ],
   "source": [
    "m = np.arange(1, 21, dtype=\"int64\").reshape((4, 5))\n",
    "m"
   ]
  },
  {
   "cell_type": "code",
   "execution_count": 166,
   "id": "07b78b84-257a-4314-82ef-e5f72281ad95",
   "metadata": {},
   "outputs": [
    {
     "data": {
      "text/plain": [
       "(210, 210)"
      ]
     },
     "execution_count": 166,
     "metadata": {},
     "output_type": "execute_result"
    }
   ],
   "source": [
    "m.sum(), np.sum(m)"
   ]
  },
  {
   "cell_type": "code",
   "execution_count": 167,
   "id": "dcb05950-4dfc-4696-b10e-ac63e94625eb",
   "metadata": {},
   "outputs": [
    {
     "data": {
      "text/plain": [
       "array([34, 38, 42, 46, 50], dtype=int64)"
      ]
     },
     "execution_count": 167,
     "metadata": {},
     "output_type": "execute_result"
    }
   ],
   "source": [
    "m.sum(axis=0)"
   ]
  },
  {
   "cell_type": "code",
   "execution_count": 168,
   "id": "89427f8e-101e-4110-9fa2-dc38cdd6cb08",
   "metadata": {},
   "outputs": [
    {
     "data": {
      "text/plain": [
       "array([15, 40, 65, 90], dtype=int64)"
      ]
     },
     "execution_count": 168,
     "metadata": {},
     "output_type": "execute_result"
    }
   ],
   "source": [
    "m.sum(axis=1)"
   ]
  },
  {
   "cell_type": "code",
   "execution_count": 169,
   "id": "35a07ce3-ebf1-4cad-9e26-9692fe2eda07",
   "metadata": {},
   "outputs": [
    {
     "data": {
      "text/plain": [
       "array([[ 1,  2,  3,  4,  5],\n",
       "       [ 6,  7,  8,  9, 10],\n",
       "       [11, 12, 13, 14, 15],\n",
       "       [16, 17, 18, 19, 20]], dtype=int64)"
      ]
     },
     "execution_count": 169,
     "metadata": {},
     "output_type": "execute_result"
    }
   ],
   "source": [
    "m"
   ]
  },
  {
   "cell_type": "code",
   "execution_count": 170,
   "id": "00d2dae6-9187-4b0d-a774-b5cceb2e53dd",
   "metadata": {},
   "outputs": [
    {
     "data": {
      "text/plain": [
       "array([    120,   30240,  360360, 1860480], dtype=int64)"
      ]
     },
     "execution_count": 170,
     "metadata": {},
     "output_type": "execute_result"
    }
   ],
   "source": [
    "m.prod(axis=1)"
   ]
  },
  {
   "cell_type": "code",
   "execution_count": 171,
   "id": "313142c8-31e3-499f-b698-7a909bd4dc7e",
   "metadata": {},
   "outputs": [
    {
     "data": {
      "text/plain": [
       "2432902008176640000"
      ]
     },
     "execution_count": 171,
     "metadata": {},
     "output_type": "execute_result"
    }
   ],
   "source": [
    "m.prod()"
   ]
  },
  {
   "cell_type": "code",
   "execution_count": 172,
   "id": "da56f9f6-e81c-407b-822b-557e9bba0e3b",
   "metadata": {},
   "outputs": [
    {
     "data": {
      "text/plain": [
       "2432902008176640000"
      ]
     },
     "execution_count": 172,
     "metadata": {},
     "output_type": "execute_result"
    }
   ],
   "source": [
    "import math\n",
    "math.prod([120, 30240, 360360, 1860480])"
   ]
  },
  {
   "cell_type": "code",
   "execution_count": 174,
   "id": "7974d636-738e-4d8d-b314-a1a7f77c5e67",
   "metadata": {},
   "outputs": [
    {
     "data": {
      "text/plain": [
       "array([ 5, 10, 15, 20], dtype=int64)"
      ]
     },
     "execution_count": 174,
     "metadata": {},
     "output_type": "execute_result"
    }
   ],
   "source": [
    "m.max(axis=1)"
   ]
  },
  {
   "cell_type": "code",
   "execution_count": 175,
   "id": "83c05f83-653c-4254-9f92-369b4b8e100e",
   "metadata": {},
   "outputs": [
    {
     "data": {
      "text/plain": [
       "array([ 5, 10, 15, 20], dtype=int64)"
      ]
     },
     "execution_count": 175,
     "metadata": {},
     "output_type": "execute_result"
    }
   ],
   "source": [
    "m.max(axis=1)"
   ]
  },
  {
   "cell_type": "code",
   "execution_count": null,
   "id": "65ed8dc5-fc62-4e00-86bf-099277feea58",
   "metadata": {},
   "outputs": [],
   "source": []
  },
  {
   "cell_type": "code",
   "execution_count": 182,
   "id": "88fff978",
   "metadata": {},
   "outputs": [],
   "source": [
    "x = np.array([9, 12, 6, 7, 2, 6, 17, 4, -10, 5, 11, -1, 1, 1, 14])\n",
    "y = np.array([6, 17, 3, 24, 3, 10, 8, 12, -8, 0, 8, 1, 1, 36, 8])"
   ]
  },
  {
   "cell_type": "code",
   "execution_count": 183,
   "id": "bbe5724a",
   "metadata": {},
   "outputs": [
    {
     "data": {
      "text/plain": [
       "(6.0, 8.0)"
      ]
     },
     "execution_count": 183,
     "metadata": {},
     "output_type": "execute_result"
    }
   ],
   "source": [
    "np.median(x), np.median(y)"
   ]
  },
  {
   "cell_type": "code",
   "execution_count": 132,
   "id": "59d8a683",
   "metadata": {},
   "outputs": [
    {
     "data": {
      "text/plain": [
       "(41.97333333333333, 107.17333333333333)"
      ]
     },
     "execution_count": 132,
     "metadata": {},
     "output_type": "execute_result"
    }
   ],
   "source": [
    "np.var(x), np.var(y)"
   ]
  },
  {
   "cell_type": "code",
   "execution_count": 133,
   "id": "34e8b6fa",
   "metadata": {},
   "outputs": [
    {
     "data": {
      "text/plain": [
       "(6.478682993736715, 10.352455425324628)"
      ]
     },
     "execution_count": 133,
     "metadata": {},
     "output_type": "execute_result"
    }
   ],
   "source": [
    "np.std(x), np.std(y)"
   ]
  },
  {
   "cell_type": "code",
   "execution_count": 134,
   "id": "3ef1095e",
   "metadata": {},
   "outputs": [
    {
     "data": {
      "text/plain": [
       "array([[ 44.97142857,  20.54285714],\n",
       "       [ 20.54285714, 114.82857143]])"
      ]
     },
     "execution_count": 134,
     "metadata": {},
     "output_type": "execute_result"
    }
   ],
   "source": [
    "np.cov(x, y)"
   ]
  },
  {
   "cell_type": "code",
   "execution_count": 135,
   "id": "0b3cb3f4",
   "metadata": {},
   "outputs": [
    {
     "data": {
      "text/plain": [
       "array([[1.       , 0.2858693],\n",
       "       [0.2858693, 1.       ]])"
      ]
     },
     "execution_count": 135,
     "metadata": {},
     "output_type": "execute_result"
    }
   ],
   "source": [
    "np.corrcoef(x, y)"
   ]
  },
  {
   "cell_type": "markdown",
   "id": "f9a1ec23",
   "metadata": {},
   "source": [
    "### numpy.nan"
   ]
  },
  {
   "cell_type": "code",
   "execution_count": 184,
   "id": "57f17945",
   "metadata": {},
   "outputs": [],
   "source": [
    "n = np.array([[1, 5, np.nan],\n",
    "              [3, np.nan, 0]])"
   ]
  },
  {
   "cell_type": "code",
   "execution_count": 185,
   "id": "bb2fd7f4",
   "metadata": {},
   "outputs": [
    {
     "data": {
      "text/plain": [
       "nan"
      ]
     },
     "execution_count": 185,
     "metadata": {},
     "output_type": "execute_result"
    }
   ],
   "source": [
    "n.sum()"
   ]
  },
  {
   "cell_type": "code",
   "execution_count": 186,
   "id": "86832fa5",
   "metadata": {},
   "outputs": [
    {
     "data": {
      "text/plain": [
       "(9.0, 0.0, 5.0)"
      ]
     },
     "execution_count": 186,
     "metadata": {},
     "output_type": "execute_result"
    }
   ],
   "source": [
    " np.nansum(n), np.nanmin(n), np.nanmax(n)"
   ]
  },
  {
   "cell_type": "markdown",
   "id": "6af3ee5f",
   "metadata": {},
   "source": [
    "|Function Name\t    |NaN-safe Version\t    |Description|\n",
    "|---|---|---|\n",
    "|np.sum\t            |np.nansum\t            |Compute sum of elements|\n",
    "|np.prod\t        |    np.nanprod\t        |    Compute product of elements|\n",
    "|np.mean\t        |    np.nanmean\t        |    Compute mean of elements|\n",
    "|np.std\t            |np.nanstd\t            |Compute standard deviation|\n",
    "|np.var\t            |np.nanvar\t            |Compute variance|\n",
    "|np.min\t            |np.nanmin\t            |Find minimum value|\n",
    "|np.max\t            |np.nanmax\t            |Find maximum value|\n",
    "|np.argmin\t        |np.nanargmin\t        |Find index of minimum value|\n",
    "|np.argmax\t        |np.nanargmax\t        |Find index of maximum value|\n",
    "|np.median\t        |np.nanmedian\t        |Compute median of elements|\n",
    "|np.percentile\t    |np.nanpercentile\t    |Compute rank-based statistics of elements|\n",
    "|np.any\t            |N/A\t                |    Evaluate whether any elements are true|\n",
    "|np.all\t            |N/A\t                |    Evaluate whether all elements are true|\n"
   ]
  },
  {
   "cell_type": "markdown",
   "id": "5a41285a",
   "metadata": {},
   "source": [
    "### Shapes"
   ]
  },
  {
   "cell_type": "markdown",
   "id": "b88945e4",
   "metadata": {},
   "source": [
    "1. If the two arrays differ in their number of dimensions, the shape of the one with fewer dimensions is padded with ones on its leading (left) side.\n",
    "\n",
    "  (3 x 1) + (1 x 0) = (3 x 1)\n",
    "\n",
    "\n",
    "2. If the shape of the two arrays does not match in any dimension, the array with shape equal to 1 in that dimension is stretched to match the other shape.\n",
    "  \n",
    "  (3 x 3) + (1 x 3) = (3 x 3)\n",
    "  \n",
    "  (1 x 3) + (1 x 3) = (3 x 3)\n",
    "\n",
    "\n",
    "3. If in any dimension the sizes disagree and neither is equal to 1, an error is raised."
   ]
  },
  {
   "cell_type": "code",
   "execution_count": 139,
   "id": "a63fe75f",
   "metadata": {},
   "outputs": [
    {
     "name": "stdout",
     "output_type": "stream",
     "text": [
      "[[1. 1. 1.]\n",
      " [1. 1. 1.]]\n",
      "\n",
      "[0 1 2]\n",
      "\n",
      "[[1. 2. 3.]\n",
      " [1. 2. 3.]]\n"
     ]
    }
   ],
   "source": [
    "m = np.ones((2, 3))\n",
    "a = np.arange(3)\n",
    "\n",
    "print(m, end='\\n\\n')\n",
    "print(a, end='\\n\\n')\n",
    "print(m + a)"
   ]
  },
  {
   "cell_type": "code",
   "execution_count": 140,
   "id": "3bea5296",
   "metadata": {},
   "outputs": [
    {
     "name": "stdout",
     "output_type": "stream",
     "text": [
      "[[0]\n",
      " [1]\n",
      " [2]]\n",
      "\n",
      "[0 1 2]\n",
      "\n",
      "[[0 1 2]\n",
      " [1 2 3]\n",
      " [2 3 4]]\n"
     ]
    }
   ],
   "source": [
    "a = np.arange(3).reshape((3, 1))\n",
    "b = np.arange(3)\n",
    "\n",
    "print(a, end='\\n\\n')\n",
    "print(b, end='\\n\\n')\n",
    "print(a + b)"
   ]
  },
  {
   "cell_type": "code",
   "execution_count": 141,
   "id": "e05dec0a",
   "metadata": {},
   "outputs": [
    {
     "name": "stdout",
     "output_type": "stream",
     "text": [
      "[[1. 1.]\n",
      " [1. 1.]\n",
      " [1. 1.]]\n",
      "\n",
      "[0 1 2]\n",
      "\n"
     ]
    },
    {
     "ename": "ValueError",
     "evalue": "operands could not be broadcast together with shapes (3,2) (3,) ",
     "output_type": "error",
     "traceback": [
      "\u001B[1;31m---------------------------------------------------------------------------\u001B[0m",
      "\u001B[1;31mValueError\u001B[0m                                Traceback (most recent call last)",
      "Cell \u001B[1;32mIn[141], line 6\u001B[0m\n\u001B[0;32m      4\u001B[0m \u001B[38;5;28mprint\u001B[39m(m, end\u001B[38;5;241m=\u001B[39m\u001B[38;5;124m'\u001B[39m\u001B[38;5;130;01m\\n\u001B[39;00m\u001B[38;5;130;01m\\n\u001B[39;00m\u001B[38;5;124m'\u001B[39m)\n\u001B[0;32m      5\u001B[0m \u001B[38;5;28mprint\u001B[39m(a, end\u001B[38;5;241m=\u001B[39m\u001B[38;5;124m'\u001B[39m\u001B[38;5;130;01m\\n\u001B[39;00m\u001B[38;5;130;01m\\n\u001B[39;00m\u001B[38;5;124m'\u001B[39m)\n\u001B[1;32m----> 6\u001B[0m \u001B[38;5;28mprint\u001B[39m(\u001B[43mm\u001B[49m\u001B[43m \u001B[49m\u001B[38;5;241;43m+\u001B[39;49m\u001B[43m \u001B[49m\u001B[43ma\u001B[49m)  \u001B[38;5;66;03m# error\u001B[39;00m\n",
      "\u001B[1;31mValueError\u001B[0m: operands could not be broadcast together with shapes (3,2) (3,) "
     ]
    }
   ],
   "source": [
    "m = np.ones((3, 2))\n",
    "a = np.arange(3)\n",
    "\n",
    "print(m, end='\\n\\n')\n",
    "print(a, end='\\n\\n')\n",
    "print(m + a)  # error"
   ]
  },
  {
   "cell_type": "markdown",
   "id": "77c38d09",
   "metadata": {},
   "source": [
    "### Logical operators"
   ]
  },
  {
   "cell_type": "code",
   "execution_count": 188,
   "id": "3be030bc",
   "metadata": {},
   "outputs": [
    {
     "name": "stdout",
     "output_type": "stream",
     "text": [
      "[[ True  True False False False]\n",
      " [False False False False False]]\n",
      "\n",
      "[[0 0 1 0 0]\n",
      " [0 0 0 0 0]]\n",
      "\n",
      "[[False  True False False False]\n",
      " [False False False False False]]\n"
     ]
    }
   ],
   "source": [
    "x = np.array([[1, 2, 3, 4, 5],\n",
    "              [4, 5, 6, 5, 4]])\n",
    "\n",
    "print(x < 3, end='\\n\\n')\n",
    "print((x == 3) * 1, end='\\n\\n')\n",
    "print((2 * x) == (x ** 2))"
   ]
  },
  {
   "cell_type": "code",
   "execution_count": 189,
   "id": "89cf043a",
   "metadata": {},
   "outputs": [
    {
     "data": {
      "text/plain": [
       "array([4, 5, 4, 5, 6, 5, 4])"
      ]
     },
     "execution_count": 189,
     "metadata": {},
     "output_type": "execute_result"
    }
   ],
   "source": [
    "x[x>3]"
   ]
  },
  {
   "cell_type": "code",
   "execution_count": null,
   "id": "29fc0656-1dde-4daa-956b-b1f755e1c782",
   "metadata": {},
   "outputs": [],
   "source": []
  },
  {
   "cell_type": "code",
   "execution_count": 203,
   "id": "b3e0e195-ec59-4fc3-a052-2678abe254fd",
   "metadata": {},
   "outputs": [
    {
     "data": {
      "text/plain": [
       "array([[13,  4, 24, 74, 78, 43],\n",
       "       [98,  6, 82, 81, 28, 91],\n",
       "       [96,  3, 55, 84, 30, 45],\n",
       "       [55, 97, 87,  5, 34, 14],\n",
       "       [95, 14, 57, 93, 82, 81]])"
      ]
     },
     "execution_count": 203,
     "metadata": {},
     "output_type": "execute_result"
    }
   ],
   "source": [
    "m = np.random.randint(1, 100, (5, 6))\n",
    "m"
   ]
  },
  {
   "cell_type": "code",
   "execution_count": 204,
   "id": "c8f00aaa-6509-4fa3-bcb4-e11677f6c4fb",
   "metadata": {},
   "outputs": [
    {
     "data": {
      "text/plain": [
       "array([ 4, 98,  6, 91, 96,  3, 97,  5, 95, 93])"
      ]
     },
     "execution_count": 204,
     "metadata": {},
     "output_type": "execute_result"
    }
   ],
   "source": [
    "m[(m>=90) | (m<=10)]"
   ]
  },
  {
   "cell_type": "code",
   "execution_count": 207,
   "id": "cb5cdb43-a99d-4b22-bedb-7b525bed3902",
   "metadata": {},
   "outputs": [
    {
     "data": {
      "text/plain": [
       "array([[13,  4, 24, 74, 78, 43],\n",
       "       [95, 14, 57, 93, 82, 81],\n",
       "       [98,  6, 82, 81, 28, 91],\n",
       "       [55, 97, 87,  5, 34, 14],\n",
       "       [96,  3, 55, 84, 30, 45]])"
      ]
     },
     "execution_count": 207,
     "metadata": {},
     "output_type": "execute_result"
    }
   ],
   "source": [
    "m[[0, 4, 1, 3, 2]]"
   ]
  },
  {
   "cell_type": "code",
   "execution_count": 209,
   "id": "780bfe8b-d79e-46ff-a9d6-3a77c4de560f",
   "metadata": {},
   "outputs": [
    {
     "data": {
      "text/plain": [
       "array([[43, 78, 74, 24,  4, 13],\n",
       "       [91, 28, 81, 82,  6, 98],\n",
       "       [45, 30, 84, 55,  3, 96],\n",
       "       [14, 34,  5, 87, 97, 55],\n",
       "       [81, 82, 93, 57, 14, 95]])"
      ]
     },
     "execution_count": 209,
     "metadata": {},
     "output_type": "execute_result"
    }
   ],
   "source": [
    "m[:, ::-1]"
   ]
  },
  {
   "cell_type": "code",
   "execution_count": 211,
   "id": "1a2c7173-7ba5-4f5e-aeb5-b9c1fdfcab27",
   "metadata": {},
   "outputs": [
    {
     "data": {
      "text/plain": [
       "array([[13, 43],\n",
       "       [98, 91],\n",
       "       [96, 45],\n",
       "       [55, 14],\n",
       "       [95, 81]])"
      ]
     },
     "execution_count": 211,
     "metadata": {},
     "output_type": "execute_result"
    }
   ],
   "source": [
    "m[:, [0, 5]]"
   ]
  },
  {
   "cell_type": "markdown",
   "id": "e0ac531e",
   "metadata": {},
   "source": [
    "|Operator\t|Equivalent ufunc|\n",
    "|---|---|\n",
    "|==\t        |np.equal|\n",
    "|<\t        |np.less|\n",
    "|>\t        |np.greater|\n",
    "|!=\t        |np.not_equal|\n",
    "|<=\t        |np.less_equal|\n",
    "|>=\t        |np.greater_equal|"
   ]
  },
  {
   "cell_type": "markdown",
   "id": "f8229818",
   "metadata": {},
   "source": [
    "### Take elements from array"
   ]
  },
  {
   "cell_type": "code",
   "execution_count": 144,
   "id": "eb67f065",
   "metadata": {},
   "outputs": [
    {
     "data": {
      "text/plain": [
       "array([[ 0,  1,  2,  3],\n",
       "       [ 4,  5,  6,  7],\n",
       "       [ 8,  9, 10, 11]])"
      ]
     },
     "execution_count": 144,
     "metadata": {},
     "output_type": "execute_result"
    }
   ],
   "source": [
    "x = np.array([[0, 1, 2, 3],\n",
    "              [4, 5, 6, 7],\n",
    "              [8, 9, 10, 11]])\n",
    "x"
   ]
  },
  {
   "cell_type": "code",
   "execution_count": 145,
   "id": "551ea914",
   "metadata": {},
   "outputs": [
    {
     "data": {
      "text/plain": [
       "array([ 2,  5, 11])"
      ]
     },
     "execution_count": 145,
     "metadata": {},
     "output_type": "execute_result"
    }
   ],
   "source": [
    "row = np.array([0, 1, 2])\n",
    "col = np.array([2, 1, 3])\n",
    "\n",
    "x[row, col]"
   ]
  },
  {
   "cell_type": "code",
   "execution_count": 146,
   "id": "e58088ef",
   "metadata": {},
   "outputs": [
    {
     "name": "stdout",
     "output_type": "stream",
     "text": [
      "[10  8  9]\n",
      "[[ 6  4  5]\n",
      " [10  8  9]]\n"
     ]
    }
   ],
   "source": [
    "print(x[2, [2, 0, 1]])\n",
    "print(x[1:, [2, 0, 1]])"
   ]
  },
  {
   "cell_type": "markdown",
   "id": "ee23086d",
   "metadata": {},
   "source": [
    "### Sort"
   ]
  },
  {
   "cell_type": "code",
   "execution_count": 147,
   "id": "83629ef3",
   "metadata": {},
   "outputs": [
    {
     "name": "stdout",
     "output_type": "stream",
     "text": [
      "[-5 -1  0  1  3  4  5 12 41 54]\n",
      "[6 1 7 8 3 2 0 5 9 4]\n",
      "6\n",
      "4\n"
     ]
    }
   ],
   "source": [
    "n = np.array([5, -1, 4, 3, 54, 12, -5, 0, 1, 41])\n",
    "print(np.sort(n))\n",
    "print(np.argsort(n))\n",
    "print(np.argmin(n))\n",
    "print(np.argmax(n))"
   ]
  },
  {
   "cell_type": "markdown",
   "id": "549ca757",
   "metadata": {},
   "source": [
    "# Matrices"
   ]
  },
  {
   "cell_type": "code",
   "execution_count": 148,
   "id": "163d0338",
   "metadata": {},
   "outputs": [
    {
     "data": {
      "text/plain": [
       "array([[8, 6, 0],\n",
       "       [4, 8, 0]])"
      ]
     },
     "execution_count": 148,
     "metadata": {},
     "output_type": "execute_result"
    }
   ],
   "source": [
    "x = np.random.randint(0, 10, (2, 3))\n",
    "x"
   ]
  },
  {
   "cell_type": "code",
   "execution_count": 149,
   "id": "ad8305f7",
   "metadata": {},
   "outputs": [
    {
     "name": "stdout",
     "output_type": "stream",
     "text": [
      "[[8 4]\n",
      " [6 8]\n",
      " [0 0]]\n",
      "\n",
      "[[8 4]\n",
      " [6 8]\n",
      " [0 0]]\n"
     ]
    }
   ],
   "source": [
    "print(x.T, end='\\n\\n')\n",
    "print(x.transpose())"
   ]
  },
  {
   "cell_type": "code",
   "execution_count": 150,
   "id": "9943b824",
   "metadata": {},
   "outputs": [
    {
     "name": "stdout",
     "output_type": "stream",
     "text": [
      "[[2 0 3]]\n",
      "\n",
      "[[2]\n",
      " [0]\n",
      " [3]]\n"
     ]
    }
   ],
   "source": [
    "a = np.array([2, 0, 3])\n",
    "\n",
    "print(np.expand_dims(a, axis=0), np.expand_dims(a, axis=1), sep='\\n\\n')"
   ]
  },
  {
   "cell_type": "code",
   "execution_count": 151,
   "id": "c966202a",
   "metadata": {},
   "outputs": [
    {
     "name": "stdout",
     "output_type": "stream",
     "text": [
      "[2 0 3]\n"
     ]
    }
   ],
   "source": [
    "a = np.array([[2, 0, 3]])\n",
    "\n",
    "print(np.squeeze(a, axis=0))"
   ]
  },
  {
   "cell_type": "code",
   "execution_count": 152,
   "id": "61535cd5",
   "metadata": {},
   "outputs": [
    {
     "name": "stdout",
     "output_type": "stream",
     "text": [
      "First method\n",
      "[[16 -8]\n",
      " [-1 -9]]\n",
      "\n",
      "Second method\n",
      "[[16 -8]\n",
      " [-1 -9]]\n",
      "\n",
      "The shortest method\n",
      "[[16 -8]\n",
      " [-1 -9]]\n"
     ]
    }
   ],
   "source": [
    "a = np.array([[2, 3, 1],\n",
    "              [3, -1, 0]])\n",
    "\n",
    "b = np.array([[1, -3],\n",
    "              [4, 0],\n",
    "              [2, -2]])\n",
    "\n",
    "c = np.array([[2, 0, 4, 5, -9],\n",
    "              [1, 4, 3, 8, -2]])\n",
    "\n",
    "print('First method', a.dot(b), sep='\\n', end='\\n\\n')\n",
    "print('Second method', np.matmul(a, b), sep='\\n', end='\\n\\n')\n",
    "print('The shortest method', a @ b, sep='\\n')"
   ]
  },
  {
   "cell_type": "code",
   "execution_count": 153,
   "id": "1b474853",
   "metadata": {},
   "outputs": [
    {
     "name": "stdout",
     "output_type": "stream",
     "text": [
      "[1 2 3]\n",
      "\n",
      "[2 3 4]\n",
      "\n",
      "Method 1:\n",
      "20\n",
      "\n",
      "Method 2:\n",
      "20\n",
      "\n",
      "Method 3:\n",
      "20\n",
      "\n",
      "Method 4:\n",
      "[[ 2  3  4]\n",
      " [ 4  6  8]\n",
      " [ 6  9 12]]\n",
      "\n",
      "Method 5 = Method 2:\n",
      "20\n",
      "\n"
     ]
    }
   ],
   "source": [
    "# product\n",
    "x = np.array([1, 2, 3])\n",
    "y = np.array([2, 3, 4])\n",
    "\n",
    "print(x, y, sep='\\n\\n', end='\\n\\n')\n",
    "\n",
    "print('Method 1:', np.dot(x, y), sep='\\n', end='\\n\\n')\n",
    "print('Method 2:', np.matmul(x, y), sep='\\n', end='\\n\\n')\n",
    "print('Method 3:', np.inner(x, y), sep='\\n', end='\\n\\n')\n",
    "print('Method 4:', np.outer(x, y), sep='\\n', end='\\n\\n')\n",
    "print('Method 5 = Method 2:', x @ y, sep='\\n', end='\\n\\n')"
   ]
  },
  {
   "cell_type": "code",
   "execution_count": 154,
   "id": "52fb8c9c",
   "metadata": {},
   "outputs": [
    {
     "name": "stdout",
     "output_type": "stream",
     "text": [
      "Inverse Matrix:\n",
      " [[ 0.25 -0.5   0.25]\n",
      " [-1.75 -1.5   2.25]\n",
      " [ 1.25  1.5  -1.75]]\n",
      "\n",
      "Checking the inverse d_inv * d:\n",
      " [[1. 0. 0.]\n",
      " [0. 1. 0.]\n",
      " [0. 0. 1.]]\n",
      "\n",
      "Checking the inverse d * d_inv:\n",
      " [[1. 0. 0.]\n",
      " [0. 1. 0.]\n",
      " [0. 0. 1.]]\n"
     ]
    }
   ],
   "source": [
    "# Inverse matrix\n",
    "\n",
    "d = np.array([[3, 2, 3],\n",
    "              [1, 3, 4],\n",
    "              [3, 4, 5]])\n",
    "\n",
    "d_inv = np.linalg.inv(d)\n",
    "\n",
    "print('Inverse Matrix:\\n', d_inv, end='\\n\\n')\n",
    "print('Checking the inverse d_inv * d:\\n', np.around(d_inv @ d), end='\\n\\n')\n",
    "print('Checking the inverse d * d_inv:\\n', abs(np.around(d @ d_inv)))"
   ]
  },
  {
   "cell_type": "code",
   "execution_count": 155,
   "id": "9a86958d",
   "metadata": {},
   "outputs": [
    {
     "name": "stdout",
     "output_type": "stream",
     "text": [
      "[[1. 0. 0.]\n",
      " [0. 1. 0.]\n",
      " [0. 0. 1.]]\n",
      "\n",
      "[[ 2.  3.  1.]\n",
      " [ 3. -1.  0.]]\n",
      "\n",
      "[[ True  True  True]\n",
      " [ True  True  True]]\n",
      "\n",
      "Checking the equality of arrays (method 1): True\n",
      "Checking the equality of arrays (method 2): True\n"
     ]
    }
   ],
   "source": [
    "identity_matrix = np.eye(3)\n",
    "\n",
    "print(identity_matrix, end='\\n\\n')\n",
    "\n",
    "print(a @ identity_matrix, end='\\n\\n')\n",
    "print(a @ identity_matrix == a, end='\\n\\n')\n",
    "\n",
    "print('Checking the equality of arrays (method 1):',\n",
    "      (a @ identity_matrix == a).all())\n",
    "\n",
    "print('Checking the equality of arrays (method 2):',\n",
    "      np.allclose(a @ identity_matrix, a))"
   ]
  },
  {
   "cell_type": "code",
   "execution_count": 156,
   "id": "c3ee3450",
   "metadata": {},
   "outputs": [
    {
     "name": "stdout",
     "output_type": "stream",
     "text": [
      "First Method 5.0\n",
      "Second Method 5.0\n"
     ]
    }
   ],
   "source": [
    "# Norm\n",
    "x = np.array([4, 3])\n",
    "print('First Method', np.linalg.norm(x))\n",
    "print('Second Method', np.sqrt(x @ x.T))"
   ]
  },
  {
   "cell_type": "code",
   "execution_count": 158,
   "id": "999a7b87",
   "metadata": {},
   "outputs": [
    {
     "name": "stdout",
     "output_type": "stream",
     "text": [
      "det(A) = 40.0\n",
      "Tr(A) =  2\n",
      "Tr(A) =  2\n",
      "Rank(A) = 3\n",
      "A ^ 2 = [[-5 10  0]\n",
      " [ 6 -1 10]\n",
      " [29 -4 20]]\n"
     ]
    }
   ],
   "source": [
    "A = np.array([[1, -3, 2],\n",
    "              [4, -1, 2],\n",
    "              [3, 5, 2]])\n",
    "\n",
    "# Детерминант матрицы\n",
    "print('det(A) =', np.linalg.det(A))\n",
    "\n",
    "# След матрицы\n",
    "print('Tr(A) = ', np.trace(A))\n",
    "print('Tr(A) = ', np.sum(np.diag(A)))\n",
    "\n",
    "# Ранг матрицы\n",
    "print('Rank(A) =', np.linalg.matrix_rank(A))\n",
    "\n",
    "# Степень матрицы\n",
    "print('A ^ 2 =', np.linalg.matrix_power(A, 2))"
   ]
  },
  {
   "cell_type": "code",
   "execution_count": 159,
   "id": "57989a4a",
   "metadata": {},
   "outputs": [
    {
     "name": "stdout",
     "output_type": "stream",
     "text": [
      "[2. 3.]\n",
      "\n",
      "True\n",
      "[9. 8.]\n"
     ]
    }
   ],
   "source": [
    "# solving a*x=b linear equation\n",
    "\n",
    "a = np.array([[3, 1],\n",
    "              [1, 2]])\n",
    "\n",
    "b = np.array([9, 8])\n",
    "\n",
    "x = np.linalg.solve(a, b)\n",
    "print(x, end='\\n\\n')\n",
    "\n",
    "# checking the solution\n",
    "print(np.allclose(a @ x, b))\n",
    "print(a @ x)"
   ]
  },
  {
   "cell_type": "code",
   "execution_count": 160,
   "id": "f075f409",
   "metadata": {},
   "outputs": [
    {
     "name": "stdout",
     "output_type": "stream",
     "text": [
      "Eigenvalues: [2. 3. 4.]\n",
      "Eigenvectors as columns:\n",
      " [[1.         0.         0.72760688]\n",
      " [0.         1.         0.48507125]\n",
      " [0.         0.         0.48507125]]\n",
      "[2. 3. 4.]\n",
      "det(A) =  23.999999999999993\n",
      "det(A) =  24.0\n",
      "Tr(A) =  9.0\n",
      "Tr(A) =  9\n"
     ]
    }
   ],
   "source": [
    "A = np.array([[2, 0, 3],\n",
    "              [0, 3, 1],\n",
    "              [0, 0, 4]])\n",
    "\n",
    "eigenvalues, eigenvectors = np.linalg.eig(A)\n",
    "\n",
    "print('Eigenvalues:', eigenvalues)\n",
    "print('Eigenvectors as columns:\\n', eigenvectors)\n",
    "print(np.linalg.eigvals(A))\n",
    "\n",
    "# checking the above\n",
    "print('det(A) = ', np.linalg.det(A))\n",
    "print('det(A) = ', np.prod(eigenvalues))\n",
    "print('Tr(A) = ', np.sum(eigenvalues))\n",
    "print('Tr(A) = ', np.trace(A))"
   ]
  },
  {
   "cell_type": "code",
   "execution_count": 161,
   "id": "b17b1cbf",
   "metadata": {},
   "outputs": [
    {
     "name": "stdout",
     "output_type": "stream",
     "text": [
      "[[2. 0. 3.]\n",
      " [0. 3. 1.]\n",
      " [0. 0. 4.]]\n"
     ]
    }
   ],
   "source": [
    "# Eigendecomposition\n",
    "D = np.diag(eigenvalues)\n",
    "print(eigenvectors @ D @ np.linalg.inv(eigenvectors))"
   ]
  },
  {
   "cell_type": "code",
   "execution_count": 162,
   "id": "8977a50e",
   "metadata": {},
   "outputs": [
    {
     "name": "stdout",
     "output_type": "stream",
     "text": [
      "[[1.41421356 0.        ]\n",
      " [0.70710678 1.87082869]]\n",
      "\n",
      "A = L * L^T: True\n",
      "[[2. 1.]\n",
      " [1. 4.]]\n"
     ]
    }
   ],
   "source": [
    "# Cholesky Decomposition\n",
    "A = np.array([[2, 1],\n",
    "              [1, 4]])\n",
    "\n",
    "L = np.linalg.cholesky(A)\n",
    "print(L, end='\\n\\n')\n",
    "\n",
    "print('A = L * L^T:', np.allclose(A, L @ L.T))\n",
    "print(L @ L.T)"
   ]
  },
  {
   "cell_type": "code",
   "execution_count": 163,
   "id": "0748cb2a",
   "metadata": {},
   "outputs": [
    {
     "name": "stdout",
     "output_type": "stream",
     "text": [
      "u:\n",
      "(2, 2)\n",
      "[[-0.3863177  -0.92236578]\n",
      " [-0.92236578  0.3863177 ]]\n",
      "\n",
      "s:\n",
      "(2,)\n",
      "[9.508032   0.77286964]\n",
      "\n",
      "vh:\n",
      "(3, 3)\n",
      "[[-0.42866713 -0.56630692 -0.7039467 ]\n",
      " [ 0.80596391  0.11238241 -0.58119908]\n",
      " [ 0.40824829 -0.81649658  0.40824829]]\n",
      "\n",
      "[[9.508032   0.         0.        ]\n",
      " [0.         0.77286964 0.        ]]\n",
      "[[1. 2. 3.]\n",
      " [4. 5. 6.]]\n"
     ]
    }
   ],
   "source": [
    "# Singular Value Decomposition\n",
    "A = np.array([[1, 2, 3],\n",
    "              [4, 5, 6]])\n",
    "\n",
    "u, s, vh = np.linalg.svd(A)\n",
    "\n",
    "print('u:', u.shape, u, sep='\\n', end='\\n\\n')\n",
    "print('s:', s.shape, s, sep='\\n', end='\\n\\n')\n",
    "print('vh:', vh.shape, vh, sep='\\n', end='\\n\\n')\n",
    "\n",
    "S = np.hstack((np.diag(s), np.zeros((2, 1))))\n",
    "print(S)\n",
    "print(u @ S @ vh)"
   ]
  },
  {
   "cell_type": "code",
   "execution_count": 212,
   "id": "dd4ce873",
   "metadata": {},
   "outputs": [],
   "source": [
    "m = np.array([[5, 6, 3],\n",
    "              [-1, 0, 1],\n",
    "              [1, 2, -1]])"
   ]
  },
  {
   "cell_type": "code",
   "execution_count": 213,
   "id": "d51584ed-d486-4f63-ad7a-7866211ce2a0",
   "metadata": {},
   "outputs": [
    {
     "data": {
      "text/plain": [
       "-15.999999999999991"
      ]
     },
     "execution_count": 213,
     "metadata": {},
     "output_type": "execute_result"
    }
   ],
   "source": [
    "np.linalg.det(m)"
   ]
  },
  {
   "cell_type": "code",
   "execution_count": 218,
   "id": "cf164e11-e7d3-42de-9c97-f19bb40597bb",
   "metadata": {},
   "outputs": [
    {
     "data": {
      "text/plain": [
       "array([[1., 0., 0.],\n",
       "       [0., 1., 0.],\n",
       "       [0., 0., 1.]])"
      ]
     },
     "execution_count": 218,
     "metadata": {},
     "output_type": "execute_result"
    }
   ],
   "source": [
    "np.abs(np.round(np.linalg.inv(m) @ m, 10))"
   ]
  },
  {
   "cell_type": "code",
   "execution_count": 219,
   "id": "dea5e84b-15f2-497b-805d-fb78a481f557",
   "metadata": {},
   "outputs": [],
   "source": [
    "eigvals, eigvects = np.linalg.eig(m)"
   ]
  },
  {
   "cell_type": "code",
   "execution_count": 220,
   "id": "665cf228-f512-4bd4-b6a7-d2d99c682b56",
   "metadata": {},
   "outputs": [
    {
     "data": {
      "text/plain": [
       "array([-2.,  4.,  2.])"
      ]
     },
     "execution_count": 220,
     "metadata": {},
     "output_type": "execute_result"
    }
   ],
   "source": [
    "eigvals"
   ]
  },
  {
   "cell_type": "code",
   "execution_count": 221,
   "id": "c862ed57-7ffb-41c7-8b43-1d2b66ad398a",
   "metadata": {},
   "outputs": [
    {
     "data": {
      "text/plain": [
       "array([[-3.15975012e-16, -9.70494959e-01, -8.94427191e-01],\n",
       "       [-4.47213595e-01,  2.15665546e-01,  4.47213595e-01],\n",
       "       [ 8.94427191e-01, -1.07832773e-01, -3.18938141e-16]])"
      ]
     },
     "execution_count": 221,
     "metadata": {},
     "output_type": "execute_result"
    }
   ],
   "source": [
    "eigvects"
   ]
  },
  {
   "cell_type": "code",
   "execution_count": 228,
   "id": "cef9b8c4-fc6e-4f0a-928c-b7436b121e85",
   "metadata": {},
   "outputs": [
    {
     "data": {
      "text/plain": [
       "1.0"
      ]
     },
     "execution_count": 228,
     "metadata": {},
     "output_type": "execute_result"
    }
   ],
   "source": [
    "(eigvects[:, 0] ** 2).sum() ** 0.5"
   ]
  },
  {
   "cell_type": "code",
   "id": "2e239f1e-0d78-45fe-9b73-d13c2f3c6e54",
   "metadata": {
    "ExecuteTime": {
     "end_time": "2025-09-14T17:31:16.453339Z",
     "start_time": "2025-09-14T17:31:16.444149Z"
    }
   },
   "source": [
    "(m == 0).sum()"
   ],
   "outputs": [
    {
     "data": {
      "text/plain": [
       "np.int64(0)"
      ]
     },
     "execution_count": 5,
     "metadata": {},
     "output_type": "execute_result"
    }
   ],
   "execution_count": 5
  },
  {
   "cell_type": "code",
   "execution_count": null,
   "id": "7494343f-fdcf-4bf4-8c0b-6869936df7cd",
   "metadata": {},
   "outputs": [],
   "source": []
  }
 ],
 "metadata": {
  "kernelspec": {
   "display_name": "Python 3 (ipykernel)",
   "language": "python",
   "name": "python3"
  },
  "language_info": {
   "codemirror_mode": {
    "name": "ipython",
    "version": 3
   },
   "file_extension": ".py",
   "mimetype": "text/x-python",
   "name": "python",
   "nbconvert_exporter": "python",
   "pygments_lexer": "ipython3",
   "version": "3.12.5"
  }
 },
 "nbformat": 4,
 "nbformat_minor": 5
}

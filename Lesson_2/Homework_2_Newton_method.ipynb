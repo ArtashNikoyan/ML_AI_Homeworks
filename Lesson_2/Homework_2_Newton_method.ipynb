{
 "cells": [
  {
   "cell_type": "code",
   "execution_count": 1,
   "id": "5bc38bbb-35d9-4e96-9ed1-adef0a92ce4f",
   "metadata": {},
   "outputs": [],
   "source": [
    "import numpy as np"
   ]
  },
  {
   "cell_type": "code",
   "execution_count": 2,
   "id": "3aa523c7-da68-405a-839f-aade9f4a5005",
   "metadata": {},
   "outputs": [],
   "source": [
    "def f(x):\n",
    "    return x ** 5 - 3 * x ** 4 - 5 * x ** 3 + 15 * x ** 2 + 4 * x - 12"
   ]
  },
  {
   "cell_type": "code",
   "execution_count": 3,
   "id": "157089db-e449-4c68-923e-80a874f50017",
   "metadata": {},
   "outputs": [],
   "source": [
    "def df(x):\n",
    "    return 5 * x ** 4 - 12 * x ** 3 - 15 * x ** 2 + 30 * x + 4"
   ]
  },
  {
   "cell_type": "code",
   "execution_count": 4,
   "id": "137a7fc2-efd0-4d58-8778-1feea3e6c16d",
   "metadata": {},
   "outputs": [],
   "source": [
    "def newton(f, df, x0, it=20):\n",
    "    for i in range(1, it + 1):\n",
    "        if x0 == 0:\n",
    "            return None\n",
    "        x0 = x0 - f(x0) / df(x0)\n",
    "    return x0"
   ]
  },
  {
   "cell_type": "code",
   "execution_count": 5,
   "id": "5d2b0093-b842-4752-ac4f-7dbea234a80f",
   "metadata": {},
   "outputs": [],
   "source": [
    "def get_all_solutions(f, df, x_min=-10, x_max=10, it=20):\n",
    "    sols = set()\n",
    "    for x0 in np.arange(x_min, x_max + 1, 0.5):\n",
    "        x_s = newton(f, df, x0, it)\n",
    "        if x_s is not None and round(x_s, 10) not in sols:\n",
    "            sols.add(round(x_s, 10))\n",
    "    return sols"
   ]
  },
  {
   "cell_type": "code",
   "execution_count": 6,
   "id": "ec2c0cc6-e01c-4952-ae22-2f80791da3a6",
   "metadata": {},
   "outputs": [
    {
     "data": {
      "text/plain": [
       "{np.float64(-2.0),\n",
       " np.float64(-1.0),\n",
       " np.float64(1.0),\n",
       " np.float64(2.0),\n",
       " np.float64(3.0)}"
      ]
     },
     "execution_count": 6,
     "metadata": {},
     "output_type": "execute_result"
    }
   ],
   "source": [
    "get_all_solutions(f, df)"
   ]
  },
  {
   "cell_type": "code",
   "execution_count": null,
   "id": "dacf02e0-e9c0-4828-adad-7c2f57e28d70",
   "metadata": {},
   "outputs": [],
   "source": []
  }
 ],
 "metadata": {
  "kernelspec": {
   "display_name": "Python 3 (ipykernel)",
   "language": "python",
   "name": "python3"
  },
  "language_info": {
   "codemirror_mode": {
    "name": "ipython",
    "version": 3
   },
   "file_extension": ".py",
   "mimetype": "text/x-python",
   "name": "python",
   "nbconvert_exporter": "python",
   "pygments_lexer": "ipython3",
   "version": "3.12.4"
  }
 },
 "nbformat": 4,
 "nbformat_minor": 5
}

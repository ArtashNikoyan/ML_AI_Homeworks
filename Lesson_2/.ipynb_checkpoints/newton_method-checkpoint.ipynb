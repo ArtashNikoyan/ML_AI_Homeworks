{
 "cells": [
  {
   "cell_type": "code",
   "execution_count": 11,
   "id": "90919807-4547-4a02-a2bc-0cd0b0d5b675",
   "metadata": {},
   "outputs": [],
   "source": [
    "import numpy as np"
   ]
  },
  {
   "cell_type": "code",
   "execution_count": 48,
   "id": "6fcb5a7b-aca5-4432-a689-7e92defcb78d",
   "metadata": {},
   "outputs": [],
   "source": [
    "def f1(x):\n",
    "    return x ** 2 - 2 * x - 3"
   ]
  },
  {
   "cell_type": "code",
   "execution_count": 49,
   "id": "ea60344c-e972-40a3-a489-f28e9974626b",
   "metadata": {},
   "outputs": [],
   "source": [
    "def df1(x):\n",
    "    return 2 * x - 2"
   ]
  },
  {
   "cell_type": "code",
   "execution_count": 50,
   "id": "ee86e478-1041-4bd9-af7e-95260b130276",
   "metadata": {},
   "outputs": [],
   "source": [
    "def newton(f, df, x0, it=20):\n",
    "    for i in range(1, it+1):\n",
    "        if df(x0) == 0:\n",
    "            return None\n",
    "        x0 = x0 - f(x0) / df(x0)\n",
    "        # print(i, x0)\n",
    "    return x0"
   ]
  },
  {
   "cell_type": "code",
   "execution_count": 51,
   "id": "bb1a9463-9430-4065-8e42-e4aa5b813616",
   "metadata": {},
   "outputs": [],
   "source": [
    "def find_all_solutions(f, df, x_min=-10, x_max=10, it=20, r=10):\n",
    "    s = set()\n",
    "    for x0 in np.arange(x_min, x_max + 1, 0.5):\n",
    "        x_s = newton(f, df, x0, it=it)\n",
    "        if x_s is not None and round(x_s, r) not in s:\n",
    "            s.add(round(x_s, r))\n",
    "    return s"
   ]
  },
  {
   "cell_type": "code",
   "execution_count": 52,
   "id": "825eb35b-0508-47d0-9edc-2e9f164af9f6",
   "metadata": {},
   "outputs": [
    {
     "data": {
      "text/plain": [
       "{-1.0, 3.0}"
      ]
     },
     "execution_count": 52,
     "metadata": {},
     "output_type": "execute_result"
    }
   ],
   "source": [
    "find_all_solutions(f1, df1)"
   ]
  },
  {
   "cell_type": "code",
   "execution_count": 53,
   "id": "29d3e0a6-55a9-461e-bd4d-f55c94c70b40",
   "metadata": {},
   "outputs": [],
   "source": [
    "def f2(x):\n",
    "    return x ** 3 - 6 * x ** 2 + 11 * x - 6 "
   ]
  },
  {
   "cell_type": "code",
   "execution_count": 54,
   "id": "47885ec4-70e8-4476-ae70-a268b0c1d71d",
   "metadata": {},
   "outputs": [],
   "source": [
    "def df2(x):\n",
    "    return 3 * x ** 2 - 12 * x + 11"
   ]
  },
  {
   "cell_type": "code",
   "execution_count": 55,
   "id": "dc4b8aab-67b5-463f-9b2f-a5e825caca97",
   "metadata": {},
   "outputs": [
    {
     "data": {
      "text/plain": [
       "{1.0, 2.0, 3.0}"
      ]
     },
     "execution_count": 55,
     "metadata": {},
     "output_type": "execute_result"
    }
   ],
   "source": [
    "find_all_solutions(f2, df2)"
   ]
  },
  {
   "cell_type": "code",
   "execution_count": null,
   "id": "ff5e049e-752c-4d4e-9abe-e724d39e6fef",
   "metadata": {},
   "outputs": [],
   "source": []
  }
 ],
 "metadata": {
  "kernelspec": {
   "display_name": "Python 3 (ipykernel)",
   "language": "python",
   "name": "python3"
  },
  "language_info": {
   "codemirror_mode": {
    "name": "ipython",
    "version": 3
   },
   "file_extension": ".py",
   "mimetype": "text/x-python",
   "name": "python",
   "nbconvert_exporter": "python",
   "pygments_lexer": "ipython3",
   "version": "3.12.5"
  }
 },
 "nbformat": 4,
 "nbformat_minor": 5
}
